{
 "cells": [
  {
   "cell_type": "markdown",
   "id": "168b0555",
   "metadata": {},
   "source": [
    "# Imports"
   ]
  },
  {
   "cell_type": "code",
   "execution_count": null,
   "id": "20231150",
   "metadata": {},
   "outputs": [],
   "source": []
  },
  {
   "cell_type": "markdown",
   "id": "7237b6fe",
   "metadata": {},
   "source": [
    "Analyse de la parité au sein d'une entreprise :\n",
    "- Qui est le client : l'entreprise en question\n",
    "-  Objectif : leur faire une analyse globale sur la parité au sein de leur entreprise, que ce soit en termes de salaire, de bonus, dans les domaines d’activités etc."
   ]
  },
  {
   "cell_type": "markdown",
   "id": "008bd685",
   "metadata": {},
   "source": [
    "## Import des librairies"
   ]
  },
  {
   "cell_type": "code",
   "execution_count": 264,
   "id": "c175c226",
   "metadata": {},
   "outputs": [],
   "source": [
    "import pandas as pd \n",
    "import numpy as np\n",
    "import seaborn as sns\n",
    "import matplotlib.pyplot as plt\n",
    "import plotly.graph_objects as go"
   ]
  },
  {
   "cell_type": "markdown",
   "id": "98f9b7e7",
   "metadata": {},
   "source": [
    "## Import des datasets"
   ]
  },
  {
   "cell_type": "code",
   "execution_count": 265,
   "id": "e83bedc0",
   "metadata": {},
   "outputs": [],
   "source": [
    "info_pro = pd.read_excel(\"info_pro.xlsx\", engine = \"openpyxl\")"
   ]
  },
  {
   "cell_type": "code",
   "execution_count": 266,
   "id": "159738dc",
   "metadata": {},
   "outputs": [],
   "source": [
    "remuneration = pd.read_excel(\"remuneration.xlsx\")"
   ]
  },
  {
   "cell_type": "code",
   "execution_count": 267,
   "id": "379eca95",
   "metadata": {},
   "outputs": [],
   "source": [
    "salaries = pd.read_excel(\"Salariés.xlsx\")"
   ]
  },
  {
   "cell_type": "markdown",
   "id": "a33fac23",
   "metadata": {},
   "source": [
    "# Cleaning"
   ]
  },
  {
   "cell_type": "markdown",
   "id": "c1f25821",
   "metadata": {},
   "source": [
    "L'objectif est de nettoyer mes données pour qu'elles soient prêtes pour la vizualisation "
   ]
  },
  {
   "cell_type": "markdown",
   "id": "71419f85",
   "metadata": {},
   "source": [
    "## nettoyage du dataframe info_pro "
   ]
  },
  {
   "cell_type": "code",
   "execution_count": 268,
   "id": "5be6bd68",
   "metadata": {},
   "outputs": [
    {
     "data": {
      "text/html": [
       "<div>\n",
       "<style scoped>\n",
       "    .dataframe tbody tr th:only-of-type {\n",
       "        vertical-align: middle;\n",
       "    }\n",
       "\n",
       "    .dataframe tbody tr th {\n",
       "        vertical-align: top;\n",
       "    }\n",
       "\n",
       "    .dataframe thead th {\n",
       "        text-align: right;\n",
       "    }\n",
       "</style>\n",
       "<table border=\"1\" class=\"dataframe\">\n",
       "  <thead>\n",
       "    <tr style=\"text-align: right;\">\n",
       "      <th></th>\n",
       "      <th>id_salarié</th>\n",
       "      <th>Ancienneté_an</th>\n",
       "      <th>Distance domicile/Travail</th>\n",
       "      <th>Service</th>\n",
       "      <th>Work_accident</th>\n",
       "      <th>Niveau de satisfaction</th>\n",
       "    </tr>\n",
       "  </thead>\n",
       "  <tbody>\n",
       "    <tr>\n",
       "      <th>0</th>\n",
       "      <td>16000206-8278</td>\n",
       "      <td>12.6</td>\n",
       "      <td>59.0</td>\n",
       "      <td>Marketing</td>\n",
       "      <td>Non</td>\n",
       "      <td>67.0</td>\n",
       "    </tr>\n",
       "    <tr>\n",
       "      <th>1</th>\n",
       "      <td>16011205-0331</td>\n",
       "      <td>11.8</td>\n",
       "      <td>31.0</td>\n",
       "      <td>Commercial</td>\n",
       "      <td>Oui</td>\n",
       "      <td>66.0</td>\n",
       "    </tr>\n",
       "    <tr>\n",
       "      <th>2</th>\n",
       "      <td>16020327-1465</td>\n",
       "      <td>11.9</td>\n",
       "      <td>65.0</td>\n",
       "      <td>RH</td>\n",
       "      <td>Non</td>\n",
       "      <td>59.0</td>\n",
       "    </tr>\n",
       "    <tr>\n",
       "      <th>3</th>\n",
       "      <td>16020701-3376</td>\n",
       "      <td>10.2</td>\n",
       "      <td>59.0</td>\n",
       "      <td>Compta Finances</td>\n",
       "      <td>Non</td>\n",
       "      <td>60.0</td>\n",
       "    </tr>\n",
       "    <tr>\n",
       "      <th>4</th>\n",
       "      <td>16020725-8401</td>\n",
       "      <td>7.9</td>\n",
       "      <td>59.0</td>\n",
       "      <td>Consultant</td>\n",
       "      <td>Non</td>\n",
       "      <td>34.0</td>\n",
       "    </tr>\n",
       "    <tr>\n",
       "      <th>...</th>\n",
       "      <td>...</td>\n",
       "      <td>...</td>\n",
       "      <td>...</td>\n",
       "      <td>...</td>\n",
       "      <td>...</td>\n",
       "      <td>...</td>\n",
       "    </tr>\n",
       "    <tr>\n",
       "      <th>252</th>\n",
       "      <td>16960906-7989</td>\n",
       "      <td>3.3</td>\n",
       "      <td>15.0</td>\n",
       "      <td>R&amp;D</td>\n",
       "      <td>Oui</td>\n",
       "      <td>81.0</td>\n",
       "    </tr>\n",
       "    <tr>\n",
       "      <th>253</th>\n",
       "      <td>16970415-1050</td>\n",
       "      <td>21.7</td>\n",
       "      <td>59.0</td>\n",
       "      <td>Consultant</td>\n",
       "      <td>Non</td>\n",
       "      <td>98.0</td>\n",
       "    </tr>\n",
       "    <tr>\n",
       "      <th>254</th>\n",
       "      <td>16981206-3817</td>\n",
       "      <td>13.0</td>\n",
       "      <td>68.0</td>\n",
       "      <td>RH</td>\n",
       "      <td>Oui</td>\n",
       "      <td>62.0</td>\n",
       "    </tr>\n",
       "    <tr>\n",
       "      <th>255</th>\n",
       "      <td>16990414-3527</td>\n",
       "      <td>10.8</td>\n",
       "      <td>32.0</td>\n",
       "      <td>Consultant</td>\n",
       "      <td>Non</td>\n",
       "      <td>39.0</td>\n",
       "    </tr>\n",
       "    <tr>\n",
       "      <th>256</th>\n",
       "      <td>16990924-2829</td>\n",
       "      <td>22.5</td>\n",
       "      <td>69.0</td>\n",
       "      <td>Consultant</td>\n",
       "      <td>Non</td>\n",
       "      <td>60.0</td>\n",
       "    </tr>\n",
       "  </tbody>\n",
       "</table>\n",
       "<p>257 rows × 6 columns</p>\n",
       "</div>"
      ],
      "text/plain": [
       "        id_salarié  Ancienneté_an  Distance domicile/Travail          Service  \\\n",
       "0    16000206-8278           12.6                       59.0        Marketing   \n",
       "1    16011205-0331           11.8                       31.0       Commercial   \n",
       "2    16020327-1465           11.9                       65.0               RH   \n",
       "3    16020701-3376           10.2                       59.0  Compta Finances   \n",
       "4    16020725-8401            7.9                       59.0       Consultant   \n",
       "..             ...            ...                        ...              ...   \n",
       "252  16960906-7989            3.3                       15.0              R&D   \n",
       "253  16970415-1050           21.7                       59.0       Consultant   \n",
       "254  16981206-3817           13.0                       68.0               RH   \n",
       "255  16990414-3527           10.8                       32.0       Consultant   \n",
       "256  16990924-2829           22.5                       69.0       Consultant   \n",
       "\n",
       "    Work_accident  Niveau de satisfaction  \n",
       "0             Non                    67.0  \n",
       "1             Oui                    66.0  \n",
       "2             Non                    59.0  \n",
       "3             Non                    60.0  \n",
       "4             Non                    34.0  \n",
       "..            ...                     ...  \n",
       "252           Oui                    81.0  \n",
       "253           Non                    98.0  \n",
       "254           Oui                    62.0  \n",
       "255           Non                    39.0  \n",
       "256           Non                    60.0  \n",
       "\n",
       "[257 rows x 6 columns]"
      ]
     },
     "execution_count": 268,
     "metadata": {},
     "output_type": "execute_result"
    }
   ],
   "source": [
    "info_pro"
   ]
  },
  {
   "cell_type": "markdown",
   "id": "14c2a6d5",
   "metadata": {},
   "source": [
    "Basic information about the data with info and describe "
   ]
  },
  {
   "cell_type": "code",
   "execution_count": 269,
   "id": "0554d030",
   "metadata": {
    "scrolled": true
   },
   "outputs": [
    {
     "name": "stdout",
     "output_type": "stream",
     "text": [
      "<class 'pandas.core.frame.DataFrame'>\n",
      "RangeIndex: 257 entries, 0 to 256\n",
      "Data columns (total 6 columns):\n",
      " #   Column                     Non-Null Count  Dtype  \n",
      "---  ------                     --------------  -----  \n",
      " 0   id_salarié                 257 non-null    object \n",
      " 1   Ancienneté_an              256 non-null    float64\n",
      " 2   Distance domicile/Travail  256 non-null    float64\n",
      " 3   Service                    256 non-null    object \n",
      " 4   Work_accident              256 non-null    object \n",
      " 5   Niveau de satisfaction     256 non-null    float64\n",
      "dtypes: float64(3), object(3)\n",
      "memory usage: 12.2+ KB\n"
     ]
    }
   ],
   "source": [
    "info_pro.info()"
   ]
  },
  {
   "cell_type": "markdown",
   "id": "e050e023",
   "metadata": {},
   "source": [
    "- ce dataframe possède 6 colonnes, 257 lignes.\n",
    "- on peut déjà voir que la dernière ligne possèdent un id_salarié, mais que toutes ces autres cellules sont des valeurs manquantes\n",
    "- A part ça on peut supposer qu'il n'y a pas de NaN"
   ]
  },
  {
   "cell_type": "code",
   "execution_count": 270,
   "id": "623e0749",
   "metadata": {},
   "outputs": [
    {
     "data": {
      "text/html": [
       "<div>\n",
       "<style scoped>\n",
       "    .dataframe tbody tr th:only-of-type {\n",
       "        vertical-align: middle;\n",
       "    }\n",
       "\n",
       "    .dataframe tbody tr th {\n",
       "        vertical-align: top;\n",
       "    }\n",
       "\n",
       "    .dataframe thead th {\n",
       "        text-align: right;\n",
       "    }\n",
       "</style>\n",
       "<table border=\"1\" class=\"dataframe\">\n",
       "  <thead>\n",
       "    <tr style=\"text-align: right;\">\n",
       "      <th></th>\n",
       "      <th>Ancienneté_an</th>\n",
       "      <th>Distance domicile/Travail</th>\n",
       "      <th>Niveau de satisfaction</th>\n",
       "    </tr>\n",
       "  </thead>\n",
       "  <tbody>\n",
       "    <tr>\n",
       "      <th>count</th>\n",
       "      <td>256.000000</td>\n",
       "      <td>256.000000</td>\n",
       "      <td>256.000000</td>\n",
       "    </tr>\n",
       "    <tr>\n",
       "      <th>mean</th>\n",
       "      <td>13.160938</td>\n",
       "      <td>38.433594</td>\n",
       "      <td>50.687500</td>\n",
       "    </tr>\n",
       "    <tr>\n",
       "      <th>std</th>\n",
       "      <td>7.020684</td>\n",
       "      <td>19.834301</td>\n",
       "      <td>27.837413</td>\n",
       "    </tr>\n",
       "    <tr>\n",
       "      <th>min</th>\n",
       "      <td>0.300000</td>\n",
       "      <td>3.000000</td>\n",
       "      <td>1.000000</td>\n",
       "    </tr>\n",
       "    <tr>\n",
       "      <th>25%</th>\n",
       "      <td>7.375000</td>\n",
       "      <td>22.000000</td>\n",
       "      <td>30.000000</td>\n",
       "    </tr>\n",
       "    <tr>\n",
       "      <th>50%</th>\n",
       "      <td>12.750000</td>\n",
       "      <td>40.500000</td>\n",
       "      <td>50.500000</td>\n",
       "    </tr>\n",
       "    <tr>\n",
       "      <th>75%</th>\n",
       "      <td>19.300000</td>\n",
       "      <td>57.000000</td>\n",
       "      <td>73.000000</td>\n",
       "    </tr>\n",
       "    <tr>\n",
       "      <th>max</th>\n",
       "      <td>25.000000</td>\n",
       "      <td>70.000000</td>\n",
       "      <td>100.000000</td>\n",
       "    </tr>\n",
       "  </tbody>\n",
       "</table>\n",
       "</div>"
      ],
      "text/plain": [
       "       Ancienneté_an  Distance domicile/Travail  Niveau de satisfaction\n",
       "count     256.000000                 256.000000              256.000000\n",
       "mean       13.160938                  38.433594               50.687500\n",
       "std         7.020684                  19.834301               27.837413\n",
       "min         0.300000                   3.000000                1.000000\n",
       "25%         7.375000                  22.000000               30.000000\n",
       "50%        12.750000                  40.500000               50.500000\n",
       "75%        19.300000                  57.000000               73.000000\n",
       "max        25.000000                  70.000000              100.000000"
      ]
     },
     "execution_count": 270,
     "metadata": {},
     "output_type": "execute_result"
    }
   ],
   "source": [
    "info_pro.describe()"
   ]
  },
  {
   "cell_type": "markdown",
   "id": "b15b0141",
   "metadata": {},
   "source": [
    "vérifions qu'il n'y a pas de duplicates"
   ]
  },
  {
   "cell_type": "code",
   "execution_count": 271,
   "id": "945515bb",
   "metadata": {},
   "outputs": [
    {
     "data": {
      "text/plain": [
       "0"
      ]
     },
     "execution_count": 271,
     "metadata": {},
     "output_type": "execute_result"
    }
   ],
   "source": [
    "info_pro.duplicated().sum()"
   ]
  },
  {
   "cell_type": "markdown",
   "id": "b396d36d",
   "metadata": {},
   "source": [
    "La function retourne 0, il n'y a donc pas de duplicates dans ce dataframe"
   ]
  },
  {
   "cell_type": "markdown",
   "id": "a4df4058",
   "metadata": {},
   "source": [
    "Verifions qs'il y'a des valeurs manaquantes dans nos colonnes "
   ]
  },
  {
   "cell_type": "code",
   "execution_count": 272,
   "id": "0d65da88",
   "metadata": {},
   "outputs": [
    {
     "data": {
      "text/plain": [
       "id_salarié                   0\n",
       "Ancienneté_an                1\n",
       "Distance domicile/Travail    1\n",
       "Service                      1\n",
       "Work_accident                1\n",
       "Niveau de satisfaction       1\n",
       "dtype: int64"
      ]
     },
     "execution_count": 272,
     "metadata": {},
     "output_type": "execute_result"
    }
   ],
   "source": [
    "info_pro.isnull().sum()"
   ]
  },
  {
   "cell_type": "markdown",
   "id": "a823f068",
   "metadata": {},
   "source": [
    "Ok, il y'a bien une lignes qui ne possède aucune information à part l'ID du salarié"
   ]
  },
  {
   "cell_type": "markdown",
   "id": "60ae8dde",
   "metadata": {},
   "source": [
    "remplaçons les valeurs manquantes de cette ligne par la moyenne"
   ]
  },
  {
   "cell_type": "code",
   "execution_count": 273,
   "id": "ab4ed380",
   "metadata": {},
   "outputs": [],
   "source": [
    "info_pro_no_nan = info_pro.fillna(np.mean)"
   ]
  },
  {
   "cell_type": "code",
   "execution_count": 274,
   "id": "0f458f6f",
   "metadata": {},
   "outputs": [
    {
     "data": {
      "text/plain": [
       "id_salarié                   0\n",
       "Ancienneté_an                0\n",
       "Distance domicile/Travail    0\n",
       "Service                      0\n",
       "Work_accident                0\n",
       "Niveau de satisfaction       0\n",
       "dtype: int64"
      ]
     },
     "execution_count": 274,
     "metadata": {},
     "output_type": "execute_result"
    }
   ],
   "source": [
    "info_pro_no_nan.isnull().sum()"
   ]
  },
  {
   "cell_type": "markdown",
   "id": "67ed744a",
   "metadata": {},
   "source": [
    "## nettoyage du dataframe remuneration"
   ]
  },
  {
   "cell_type": "code",
   "execution_count": 275,
   "id": "a04aa5e4",
   "metadata": {},
   "outputs": [
    {
     "data": {
      "text/html": [
       "<div>\n",
       "<style scoped>\n",
       "    .dataframe tbody tr th:only-of-type {\n",
       "        vertical-align: middle;\n",
       "    }\n",
       "\n",
       "    .dataframe tbody tr th {\n",
       "        vertical-align: top;\n",
       "    }\n",
       "\n",
       "    .dataframe thead th {\n",
       "        text-align: right;\n",
       "    }\n",
       "</style>\n",
       "<table border=\"1\" class=\"dataframe\">\n",
       "  <thead>\n",
       "    <tr style=\"text-align: right;\">\n",
       "      <th></th>\n",
       "      <th>id_salarié</th>\n",
       "      <th>Contrat</th>\n",
       "      <th>Durée hebdo</th>\n",
       "      <th>Salaire base mensuel</th>\n",
       "      <th>%variable_moyen</th>\n",
       "      <th>Augmentation</th>\n",
       "      <th>Promotion</th>\n",
       "    </tr>\n",
       "  </thead>\n",
       "  <tbody>\n",
       "    <tr>\n",
       "      <th>0</th>\n",
       "      <td>16990924-2829</td>\n",
       "      <td>CDI</td>\n",
       "      <td>35.0</td>\n",
       "      <td>9873.5000</td>\n",
       "      <td>13.0</td>\n",
       "      <td>0.0</td>\n",
       "      <td>0.0</td>\n",
       "    </tr>\n",
       "    <tr>\n",
       "      <th>1</th>\n",
       "      <td>16990414-3527</td>\n",
       "      <td>CDI</td>\n",
       "      <td>35.0</td>\n",
       "      <td>4296.7167</td>\n",
       "      <td>39.0</td>\n",
       "      <td>0.0</td>\n",
       "      <td>1.0</td>\n",
       "    </tr>\n",
       "    <tr>\n",
       "      <th>2</th>\n",
       "      <td>16981206-3817</td>\n",
       "      <td>CDI</td>\n",
       "      <td>35.0</td>\n",
       "      <td>3705.2167</td>\n",
       "      <td>29.0</td>\n",
       "      <td>1.0</td>\n",
       "      <td>1.0</td>\n",
       "    </tr>\n",
       "    <tr>\n",
       "      <th>3</th>\n",
       "      <td>16970415-1050</td>\n",
       "      <td>CDI</td>\n",
       "      <td>35.0</td>\n",
       "      <td>1697.1500</td>\n",
       "      <td>17.0</td>\n",
       "      <td>1.0</td>\n",
       "      <td>0.0</td>\n",
       "    </tr>\n",
       "    <tr>\n",
       "      <th>4</th>\n",
       "      <td>16960906-7989</td>\n",
       "      <td>CDD</td>\n",
       "      <td>35.0</td>\n",
       "      <td>2848.3000</td>\n",
       "      <td>15.0</td>\n",
       "      <td>1.0</td>\n",
       "      <td>0.0</td>\n",
       "    </tr>\n",
       "    <tr>\n",
       "      <th>...</th>\n",
       "      <td>...</td>\n",
       "      <td>...</td>\n",
       "      <td>...</td>\n",
       "      <td>...</td>\n",
       "      <td>...</td>\n",
       "      <td>...</td>\n",
       "      <td>...</td>\n",
       "    </tr>\n",
       "    <tr>\n",
       "      <th>252</th>\n",
       "      <td>16020725-8401</td>\n",
       "      <td>CDI</td>\n",
       "      <td>35.0</td>\n",
       "      <td>7304.2667</td>\n",
       "      <td>17.0</td>\n",
       "      <td>1.0</td>\n",
       "      <td>0.0</td>\n",
       "    </tr>\n",
       "    <tr>\n",
       "      <th>253</th>\n",
       "      <td>16020701-3376</td>\n",
       "      <td>CDI</td>\n",
       "      <td>35.0</td>\n",
       "      <td>8328.0167</td>\n",
       "      <td>14.0</td>\n",
       "      <td>1.0</td>\n",
       "      <td>0.0</td>\n",
       "    </tr>\n",
       "    <tr>\n",
       "      <th>254</th>\n",
       "      <td>16020327-1465</td>\n",
       "      <td>CDI</td>\n",
       "      <td>32.0</td>\n",
       "      <td>8860.8000</td>\n",
       "      <td>19.0</td>\n",
       "      <td>1.0</td>\n",
       "      <td>1.0</td>\n",
       "    </tr>\n",
       "    <tr>\n",
       "      <th>255</th>\n",
       "      <td>16011205-0331</td>\n",
       "      <td>CDI</td>\n",
       "      <td>24.0</td>\n",
       "      <td>4974.3200</td>\n",
       "      <td>32.0</td>\n",
       "      <td>0.0</td>\n",
       "      <td>1.0</td>\n",
       "    </tr>\n",
       "    <tr>\n",
       "      <th>256</th>\n",
       "      <td>16000206-8278</td>\n",
       "      <td>CDI</td>\n",
       "      <td>35.0</td>\n",
       "      <td>6583.8500</td>\n",
       "      <td>13.0</td>\n",
       "      <td>1.0</td>\n",
       "      <td>1.0</td>\n",
       "    </tr>\n",
       "  </tbody>\n",
       "</table>\n",
       "<p>257 rows × 7 columns</p>\n",
       "</div>"
      ],
      "text/plain": [
       "        id_salarié Contrat  Durée hebdo  Salaire base mensuel  \\\n",
       "0    16990924-2829     CDI         35.0             9873.5000   \n",
       "1    16990414-3527     CDI         35.0             4296.7167   \n",
       "2    16981206-3817     CDI         35.0             3705.2167   \n",
       "3    16970415-1050     CDI         35.0             1697.1500   \n",
       "4    16960906-7989     CDD         35.0             2848.3000   \n",
       "..             ...     ...          ...                   ...   \n",
       "252  16020725-8401     CDI         35.0             7304.2667   \n",
       "253  16020701-3376     CDI         35.0             8328.0167   \n",
       "254  16020327-1465     CDI         32.0             8860.8000   \n",
       "255  16011205-0331     CDI         24.0             4974.3200   \n",
       "256  16000206-8278     CDI         35.0             6583.8500   \n",
       "\n",
       "     %variable_moyen  Augmentation  Promotion  \n",
       "0               13.0           0.0        0.0  \n",
       "1               39.0           0.0        1.0  \n",
       "2               29.0           1.0        1.0  \n",
       "3               17.0           1.0        0.0  \n",
       "4               15.0           1.0        0.0  \n",
       "..               ...           ...        ...  \n",
       "252             17.0           1.0        0.0  \n",
       "253             14.0           1.0        0.0  \n",
       "254             19.0           1.0        1.0  \n",
       "255             32.0           0.0        1.0  \n",
       "256             13.0           1.0        1.0  \n",
       "\n",
       "[257 rows x 7 columns]"
      ]
     },
     "execution_count": 275,
     "metadata": {},
     "output_type": "execute_result"
    }
   ],
   "source": [
    "remuneration"
   ]
  },
  {
   "cell_type": "code",
   "execution_count": 276,
   "id": "da68f1dd",
   "metadata": {},
   "outputs": [
    {
     "name": "stdout",
     "output_type": "stream",
     "text": [
      "<class 'pandas.core.frame.DataFrame'>\n",
      "RangeIndex: 257 entries, 0 to 256\n",
      "Data columns (total 7 columns):\n",
      " #   Column                Non-Null Count  Dtype  \n",
      "---  ------                --------------  -----  \n",
      " 0   id_salarié            257 non-null    object \n",
      " 1   Contrat               256 non-null    object \n",
      " 2   Durée hebdo           256 non-null    float64\n",
      " 3   Salaire base mensuel  256 non-null    float64\n",
      " 4   %variable_moyen       256 non-null    float64\n",
      " 5   Augmentation          241 non-null    float64\n",
      " 6   Promotion             241 non-null    float64\n",
      "dtypes: float64(5), object(2)\n",
      "memory usage: 14.2+ KB\n"
     ]
    }
   ],
   "source": [
    "remuneration.info()"
   ]
  },
  {
   "cell_type": "markdown",
   "id": "7015e40b",
   "metadata": {},
   "source": [
    "- 7 colonnes, 257 lignes\n",
    "- On peut déjà apercevoir quelques nan surtout dans les colonnes Augmentation et Promotions\n",
    "- Mais ces NaN sont surement du au faite que ces salariés n'ont pas eu d'augmentation ou de promotion"
   ]
  },
  {
   "cell_type": "code",
   "execution_count": 277,
   "id": "7b268db3",
   "metadata": {},
   "outputs": [
    {
     "data": {
      "text/html": [
       "<div>\n",
       "<style scoped>\n",
       "    .dataframe tbody tr th:only-of-type {\n",
       "        vertical-align: middle;\n",
       "    }\n",
       "\n",
       "    .dataframe tbody tr th {\n",
       "        vertical-align: top;\n",
       "    }\n",
       "\n",
       "    .dataframe thead th {\n",
       "        text-align: right;\n",
       "    }\n",
       "</style>\n",
       "<table border=\"1\" class=\"dataframe\">\n",
       "  <thead>\n",
       "    <tr style=\"text-align: right;\">\n",
       "      <th></th>\n",
       "      <th>Durée hebdo</th>\n",
       "      <th>Salaire base mensuel</th>\n",
       "      <th>%variable_moyen</th>\n",
       "      <th>Augmentation</th>\n",
       "      <th>Promotion</th>\n",
       "    </tr>\n",
       "  </thead>\n",
       "  <tbody>\n",
       "    <tr>\n",
       "      <th>count</th>\n",
       "      <td>256.000000</td>\n",
       "      <td>256.000000</td>\n",
       "      <td>256.000000</td>\n",
       "      <td>241.000000</td>\n",
       "      <td>241.000000</td>\n",
       "    </tr>\n",
       "    <tr>\n",
       "      <th>mean</th>\n",
       "      <td>33.871094</td>\n",
       "      <td>5326.530626</td>\n",
       "      <td>20.027344</td>\n",
       "      <td>0.518672</td>\n",
       "      <td>0.518672</td>\n",
       "    </tr>\n",
       "    <tr>\n",
       "      <th>std</th>\n",
       "      <td>3.203397</td>\n",
       "      <td>2505.493530</td>\n",
       "      <td>11.529809</td>\n",
       "      <td>0.500691</td>\n",
       "      <td>0.500691</td>\n",
       "    </tr>\n",
       "    <tr>\n",
       "      <th>min</th>\n",
       "      <td>24.000000</td>\n",
       "      <td>1059.760000</td>\n",
       "      <td>0.000000</td>\n",
       "      <td>0.000000</td>\n",
       "      <td>0.000000</td>\n",
       "    </tr>\n",
       "    <tr>\n",
       "      <th>25%</th>\n",
       "      <td>35.000000</td>\n",
       "      <td>3111.918325</td>\n",
       "      <td>10.000000</td>\n",
       "      <td>0.000000</td>\n",
       "      <td>0.000000</td>\n",
       "    </tr>\n",
       "    <tr>\n",
       "      <th>50%</th>\n",
       "      <td>35.000000</td>\n",
       "      <td>5084.625000</td>\n",
       "      <td>19.000000</td>\n",
       "      <td>1.000000</td>\n",
       "      <td>1.000000</td>\n",
       "    </tr>\n",
       "    <tr>\n",
       "      <th>75%</th>\n",
       "      <td>35.000000</td>\n",
       "      <td>7407.020850</td>\n",
       "      <td>30.000000</td>\n",
       "      <td>1.000000</td>\n",
       "      <td>1.000000</td>\n",
       "    </tr>\n",
       "    <tr>\n",
       "      <th>max</th>\n",
       "      <td>35.000000</td>\n",
       "      <td>9999.383300</td>\n",
       "      <td>40.000000</td>\n",
       "      <td>1.000000</td>\n",
       "      <td>1.000000</td>\n",
       "    </tr>\n",
       "  </tbody>\n",
       "</table>\n",
       "</div>"
      ],
      "text/plain": [
       "       Durée hebdo  Salaire base mensuel  %variable_moyen  Augmentation  \\\n",
       "count   256.000000            256.000000       256.000000    241.000000   \n",
       "mean     33.871094           5326.530626        20.027344      0.518672   \n",
       "std       3.203397           2505.493530        11.529809      0.500691   \n",
       "min      24.000000           1059.760000         0.000000      0.000000   \n",
       "25%      35.000000           3111.918325        10.000000      0.000000   \n",
       "50%      35.000000           5084.625000        19.000000      1.000000   \n",
       "75%      35.000000           7407.020850        30.000000      1.000000   \n",
       "max      35.000000           9999.383300        40.000000      1.000000   \n",
       "\n",
       "        Promotion  \n",
       "count  241.000000  \n",
       "mean     0.518672  \n",
       "std      0.500691  \n",
       "min      0.000000  \n",
       "25%      0.000000  \n",
       "50%      1.000000  \n",
       "75%      1.000000  \n",
       "max      1.000000  "
      ]
     },
     "execution_count": 277,
     "metadata": {},
     "output_type": "execute_result"
    }
   ],
   "source": [
    "remuneration.describe()"
   ]
  },
  {
   "cell_type": "markdown",
   "id": "9517576f",
   "metadata": {},
   "source": [
    "duplicate ?"
   ]
  },
  {
   "cell_type": "code",
   "execution_count": 278,
   "id": "ceda7ddc",
   "metadata": {},
   "outputs": [
    {
     "data": {
      "text/plain": [
       "0"
      ]
     },
     "execution_count": 278,
     "metadata": {},
     "output_type": "execute_result"
    }
   ],
   "source": [
    "remuneration.duplicated().sum()"
   ]
  },
  {
   "cell_type": "markdown",
   "id": "74f796cc",
   "metadata": {},
   "source": [
    "Il n'y a aucun duplicate"
   ]
  },
  {
   "cell_type": "markdown",
   "id": "8c11bdbc",
   "metadata": {},
   "source": [
    "regardons de plus près nos valeurs manquantes"
   ]
  },
  {
   "cell_type": "code",
   "execution_count": 279,
   "id": "f64eb0ef",
   "metadata": {},
   "outputs": [
    {
     "data": {
      "text/html": [
       "<div>\n",
       "<style scoped>\n",
       "    .dataframe tbody tr th:only-of-type {\n",
       "        vertical-align: middle;\n",
       "    }\n",
       "\n",
       "    .dataframe tbody tr th {\n",
       "        vertical-align: top;\n",
       "    }\n",
       "\n",
       "    .dataframe thead th {\n",
       "        text-align: right;\n",
       "    }\n",
       "</style>\n",
       "<table border=\"1\" class=\"dataframe\">\n",
       "  <thead>\n",
       "    <tr style=\"text-align: right;\">\n",
       "      <th></th>\n",
       "      <th>id_salarié</th>\n",
       "      <th>Contrat</th>\n",
       "      <th>Durée hebdo</th>\n",
       "      <th>Salaire base mensuel</th>\n",
       "      <th>%variable_moyen</th>\n",
       "      <th>Augmentation</th>\n",
       "      <th>Promotion</th>\n",
       "    </tr>\n",
       "  </thead>\n",
       "  <tbody>\n",
       "    <tr>\n",
       "      <th>187</th>\n",
       "      <td>16301224-3147</td>\n",
       "      <td>NaN</td>\n",
       "      <td>NaN</td>\n",
       "      <td>NaN</td>\n",
       "      <td>NaN</td>\n",
       "      <td>NaN</td>\n",
       "      <td>NaN</td>\n",
       "    </tr>\n",
       "  </tbody>\n",
       "</table>\n",
       "</div>"
      ],
      "text/plain": [
       "        id_salarié Contrat  Durée hebdo  Salaire base mensuel  \\\n",
       "187  16301224-3147     NaN          NaN                   NaN   \n",
       "\n",
       "     %variable_moyen  Augmentation  Promotion  \n",
       "187              NaN           NaN        NaN  "
      ]
     },
     "execution_count": 279,
     "metadata": {},
     "output_type": "execute_result"
    }
   ],
   "source": [
    "remuneration.loc[remuneration[\"Contrat\"].isnull()]"
   ]
  },
  {
   "cell_type": "code",
   "execution_count": 280,
   "id": "10195562",
   "metadata": {},
   "outputs": [
    {
     "data": {
      "text/html": [
       "<div>\n",
       "<style scoped>\n",
       "    .dataframe tbody tr th:only-of-type {\n",
       "        vertical-align: middle;\n",
       "    }\n",
       "\n",
       "    .dataframe tbody tr th {\n",
       "        vertical-align: top;\n",
       "    }\n",
       "\n",
       "    .dataframe thead th {\n",
       "        text-align: right;\n",
       "    }\n",
       "</style>\n",
       "<table border=\"1\" class=\"dataframe\">\n",
       "  <thead>\n",
       "    <tr style=\"text-align: right;\">\n",
       "      <th></th>\n",
       "      <th>id_salarié</th>\n",
       "      <th>Contrat</th>\n",
       "      <th>Durée hebdo</th>\n",
       "      <th>Salaire base mensuel</th>\n",
       "      <th>%variable_moyen</th>\n",
       "      <th>Augmentation</th>\n",
       "      <th>Promotion</th>\n",
       "    </tr>\n",
       "  </thead>\n",
       "  <tbody>\n",
       "    <tr>\n",
       "      <th>0</th>\n",
       "      <td>16990924-2829</td>\n",
       "      <td>CDI</td>\n",
       "      <td>35.0</td>\n",
       "      <td>9873.5000</td>\n",
       "      <td>13.0</td>\n",
       "      <td>0.0</td>\n",
       "      <td>0.0</td>\n",
       "    </tr>\n",
       "    <tr>\n",
       "      <th>3</th>\n",
       "      <td>16970415-1050</td>\n",
       "      <td>CDI</td>\n",
       "      <td>35.0</td>\n",
       "      <td>1697.1500</td>\n",
       "      <td>17.0</td>\n",
       "      <td>1.0</td>\n",
       "      <td>0.0</td>\n",
       "    </tr>\n",
       "    <tr>\n",
       "      <th>4</th>\n",
       "      <td>16960906-7989</td>\n",
       "      <td>CDD</td>\n",
       "      <td>35.0</td>\n",
       "      <td>2848.3000</td>\n",
       "      <td>15.0</td>\n",
       "      <td>1.0</td>\n",
       "      <td>0.0</td>\n",
       "    </tr>\n",
       "    <tr>\n",
       "      <th>5</th>\n",
       "      <td>16960628-0338</td>\n",
       "      <td>CDI</td>\n",
       "      <td>35.0</td>\n",
       "      <td>5464.5500</td>\n",
       "      <td>34.0</td>\n",
       "      <td>0.0</td>\n",
       "      <td>0.0</td>\n",
       "    </tr>\n",
       "    <tr>\n",
       "      <th>9</th>\n",
       "      <td>16950514-2464</td>\n",
       "      <td>CDI</td>\n",
       "      <td>35.0</td>\n",
       "      <td>2769.4333</td>\n",
       "      <td>33.0</td>\n",
       "      <td>0.0</td>\n",
       "      <td>0.0</td>\n",
       "    </tr>\n",
       "    <tr>\n",
       "      <th>...</th>\n",
       "      <td>...</td>\n",
       "      <td>...</td>\n",
       "      <td>...</td>\n",
       "      <td>...</td>\n",
       "      <td>...</td>\n",
       "      <td>...</td>\n",
       "      <td>...</td>\n",
       "    </tr>\n",
       "    <tr>\n",
       "      <th>248</th>\n",
       "      <td>16030828-8604</td>\n",
       "      <td>CDI</td>\n",
       "      <td>35.0</td>\n",
       "      <td>8126.3000</td>\n",
       "      <td>36.0</td>\n",
       "      <td>1.0</td>\n",
       "      <td>0.0</td>\n",
       "    </tr>\n",
       "    <tr>\n",
       "      <th>250</th>\n",
       "      <td>16021125-4271</td>\n",
       "      <td>CDI</td>\n",
       "      <td>35.0</td>\n",
       "      <td>1590.9833</td>\n",
       "      <td>30.0</td>\n",
       "      <td>1.0</td>\n",
       "      <td>0.0</td>\n",
       "    </tr>\n",
       "    <tr>\n",
       "      <th>251</th>\n",
       "      <td>16021124-8356</td>\n",
       "      <td>CDI</td>\n",
       "      <td>35.0</td>\n",
       "      <td>7637.9333</td>\n",
       "      <td>21.0</td>\n",
       "      <td>1.0</td>\n",
       "      <td>0.0</td>\n",
       "    </tr>\n",
       "    <tr>\n",
       "      <th>252</th>\n",
       "      <td>16020725-8401</td>\n",
       "      <td>CDI</td>\n",
       "      <td>35.0</td>\n",
       "      <td>7304.2667</td>\n",
       "      <td>17.0</td>\n",
       "      <td>1.0</td>\n",
       "      <td>0.0</td>\n",
       "    </tr>\n",
       "    <tr>\n",
       "      <th>253</th>\n",
       "      <td>16020701-3376</td>\n",
       "      <td>CDI</td>\n",
       "      <td>35.0</td>\n",
       "      <td>8328.0167</td>\n",
       "      <td>14.0</td>\n",
       "      <td>1.0</td>\n",
       "      <td>0.0</td>\n",
       "    </tr>\n",
       "  </tbody>\n",
       "</table>\n",
       "<p>116 rows × 7 columns</p>\n",
       "</div>"
      ],
      "text/plain": [
       "        id_salarié Contrat  Durée hebdo  Salaire base mensuel  \\\n",
       "0    16990924-2829     CDI         35.0             9873.5000   \n",
       "3    16970415-1050     CDI         35.0             1697.1500   \n",
       "4    16960906-7989     CDD         35.0             2848.3000   \n",
       "5    16960628-0338     CDI         35.0             5464.5500   \n",
       "9    16950514-2464     CDI         35.0             2769.4333   \n",
       "..             ...     ...          ...                   ...   \n",
       "248  16030828-8604     CDI         35.0             8126.3000   \n",
       "250  16021125-4271     CDI         35.0             1590.9833   \n",
       "251  16021124-8356     CDI         35.0             7637.9333   \n",
       "252  16020725-8401     CDI         35.0             7304.2667   \n",
       "253  16020701-3376     CDI         35.0             8328.0167   \n",
       "\n",
       "     %variable_moyen  Augmentation  Promotion  \n",
       "0               13.0           0.0        0.0  \n",
       "3               17.0           1.0        0.0  \n",
       "4               15.0           1.0        0.0  \n",
       "5               34.0           0.0        0.0  \n",
       "9               33.0           0.0        0.0  \n",
       "..               ...           ...        ...  \n",
       "248             36.0           1.0        0.0  \n",
       "250             30.0           1.0        0.0  \n",
       "251             21.0           1.0        0.0  \n",
       "252             17.0           1.0        0.0  \n",
       "253             14.0           1.0        0.0  \n",
       "\n",
       "[116 rows x 7 columns]"
      ]
     },
     "execution_count": 280,
     "metadata": {},
     "output_type": "execute_result"
    }
   ],
   "source": [
    "remuneration.loc[remuneration[\"Promotion\"] == 0]"
   ]
  },
  {
   "cell_type": "code",
   "execution_count": 281,
   "id": "b301da27",
   "metadata": {},
   "outputs": [
    {
     "data": {
      "text/html": [
       "<div>\n",
       "<style scoped>\n",
       "    .dataframe tbody tr th:only-of-type {\n",
       "        vertical-align: middle;\n",
       "    }\n",
       "\n",
       "    .dataframe tbody tr th {\n",
       "        vertical-align: top;\n",
       "    }\n",
       "\n",
       "    .dataframe thead th {\n",
       "        text-align: right;\n",
       "    }\n",
       "</style>\n",
       "<table border=\"1\" class=\"dataframe\">\n",
       "  <thead>\n",
       "    <tr style=\"text-align: right;\">\n",
       "      <th></th>\n",
       "      <th>id_salarié</th>\n",
       "      <th>Contrat</th>\n",
       "      <th>Durée hebdo</th>\n",
       "      <th>Salaire base mensuel</th>\n",
       "      <th>%variable_moyen</th>\n",
       "      <th>Augmentation</th>\n",
       "      <th>Promotion</th>\n",
       "    </tr>\n",
       "  </thead>\n",
       "  <tbody>\n",
       "    <tr>\n",
       "      <th>0</th>\n",
       "      <td>16990924-2829</td>\n",
       "      <td>CDI</td>\n",
       "      <td>35.0</td>\n",
       "      <td>9873.5000</td>\n",
       "      <td>13.0</td>\n",
       "      <td>0.0</td>\n",
       "      <td>0.0</td>\n",
       "    </tr>\n",
       "    <tr>\n",
       "      <th>1</th>\n",
       "      <td>16990414-3527</td>\n",
       "      <td>CDI</td>\n",
       "      <td>35.0</td>\n",
       "      <td>4296.7167</td>\n",
       "      <td>39.0</td>\n",
       "      <td>0.0</td>\n",
       "      <td>1.0</td>\n",
       "    </tr>\n",
       "    <tr>\n",
       "      <th>5</th>\n",
       "      <td>16960628-0338</td>\n",
       "      <td>CDI</td>\n",
       "      <td>35.0</td>\n",
       "      <td>5464.5500</td>\n",
       "      <td>34.0</td>\n",
       "      <td>0.0</td>\n",
       "      <td>0.0</td>\n",
       "    </tr>\n",
       "    <tr>\n",
       "      <th>6</th>\n",
       "      <td>16960619-9017</td>\n",
       "      <td>CDI</td>\n",
       "      <td>35.0</td>\n",
       "      <td>9999.3833</td>\n",
       "      <td>27.0</td>\n",
       "      <td>0.0</td>\n",
       "      <td>1.0</td>\n",
       "    </tr>\n",
       "    <tr>\n",
       "      <th>7</th>\n",
       "      <td>16951117-9468</td>\n",
       "      <td>CDI</td>\n",
       "      <td>24.0</td>\n",
       "      <td>3116.8800</td>\n",
       "      <td>37.0</td>\n",
       "      <td>0.0</td>\n",
       "      <td>1.0</td>\n",
       "    </tr>\n",
       "    <tr>\n",
       "      <th>...</th>\n",
       "      <td>...</td>\n",
       "      <td>...</td>\n",
       "      <td>...</td>\n",
       "      <td>...</td>\n",
       "      <td>...</td>\n",
       "      <td>...</td>\n",
       "      <td>...</td>\n",
       "    </tr>\n",
       "    <tr>\n",
       "      <th>235</th>\n",
       "      <td>16090608-0239</td>\n",
       "      <td>CDI</td>\n",
       "      <td>24.0</td>\n",
       "      <td>3060.7200</td>\n",
       "      <td>6.0</td>\n",
       "      <td>0.0</td>\n",
       "      <td>1.0</td>\n",
       "    </tr>\n",
       "    <tr>\n",
       "      <th>236</th>\n",
       "      <td>16090206-9129</td>\n",
       "      <td>CDI</td>\n",
       "      <td>35.0</td>\n",
       "      <td>3459.5167</td>\n",
       "      <td>30.0</td>\n",
       "      <td>0.0</td>\n",
       "      <td>0.0</td>\n",
       "    </tr>\n",
       "    <tr>\n",
       "      <th>243</th>\n",
       "      <td>16050721-8014</td>\n",
       "      <td>CDI</td>\n",
       "      <td>35.0</td>\n",
       "      <td>5293.1667</td>\n",
       "      <td>39.0</td>\n",
       "      <td>0.0</td>\n",
       "      <td>1.0</td>\n",
       "    </tr>\n",
       "    <tr>\n",
       "      <th>249</th>\n",
       "      <td>16030220-7121</td>\n",
       "      <td>CDI</td>\n",
       "      <td>35.0</td>\n",
       "      <td>9782.5000</td>\n",
       "      <td>38.0</td>\n",
       "      <td>0.0</td>\n",
       "      <td>1.0</td>\n",
       "    </tr>\n",
       "    <tr>\n",
       "      <th>255</th>\n",
       "      <td>16011205-0331</td>\n",
       "      <td>CDI</td>\n",
       "      <td>24.0</td>\n",
       "      <td>4974.3200</td>\n",
       "      <td>32.0</td>\n",
       "      <td>0.0</td>\n",
       "      <td>1.0</td>\n",
       "    </tr>\n",
       "  </tbody>\n",
       "</table>\n",
       "<p>116 rows × 7 columns</p>\n",
       "</div>"
      ],
      "text/plain": [
       "        id_salarié Contrat  Durée hebdo  Salaire base mensuel  \\\n",
       "0    16990924-2829     CDI         35.0             9873.5000   \n",
       "1    16990414-3527     CDI         35.0             4296.7167   \n",
       "5    16960628-0338     CDI         35.0             5464.5500   \n",
       "6    16960619-9017     CDI         35.0             9999.3833   \n",
       "7    16951117-9468     CDI         24.0             3116.8800   \n",
       "..             ...     ...          ...                   ...   \n",
       "235  16090608-0239     CDI         24.0             3060.7200   \n",
       "236  16090206-9129     CDI         35.0             3459.5167   \n",
       "243  16050721-8014     CDI         35.0             5293.1667   \n",
       "249  16030220-7121     CDI         35.0             9782.5000   \n",
       "255  16011205-0331     CDI         24.0             4974.3200   \n",
       "\n",
       "     %variable_moyen  Augmentation  Promotion  \n",
       "0               13.0           0.0        0.0  \n",
       "1               39.0           0.0        1.0  \n",
       "5               34.0           0.0        0.0  \n",
       "6               27.0           0.0        1.0  \n",
       "7               37.0           0.0        1.0  \n",
       "..               ...           ...        ...  \n",
       "235              6.0           0.0        1.0  \n",
       "236             30.0           0.0        0.0  \n",
       "243             39.0           0.0        1.0  \n",
       "249             38.0           0.0        1.0  \n",
       "255             32.0           0.0        1.0  \n",
       "\n",
       "[116 rows x 7 columns]"
      ]
     },
     "execution_count": 281,
     "metadata": {},
     "output_type": "execute_result"
    }
   ],
   "source": [
    "remuneration.loc[remuneration[\"Augmentation\"] == 0]"
   ]
  },
  {
   "cell_type": "code",
   "execution_count": 282,
   "id": "42393b99",
   "metadata": {
    "scrolled": true
   },
   "outputs": [],
   "source": [
    "clients_sans_benef = remuneration.loc[(remuneration[\"Augmentation\"] == 0) & (remuneration[\"Promotion\"] == 0)]"
   ]
  },
  {
   "cell_type": "code",
   "execution_count": 283,
   "id": "4994a15b",
   "metadata": {
    "scrolled": true
   },
   "outputs": [
    {
     "data": {
      "text/html": [
       "<div>\n",
       "<style scoped>\n",
       "    .dataframe tbody tr th:only-of-type {\n",
       "        vertical-align: middle;\n",
       "    }\n",
       "\n",
       "    .dataframe tbody tr th {\n",
       "        vertical-align: top;\n",
       "    }\n",
       "\n",
       "    .dataframe thead th {\n",
       "        text-align: right;\n",
       "    }\n",
       "</style>\n",
       "<table border=\"1\" class=\"dataframe\">\n",
       "  <thead>\n",
       "    <tr style=\"text-align: right;\">\n",
       "      <th></th>\n",
       "      <th>id_salarié</th>\n",
       "      <th>Contrat</th>\n",
       "      <th>Durée hebdo</th>\n",
       "      <th>Salaire base mensuel</th>\n",
       "      <th>%variable_moyen</th>\n",
       "      <th>Augmentation</th>\n",
       "      <th>Promotion</th>\n",
       "    </tr>\n",
       "  </thead>\n",
       "  <tbody>\n",
       "    <tr>\n",
       "      <th>0</th>\n",
       "      <td>16990924-2829</td>\n",
       "      <td>CDI</td>\n",
       "      <td>35.0</td>\n",
       "      <td>9873.5000</td>\n",
       "      <td>13.0</td>\n",
       "      <td>0.0</td>\n",
       "      <td>0.0</td>\n",
       "    </tr>\n",
       "    <tr>\n",
       "      <th>5</th>\n",
       "      <td>16960628-0338</td>\n",
       "      <td>CDI</td>\n",
       "      <td>35.0</td>\n",
       "      <td>5464.5500</td>\n",
       "      <td>34.0</td>\n",
       "      <td>0.0</td>\n",
       "      <td>0.0</td>\n",
       "    </tr>\n",
       "    <tr>\n",
       "      <th>9</th>\n",
       "      <td>16950514-2464</td>\n",
       "      <td>CDI</td>\n",
       "      <td>35.0</td>\n",
       "      <td>2769.4333</td>\n",
       "      <td>33.0</td>\n",
       "      <td>0.0</td>\n",
       "      <td>0.0</td>\n",
       "    </tr>\n",
       "    <tr>\n",
       "      <th>16</th>\n",
       "      <td>16920528-2461</td>\n",
       "      <td>CDI</td>\n",
       "      <td>35.0</td>\n",
       "      <td>8458.4500</td>\n",
       "      <td>1.0</td>\n",
       "      <td>0.0</td>\n",
       "      <td>0.0</td>\n",
       "    </tr>\n",
       "    <tr>\n",
       "      <th>18</th>\n",
       "      <td>16920105-1209</td>\n",
       "      <td>CDI</td>\n",
       "      <td>35.0</td>\n",
       "      <td>3097.0333</td>\n",
       "      <td>13.0</td>\n",
       "      <td>0.0</td>\n",
       "      <td>0.0</td>\n",
       "    </tr>\n",
       "    <tr>\n",
       "      <th>21</th>\n",
       "      <td>16910810-9712</td>\n",
       "      <td>CDI</td>\n",
       "      <td>35.0</td>\n",
       "      <td>1873.0833</td>\n",
       "      <td>27.0</td>\n",
       "      <td>0.0</td>\n",
       "      <td>0.0</td>\n",
       "    </tr>\n",
       "    <tr>\n",
       "      <th>34</th>\n",
       "      <td>16860412-1965</td>\n",
       "      <td>CDI</td>\n",
       "      <td>35.0</td>\n",
       "      <td>3232.0167</td>\n",
       "      <td>35.0</td>\n",
       "      <td>0.0</td>\n",
       "      <td>0.0</td>\n",
       "    </tr>\n",
       "    <tr>\n",
       "      <th>37</th>\n",
       "      <td>16850330-5826</td>\n",
       "      <td>CDI</td>\n",
       "      <td>35.0</td>\n",
       "      <td>9069.6667</td>\n",
       "      <td>1.0</td>\n",
       "      <td>0.0</td>\n",
       "      <td>0.0</td>\n",
       "    </tr>\n",
       "    <tr>\n",
       "      <th>39</th>\n",
       "      <td>16831218-0485</td>\n",
       "      <td>CDI</td>\n",
       "      <td>35.0</td>\n",
       "      <td>7157.1500</td>\n",
       "      <td>3.0</td>\n",
       "      <td>0.0</td>\n",
       "      <td>0.0</td>\n",
       "    </tr>\n",
       "    <tr>\n",
       "      <th>41</th>\n",
       "      <td>16820822-2953</td>\n",
       "      <td>CDI</td>\n",
       "      <td>35.0</td>\n",
       "      <td>2070.2500</td>\n",
       "      <td>24.0</td>\n",
       "      <td>0.0</td>\n",
       "      <td>0.0</td>\n",
       "    </tr>\n",
       "    <tr>\n",
       "      <th>43</th>\n",
       "      <td>16820525-6301</td>\n",
       "      <td>CDI</td>\n",
       "      <td>35.0</td>\n",
       "      <td>1651.6500</td>\n",
       "      <td>18.0</td>\n",
       "      <td>0.0</td>\n",
       "      <td>0.0</td>\n",
       "    </tr>\n",
       "    <tr>\n",
       "      <th>45</th>\n",
       "      <td>16820319-6442</td>\n",
       "      <td>CDI</td>\n",
       "      <td>35.0</td>\n",
       "      <td>3383.6833</td>\n",
       "      <td>23.0</td>\n",
       "      <td>0.0</td>\n",
       "      <td>0.0</td>\n",
       "    </tr>\n",
       "    <tr>\n",
       "      <th>72</th>\n",
       "      <td>16720627-1632</td>\n",
       "      <td>CDI</td>\n",
       "      <td>35.0</td>\n",
       "      <td>8716.2833</td>\n",
       "      <td>20.0</td>\n",
       "      <td>0.0</td>\n",
       "      <td>0.0</td>\n",
       "    </tr>\n",
       "    <tr>\n",
       "      <th>77</th>\n",
       "      <td>16710204-1402</td>\n",
       "      <td>CDI</td>\n",
       "      <td>35.0</td>\n",
       "      <td>8277.9667</td>\n",
       "      <td>10.0</td>\n",
       "      <td>0.0</td>\n",
       "      <td>0.0</td>\n",
       "    </tr>\n",
       "    <tr>\n",
       "      <th>78</th>\n",
       "      <td>16710125-5136</td>\n",
       "      <td>CDI</td>\n",
       "      <td>35.0</td>\n",
       "      <td>2369.0333</td>\n",
       "      <td>20.0</td>\n",
       "      <td>0.0</td>\n",
       "      <td>0.0</td>\n",
       "    </tr>\n",
       "    <tr>\n",
       "      <th>100</th>\n",
       "      <td>16620606-6349</td>\n",
       "      <td>CDI</td>\n",
       "      <td>35.0</td>\n",
       "      <td>3803.8000</td>\n",
       "      <td>30.0</td>\n",
       "      <td>0.0</td>\n",
       "      <td>0.0</td>\n",
       "    </tr>\n",
       "    <tr>\n",
       "      <th>105</th>\n",
       "      <td>16610522-9428</td>\n",
       "      <td>CDI</td>\n",
       "      <td>35.0</td>\n",
       "      <td>8332.5667</td>\n",
       "      <td>12.0</td>\n",
       "      <td>0.0</td>\n",
       "      <td>0.0</td>\n",
       "    </tr>\n",
       "    <tr>\n",
       "      <th>109</th>\n",
       "      <td>16600521-9024</td>\n",
       "      <td>CDI</td>\n",
       "      <td>35.0</td>\n",
       "      <td>2843.7500</td>\n",
       "      <td>2.0</td>\n",
       "      <td>0.0</td>\n",
       "      <td>0.0</td>\n",
       "    </tr>\n",
       "    <tr>\n",
       "      <th>110</th>\n",
       "      <td>16590918-0399</td>\n",
       "      <td>CDI</td>\n",
       "      <td>35.0</td>\n",
       "      <td>8563.1000</td>\n",
       "      <td>7.0</td>\n",
       "      <td>0.0</td>\n",
       "      <td>0.0</td>\n",
       "    </tr>\n",
       "    <tr>\n",
       "      <th>111</th>\n",
       "      <td>16590417-5196</td>\n",
       "      <td>CDI</td>\n",
       "      <td>35.0</td>\n",
       "      <td>4988.3167</td>\n",
       "      <td>8.0</td>\n",
       "      <td>0.0</td>\n",
       "      <td>0.0</td>\n",
       "    </tr>\n",
       "    <tr>\n",
       "      <th>119</th>\n",
       "      <td>16560125-0110</td>\n",
       "      <td>CDI</td>\n",
       "      <td>35.0</td>\n",
       "      <td>3677.9167</td>\n",
       "      <td>33.0</td>\n",
       "      <td>0.0</td>\n",
       "      <td>0.0</td>\n",
       "    </tr>\n",
       "    <tr>\n",
       "      <th>120</th>\n",
       "      <td>16560122-3612</td>\n",
       "      <td>CDI</td>\n",
       "      <td>35.0</td>\n",
       "      <td>9940.2333</td>\n",
       "      <td>24.0</td>\n",
       "      <td>0.0</td>\n",
       "      <td>0.0</td>\n",
       "    </tr>\n",
       "    <tr>\n",
       "      <th>123</th>\n",
       "      <td>16550904-2932</td>\n",
       "      <td>CDI</td>\n",
       "      <td>35.0</td>\n",
       "      <td>4424.1167</td>\n",
       "      <td>30.0</td>\n",
       "      <td>0.0</td>\n",
       "      <td>0.0</td>\n",
       "    </tr>\n",
       "    <tr>\n",
       "      <th>126</th>\n",
       "      <td>16540514-9153</td>\n",
       "      <td>CDI</td>\n",
       "      <td>35.0</td>\n",
       "      <td>4263.3500</td>\n",
       "      <td>31.0</td>\n",
       "      <td>0.0</td>\n",
       "      <td>0.0</td>\n",
       "    </tr>\n",
       "    <tr>\n",
       "      <th>127</th>\n",
       "      <td>16530329-9431</td>\n",
       "      <td>CDI</td>\n",
       "      <td>35.0</td>\n",
       "      <td>8629.8333</td>\n",
       "      <td>3.0</td>\n",
       "      <td>0.0</td>\n",
       "      <td>0.0</td>\n",
       "    </tr>\n",
       "    <tr>\n",
       "      <th>129</th>\n",
       "      <td>16520121-8566</td>\n",
       "      <td>CDI</td>\n",
       "      <td>24.0</td>\n",
       "      <td>4851.6000</td>\n",
       "      <td>14.0</td>\n",
       "      <td>0.0</td>\n",
       "      <td>0.0</td>\n",
       "    </tr>\n",
       "    <tr>\n",
       "      <th>130</th>\n",
       "      <td>16510216-5973</td>\n",
       "      <td>CDI</td>\n",
       "      <td>35.0</td>\n",
       "      <td>5930.1667</td>\n",
       "      <td>33.0</td>\n",
       "      <td>0.0</td>\n",
       "      <td>0.0</td>\n",
       "    </tr>\n",
       "    <tr>\n",
       "      <th>132</th>\n",
       "      <td>16500419-9062</td>\n",
       "      <td>CDI</td>\n",
       "      <td>35.0</td>\n",
       "      <td>8108.1000</td>\n",
       "      <td>38.0</td>\n",
       "      <td>0.0</td>\n",
       "      <td>0.0</td>\n",
       "    </tr>\n",
       "    <tr>\n",
       "      <th>133</th>\n",
       "      <td>16491209-6288</td>\n",
       "      <td>CDI</td>\n",
       "      <td>35.0</td>\n",
       "      <td>6121.2667</td>\n",
       "      <td>32.0</td>\n",
       "      <td>0.0</td>\n",
       "      <td>0.0</td>\n",
       "    </tr>\n",
       "    <tr>\n",
       "      <th>136</th>\n",
       "      <td>16461115-9486</td>\n",
       "      <td>CDI</td>\n",
       "      <td>35.0</td>\n",
       "      <td>4624.3167</td>\n",
       "      <td>15.0</td>\n",
       "      <td>0.0</td>\n",
       "      <td>0.0</td>\n",
       "    </tr>\n",
       "    <tr>\n",
       "      <th>139</th>\n",
       "      <td>16460821-8733</td>\n",
       "      <td>CDI</td>\n",
       "      <td>35.0</td>\n",
       "      <td>9573.2000</td>\n",
       "      <td>7.0</td>\n",
       "      <td>0.0</td>\n",
       "      <td>0.0</td>\n",
       "    </tr>\n",
       "    <tr>\n",
       "      <th>141</th>\n",
       "      <td>16451112-4747</td>\n",
       "      <td>CDI</td>\n",
       "      <td>35.0</td>\n",
       "      <td>8056.5333</td>\n",
       "      <td>14.0</td>\n",
       "      <td>0.0</td>\n",
       "      <td>0.0</td>\n",
       "    </tr>\n",
       "    <tr>\n",
       "      <th>149</th>\n",
       "      <td>16431025-4026</td>\n",
       "      <td>CDI</td>\n",
       "      <td>35.0</td>\n",
       "      <td>4134.4333</td>\n",
       "      <td>22.0</td>\n",
       "      <td>0.0</td>\n",
       "      <td>0.0</td>\n",
       "    </tr>\n",
       "    <tr>\n",
       "      <th>150</th>\n",
       "      <td>16430903-4405</td>\n",
       "      <td>CDI</td>\n",
       "      <td>35.0</td>\n",
       "      <td>3256.2833</td>\n",
       "      <td>34.0</td>\n",
       "      <td>0.0</td>\n",
       "      <td>0.0</td>\n",
       "    </tr>\n",
       "    <tr>\n",
       "      <th>151</th>\n",
       "      <td>16430518-1481</td>\n",
       "      <td>CDI</td>\n",
       "      <td>35.0</td>\n",
       "      <td>6591.4333</td>\n",
       "      <td>19.0</td>\n",
       "      <td>0.0</td>\n",
       "      <td>0.0</td>\n",
       "    </tr>\n",
       "    <tr>\n",
       "      <th>164</th>\n",
       "      <td>16390127-6224</td>\n",
       "      <td>CDI</td>\n",
       "      <td>35.0</td>\n",
       "      <td>3797.7333</td>\n",
       "      <td>24.0</td>\n",
       "      <td>0.0</td>\n",
       "      <td>0.0</td>\n",
       "    </tr>\n",
       "    <tr>\n",
       "      <th>169</th>\n",
       "      <td>16360827-6352</td>\n",
       "      <td>CDI</td>\n",
       "      <td>35.0</td>\n",
       "      <td>2008.0667</td>\n",
       "      <td>35.0</td>\n",
       "      <td>0.0</td>\n",
       "      <td>0.0</td>\n",
       "    </tr>\n",
       "    <tr>\n",
       "      <th>173</th>\n",
       "      <td>16350127-5733</td>\n",
       "      <td>CDI</td>\n",
       "      <td>35.0</td>\n",
       "      <td>2828.5833</td>\n",
       "      <td>21.0</td>\n",
       "      <td>0.0</td>\n",
       "      <td>0.0</td>\n",
       "    </tr>\n",
       "    <tr>\n",
       "      <th>174</th>\n",
       "      <td>16341230-0471</td>\n",
       "      <td>CDI</td>\n",
       "      <td>24.0</td>\n",
       "      <td>6178.6400</td>\n",
       "      <td>17.0</td>\n",
       "      <td>0.0</td>\n",
       "      <td>0.0</td>\n",
       "    </tr>\n",
       "    <tr>\n",
       "      <th>175</th>\n",
       "      <td>16341225-2086</td>\n",
       "      <td>CDI</td>\n",
       "      <td>32.0</td>\n",
       "      <td>6743.3600</td>\n",
       "      <td>4.0</td>\n",
       "      <td>0.0</td>\n",
       "      <td>0.0</td>\n",
       "    </tr>\n",
       "    <tr>\n",
       "      <th>177</th>\n",
       "      <td>16340716-8222</td>\n",
       "      <td>CDI</td>\n",
       "      <td>35.0</td>\n",
       "      <td>5805.8000</td>\n",
       "      <td>37.0</td>\n",
       "      <td>0.0</td>\n",
       "      <td>0.0</td>\n",
       "    </tr>\n",
       "    <tr>\n",
       "      <th>179</th>\n",
       "      <td>16330117-4748</td>\n",
       "      <td>CDI</td>\n",
       "      <td>35.0</td>\n",
       "      <td>2070.2500</td>\n",
       "      <td>34.0</td>\n",
       "      <td>0.0</td>\n",
       "      <td>0.0</td>\n",
       "    </tr>\n",
       "    <tr>\n",
       "      <th>183</th>\n",
       "      <td>16311229-8504</td>\n",
       "      <td>CDI</td>\n",
       "      <td>35.0</td>\n",
       "      <td>7687.9833</td>\n",
       "      <td>9.0</td>\n",
       "      <td>0.0</td>\n",
       "      <td>0.0</td>\n",
       "    </tr>\n",
       "    <tr>\n",
       "      <th>192</th>\n",
       "      <td>16290605-1228</td>\n",
       "      <td>CDI</td>\n",
       "      <td>35.0</td>\n",
       "      <td>7637.9333</td>\n",
       "      <td>27.0</td>\n",
       "      <td>0.0</td>\n",
       "      <td>0.0</td>\n",
       "    </tr>\n",
       "    <tr>\n",
       "      <th>195</th>\n",
       "      <td>16270818-3112</td>\n",
       "      <td>CDI</td>\n",
       "      <td>35.0</td>\n",
       "      <td>5076.2833</td>\n",
       "      <td>33.0</td>\n",
       "      <td>0.0</td>\n",
       "      <td>0.0</td>\n",
       "    </tr>\n",
       "    <tr>\n",
       "      <th>197</th>\n",
       "      <td>16260415-5834</td>\n",
       "      <td>CDI</td>\n",
       "      <td>35.0</td>\n",
       "      <td>5212.7833</td>\n",
       "      <td>11.0</td>\n",
       "      <td>0.0</td>\n",
       "      <td>0.0</td>\n",
       "    </tr>\n",
       "    <tr>\n",
       "      <th>199</th>\n",
       "      <td>16241218-7045</td>\n",
       "      <td>CDI</td>\n",
       "      <td>35.0</td>\n",
       "      <td>3891.7667</td>\n",
       "      <td>32.0</td>\n",
       "      <td>0.0</td>\n",
       "      <td>0.0</td>\n",
       "    </tr>\n",
       "    <tr>\n",
       "      <th>200</th>\n",
       "      <td>16241106-8329</td>\n",
       "      <td>CDI</td>\n",
       "      <td>35.0</td>\n",
       "      <td>9218.3000</td>\n",
       "      <td>4.0</td>\n",
       "      <td>0.0</td>\n",
       "      <td>0.0</td>\n",
       "    </tr>\n",
       "    <tr>\n",
       "      <th>201</th>\n",
       "      <td>16240920-3425</td>\n",
       "      <td>CDI</td>\n",
       "      <td>35.0</td>\n",
       "      <td>2309.8833</td>\n",
       "      <td>23.0</td>\n",
       "      <td>0.0</td>\n",
       "      <td>0.0</td>\n",
       "    </tr>\n",
       "    <tr>\n",
       "      <th>202</th>\n",
       "      <td>16240230-3065</td>\n",
       "      <td>CDI</td>\n",
       "      <td>35.0</td>\n",
       "      <td>9642.9667</td>\n",
       "      <td>17.0</td>\n",
       "      <td>0.0</td>\n",
       "      <td>0.0</td>\n",
       "    </tr>\n",
       "    <tr>\n",
       "      <th>213</th>\n",
       "      <td>16190724-3065</td>\n",
       "      <td>CDI</td>\n",
       "      <td>35.0</td>\n",
       "      <td>2561.6500</td>\n",
       "      <td>13.0</td>\n",
       "      <td>0.0</td>\n",
       "      <td>0.0</td>\n",
       "    </tr>\n",
       "    <tr>\n",
       "      <th>217</th>\n",
       "      <td>16170926-3188</td>\n",
       "      <td>CDI</td>\n",
       "      <td>35.0</td>\n",
       "      <td>6494.3667</td>\n",
       "      <td>1.0</td>\n",
       "      <td>0.0</td>\n",
       "      <td>0.0</td>\n",
       "    </tr>\n",
       "    <tr>\n",
       "      <th>222</th>\n",
       "      <td>16140409-8707</td>\n",
       "      <td>CDI</td>\n",
       "      <td>35.0</td>\n",
       "      <td>6838.6500</td>\n",
       "      <td>5.0</td>\n",
       "      <td>0.0</td>\n",
       "      <td>0.0</td>\n",
       "    </tr>\n",
       "    <tr>\n",
       "      <th>227</th>\n",
       "      <td>16101212-2048</td>\n",
       "      <td>CDI</td>\n",
       "      <td>35.0</td>\n",
       "      <td>5749.6833</td>\n",
       "      <td>17.0</td>\n",
       "      <td>0.0</td>\n",
       "      <td>0.0</td>\n",
       "    </tr>\n",
       "    <tr>\n",
       "      <th>236</th>\n",
       "      <td>16090206-9129</td>\n",
       "      <td>CDI</td>\n",
       "      <td>35.0</td>\n",
       "      <td>3459.5167</td>\n",
       "      <td>30.0</td>\n",
       "      <td>0.0</td>\n",
       "      <td>0.0</td>\n",
       "    </tr>\n",
       "  </tbody>\n",
       "</table>\n",
       "</div>"
      ],
      "text/plain": [
       "        id_salarié Contrat  Durée hebdo  Salaire base mensuel  \\\n",
       "0    16990924-2829     CDI         35.0             9873.5000   \n",
       "5    16960628-0338     CDI         35.0             5464.5500   \n",
       "9    16950514-2464     CDI         35.0             2769.4333   \n",
       "16   16920528-2461     CDI         35.0             8458.4500   \n",
       "18   16920105-1209     CDI         35.0             3097.0333   \n",
       "21   16910810-9712     CDI         35.0             1873.0833   \n",
       "34   16860412-1965     CDI         35.0             3232.0167   \n",
       "37   16850330-5826     CDI         35.0             9069.6667   \n",
       "39   16831218-0485     CDI         35.0             7157.1500   \n",
       "41   16820822-2953     CDI         35.0             2070.2500   \n",
       "43   16820525-6301     CDI         35.0             1651.6500   \n",
       "45   16820319-6442     CDI         35.0             3383.6833   \n",
       "72   16720627-1632     CDI         35.0             8716.2833   \n",
       "77   16710204-1402     CDI         35.0             8277.9667   \n",
       "78   16710125-5136     CDI         35.0             2369.0333   \n",
       "100  16620606-6349     CDI         35.0             3803.8000   \n",
       "105  16610522-9428     CDI         35.0             8332.5667   \n",
       "109  16600521-9024     CDI         35.0             2843.7500   \n",
       "110  16590918-0399     CDI         35.0             8563.1000   \n",
       "111  16590417-5196     CDI         35.0             4988.3167   \n",
       "119  16560125-0110     CDI         35.0             3677.9167   \n",
       "120  16560122-3612     CDI         35.0             9940.2333   \n",
       "123  16550904-2932     CDI         35.0             4424.1167   \n",
       "126  16540514-9153     CDI         35.0             4263.3500   \n",
       "127  16530329-9431     CDI         35.0             8629.8333   \n",
       "129  16520121-8566     CDI         24.0             4851.6000   \n",
       "130  16510216-5973     CDI         35.0             5930.1667   \n",
       "132  16500419-9062     CDI         35.0             8108.1000   \n",
       "133  16491209-6288     CDI         35.0             6121.2667   \n",
       "136  16461115-9486     CDI         35.0             4624.3167   \n",
       "139  16460821-8733     CDI         35.0             9573.2000   \n",
       "141  16451112-4747     CDI         35.0             8056.5333   \n",
       "149  16431025-4026     CDI         35.0             4134.4333   \n",
       "150  16430903-4405     CDI         35.0             3256.2833   \n",
       "151  16430518-1481     CDI         35.0             6591.4333   \n",
       "164  16390127-6224     CDI         35.0             3797.7333   \n",
       "169  16360827-6352     CDI         35.0             2008.0667   \n",
       "173  16350127-5733     CDI         35.0             2828.5833   \n",
       "174  16341230-0471     CDI         24.0             6178.6400   \n",
       "175  16341225-2086     CDI         32.0             6743.3600   \n",
       "177  16340716-8222     CDI         35.0             5805.8000   \n",
       "179  16330117-4748     CDI         35.0             2070.2500   \n",
       "183  16311229-8504     CDI         35.0             7687.9833   \n",
       "192  16290605-1228     CDI         35.0             7637.9333   \n",
       "195  16270818-3112     CDI         35.0             5076.2833   \n",
       "197  16260415-5834     CDI         35.0             5212.7833   \n",
       "199  16241218-7045     CDI         35.0             3891.7667   \n",
       "200  16241106-8329     CDI         35.0             9218.3000   \n",
       "201  16240920-3425     CDI         35.0             2309.8833   \n",
       "202  16240230-3065     CDI         35.0             9642.9667   \n",
       "213  16190724-3065     CDI         35.0             2561.6500   \n",
       "217  16170926-3188     CDI         35.0             6494.3667   \n",
       "222  16140409-8707     CDI         35.0             6838.6500   \n",
       "227  16101212-2048     CDI         35.0             5749.6833   \n",
       "236  16090206-9129     CDI         35.0             3459.5167   \n",
       "\n",
       "     %variable_moyen  Augmentation  Promotion  \n",
       "0               13.0           0.0        0.0  \n",
       "5               34.0           0.0        0.0  \n",
       "9               33.0           0.0        0.0  \n",
       "16               1.0           0.0        0.0  \n",
       "18              13.0           0.0        0.0  \n",
       "21              27.0           0.0        0.0  \n",
       "34              35.0           0.0        0.0  \n",
       "37               1.0           0.0        0.0  \n",
       "39               3.0           0.0        0.0  \n",
       "41              24.0           0.0        0.0  \n",
       "43              18.0           0.0        0.0  \n",
       "45              23.0           0.0        0.0  \n",
       "72              20.0           0.0        0.0  \n",
       "77              10.0           0.0        0.0  \n",
       "78              20.0           0.0        0.0  \n",
       "100             30.0           0.0        0.0  \n",
       "105             12.0           0.0        0.0  \n",
       "109              2.0           0.0        0.0  \n",
       "110              7.0           0.0        0.0  \n",
       "111              8.0           0.0        0.0  \n",
       "119             33.0           0.0        0.0  \n",
       "120             24.0           0.0        0.0  \n",
       "123             30.0           0.0        0.0  \n",
       "126             31.0           0.0        0.0  \n",
       "127              3.0           0.0        0.0  \n",
       "129             14.0           0.0        0.0  \n",
       "130             33.0           0.0        0.0  \n",
       "132             38.0           0.0        0.0  \n",
       "133             32.0           0.0        0.0  \n",
       "136             15.0           0.0        0.0  \n",
       "139              7.0           0.0        0.0  \n",
       "141             14.0           0.0        0.0  \n",
       "149             22.0           0.0        0.0  \n",
       "150             34.0           0.0        0.0  \n",
       "151             19.0           0.0        0.0  \n",
       "164             24.0           0.0        0.0  \n",
       "169             35.0           0.0        0.0  \n",
       "173             21.0           0.0        0.0  \n",
       "174             17.0           0.0        0.0  \n",
       "175              4.0           0.0        0.0  \n",
       "177             37.0           0.0        0.0  \n",
       "179             34.0           0.0        0.0  \n",
       "183              9.0           0.0        0.0  \n",
       "192             27.0           0.0        0.0  \n",
       "195             33.0           0.0        0.0  \n",
       "197             11.0           0.0        0.0  \n",
       "199             32.0           0.0        0.0  \n",
       "200              4.0           0.0        0.0  \n",
       "201             23.0           0.0        0.0  \n",
       "202             17.0           0.0        0.0  \n",
       "213             13.0           0.0        0.0  \n",
       "217              1.0           0.0        0.0  \n",
       "222              5.0           0.0        0.0  \n",
       "227             17.0           0.0        0.0  \n",
       "236             30.0           0.0        0.0  "
      ]
     },
     "execution_count": 283,
     "metadata": {},
     "output_type": "execute_result"
    }
   ],
   "source": [
    "clients_sans_benef"
   ]
  },
  {
   "cell_type": "code",
   "execution_count": 284,
   "id": "a8351527",
   "metadata": {},
   "outputs": [
    {
     "data": {
      "text/plain": [
       "(55, 7)"
      ]
     },
     "execution_count": 284,
     "metadata": {},
     "output_type": "execute_result"
    }
   ],
   "source": [
    "clients_sans_benef.shape"
   ]
  },
  {
   "cell_type": "markdown",
   "id": "70d60b9e",
   "metadata": {},
   "source": [
    "Nous n'avons aucune information sur ce salarié, je le drop"
   ]
  },
  {
   "cell_type": "code",
   "execution_count": 285,
   "id": "75b0e657",
   "metadata": {},
   "outputs": [],
   "source": [
    "remuneration_1 = remuneration.drop(187)"
   ]
  },
  {
   "cell_type": "code",
   "execution_count": 286,
   "id": "c43ef0c8",
   "metadata": {},
   "outputs": [
    {
     "data": {
      "text/plain": [
       "id_salarié               0\n",
       "Contrat                  0\n",
       "Durée hebdo              0\n",
       "Salaire base mensuel     0\n",
       "%variable_moyen          0\n",
       "Augmentation            15\n",
       "Promotion               15\n",
       "dtype: int64"
      ]
     },
     "execution_count": 286,
     "metadata": {},
     "output_type": "execute_result"
    }
   ],
   "source": [
    "remuneration_1.isnull().sum()"
   ]
  },
  {
   "cell_type": "markdown",
   "id": "fc3fa1ff",
   "metadata": {},
   "source": [
    "les NaN restants viennent des colonnes Augmentation et Promotion, voyons voir ces lignes plus en détails :"
   ]
  },
  {
   "cell_type": "code",
   "execution_count": 287,
   "id": "beedd6e7",
   "metadata": {},
   "outputs": [],
   "source": [
    "no_promotion_augmentation = remuneration_1.loc[(remuneration_1[\"Augmentation\"].isnull() & remuneration_1[\"Promotion\"].isnull())]"
   ]
  },
  {
   "cell_type": "code",
   "execution_count": 288,
   "id": "7fce9e66",
   "metadata": {},
   "outputs": [
    {
     "data": {
      "text/html": [
       "<div>\n",
       "<style scoped>\n",
       "    .dataframe tbody tr th:only-of-type {\n",
       "        vertical-align: middle;\n",
       "    }\n",
       "\n",
       "    .dataframe tbody tr th {\n",
       "        vertical-align: top;\n",
       "    }\n",
       "\n",
       "    .dataframe thead th {\n",
       "        text-align: right;\n",
       "    }\n",
       "</style>\n",
       "<table border=\"1\" class=\"dataframe\">\n",
       "  <thead>\n",
       "    <tr style=\"text-align: right;\">\n",
       "      <th></th>\n",
       "      <th>id_salarié</th>\n",
       "      <th>Contrat</th>\n",
       "      <th>Durée hebdo</th>\n",
       "      <th>Salaire base mensuel</th>\n",
       "      <th>%variable_moyen</th>\n",
       "      <th>Augmentation</th>\n",
       "      <th>Promotion</th>\n",
       "    </tr>\n",
       "  </thead>\n",
       "  <tbody>\n",
       "    <tr>\n",
       "      <th>26</th>\n",
       "      <td>16891203-4397</td>\n",
       "      <td>CDD</td>\n",
       "      <td>32.0</td>\n",
       "      <td>2496.0000</td>\n",
       "      <td>21.0</td>\n",
       "      <td>NaN</td>\n",
       "      <td>NaN</td>\n",
       "    </tr>\n",
       "    <tr>\n",
       "      <th>46</th>\n",
       "      <td>16810820-7468</td>\n",
       "      <td>CDD</td>\n",
       "      <td>35.0</td>\n",
       "      <td>3168.3167</td>\n",
       "      <td>10.0</td>\n",
       "      <td>NaN</td>\n",
       "      <td>NaN</td>\n",
       "    </tr>\n",
       "    <tr>\n",
       "      <th>48</th>\n",
       "      <td>16810711-6330</td>\n",
       "      <td>CDD</td>\n",
       "      <td>35.0</td>\n",
       "      <td>1989.8667</td>\n",
       "      <td>5.0</td>\n",
       "      <td>NaN</td>\n",
       "      <td>NaN</td>\n",
       "    </tr>\n",
       "    <tr>\n",
       "      <th>52</th>\n",
       "      <td>16790704-0179</td>\n",
       "      <td>CDD</td>\n",
       "      <td>35.0</td>\n",
       "      <td>3185.0000</td>\n",
       "      <td>3.0</td>\n",
       "      <td>NaN</td>\n",
       "      <td>NaN</td>\n",
       "    </tr>\n",
       "    <tr>\n",
       "      <th>56</th>\n",
       "      <td>16770802-4604</td>\n",
       "      <td>CDD</td>\n",
       "      <td>35.0</td>\n",
       "      <td>3033.3333</td>\n",
       "      <td>8.0</td>\n",
       "      <td>NaN</td>\n",
       "      <td>NaN</td>\n",
       "    </tr>\n",
       "    <tr>\n",
       "      <th>66</th>\n",
       "      <td>16740208-0084</td>\n",
       "      <td>CDD</td>\n",
       "      <td>35.0</td>\n",
       "      <td>2881.6667</td>\n",
       "      <td>27.0</td>\n",
       "      <td>NaN</td>\n",
       "      <td>NaN</td>\n",
       "    </tr>\n",
       "    <tr>\n",
       "      <th>68</th>\n",
       "      <td>16730918-6273</td>\n",
       "      <td>CDD</td>\n",
       "      <td>35.0</td>\n",
       "      <td>2426.6667</td>\n",
       "      <td>21.0</td>\n",
       "      <td>NaN</td>\n",
       "      <td>NaN</td>\n",
       "    </tr>\n",
       "    <tr>\n",
       "      <th>82</th>\n",
       "      <td>16690714-7836</td>\n",
       "      <td>CDD</td>\n",
       "      <td>35.0</td>\n",
       "      <td>3640.0000</td>\n",
       "      <td>6.0</td>\n",
       "      <td>NaN</td>\n",
       "      <td>NaN</td>\n",
       "    </tr>\n",
       "    <tr>\n",
       "      <th>86</th>\n",
       "      <td>16670913-0147</td>\n",
       "      <td>CDD</td>\n",
       "      <td>35.0</td>\n",
       "      <td>3201.6833</td>\n",
       "      <td>38.0</td>\n",
       "      <td>NaN</td>\n",
       "      <td>NaN</td>\n",
       "    </tr>\n",
       "    <tr>\n",
       "      <th>125</th>\n",
       "      <td>16540728-0337</td>\n",
       "      <td>CDD</td>\n",
       "      <td>35.0</td>\n",
       "      <td>2123.3333</td>\n",
       "      <td>39.0</td>\n",
       "      <td>NaN</td>\n",
       "      <td>NaN</td>\n",
       "    </tr>\n",
       "    <tr>\n",
       "      <th>142</th>\n",
       "      <td>16451016-1336</td>\n",
       "      <td>CDD</td>\n",
       "      <td>35.0</td>\n",
       "      <td>3693.0833</td>\n",
       "      <td>24.0</td>\n",
       "      <td>NaN</td>\n",
       "      <td>NaN</td>\n",
       "    </tr>\n",
       "    <tr>\n",
       "      <th>144</th>\n",
       "      <td>16441109-5385</td>\n",
       "      <td>CDD</td>\n",
       "      <td>32.0</td>\n",
       "      <td>2357.3333</td>\n",
       "      <td>12.0</td>\n",
       "      <td>NaN</td>\n",
       "      <td>NaN</td>\n",
       "    </tr>\n",
       "    <tr>\n",
       "      <th>188</th>\n",
       "      <td>16301213-1524</td>\n",
       "      <td>CDD</td>\n",
       "      <td>35.0</td>\n",
       "      <td>2558.6167</td>\n",
       "      <td>22.0</td>\n",
       "      <td>NaN</td>\n",
       "      <td>NaN</td>\n",
       "    </tr>\n",
       "    <tr>\n",
       "      <th>233</th>\n",
       "      <td>16091122-3147</td>\n",
       "      <td>CDD</td>\n",
       "      <td>35.0</td>\n",
       "      <td>2226.4667</td>\n",
       "      <td>2.0</td>\n",
       "      <td>NaN</td>\n",
       "      <td>NaN</td>\n",
       "    </tr>\n",
       "    <tr>\n",
       "      <th>238</th>\n",
       "      <td>16081104-1011</td>\n",
       "      <td>CDD</td>\n",
       "      <td>35.0</td>\n",
       "      <td>1920.1000</td>\n",
       "      <td>17.0</td>\n",
       "      <td>NaN</td>\n",
       "      <td>NaN</td>\n",
       "    </tr>\n",
       "  </tbody>\n",
       "</table>\n",
       "</div>"
      ],
      "text/plain": [
       "        id_salarié Contrat  Durée hebdo  Salaire base mensuel  \\\n",
       "26   16891203-4397     CDD         32.0             2496.0000   \n",
       "46   16810820-7468     CDD         35.0             3168.3167   \n",
       "48   16810711-6330     CDD         35.0             1989.8667   \n",
       "52   16790704-0179     CDD         35.0             3185.0000   \n",
       "56   16770802-4604     CDD         35.0             3033.3333   \n",
       "66   16740208-0084     CDD         35.0             2881.6667   \n",
       "68   16730918-6273     CDD         35.0             2426.6667   \n",
       "82   16690714-7836     CDD         35.0             3640.0000   \n",
       "86   16670913-0147     CDD         35.0             3201.6833   \n",
       "125  16540728-0337     CDD         35.0             2123.3333   \n",
       "142  16451016-1336     CDD         35.0             3693.0833   \n",
       "144  16441109-5385     CDD         32.0             2357.3333   \n",
       "188  16301213-1524     CDD         35.0             2558.6167   \n",
       "233  16091122-3147     CDD         35.0             2226.4667   \n",
       "238  16081104-1011     CDD         35.0             1920.1000   \n",
       "\n",
       "     %variable_moyen  Augmentation  Promotion  \n",
       "26              21.0           NaN        NaN  \n",
       "46              10.0           NaN        NaN  \n",
       "48               5.0           NaN        NaN  \n",
       "52               3.0           NaN        NaN  \n",
       "56               8.0           NaN        NaN  \n",
       "66              27.0           NaN        NaN  \n",
       "68              21.0           NaN        NaN  \n",
       "82               6.0           NaN        NaN  \n",
       "86              38.0           NaN        NaN  \n",
       "125             39.0           NaN        NaN  \n",
       "142             24.0           NaN        NaN  \n",
       "144             12.0           NaN        NaN  \n",
       "188             22.0           NaN        NaN  \n",
       "233              2.0           NaN        NaN  \n",
       "238             17.0           NaN        NaN  "
      ]
     },
     "execution_count": 288,
     "metadata": {},
     "output_type": "execute_result"
    }
   ],
   "source": [
    "no_promotion_augmentation"
   ]
  },
  {
   "cell_type": "code",
   "execution_count": 289,
   "id": "f5405ebb",
   "metadata": {},
   "outputs": [
    {
     "data": {
      "text/plain": [
       "(15, 7)"
      ]
     },
     "execution_count": 289,
     "metadata": {},
     "output_type": "execute_result"
    }
   ],
   "source": [
    "no_promotion_augmentation.shape"
   ]
  },
  {
   "cell_type": "code",
   "execution_count": 290,
   "id": "898b4fd6",
   "metadata": {},
   "outputs": [
    {
     "data": {
      "text/plain": [
       "CDI    240\n",
       "CDD     16\n",
       "Name: Contrat, dtype: int64"
      ]
     },
     "execution_count": 290,
     "metadata": {},
     "output_type": "execute_result"
    }
   ],
   "source": [
    "remuneration_1[\"Contrat\"].value_counts()"
   ]
  },
  {
   "cell_type": "code",
   "execution_count": 291,
   "id": "40a15786",
   "metadata": {},
   "outputs": [
    {
     "data": {
      "text/html": [
       "<div>\n",
       "<style scoped>\n",
       "    .dataframe tbody tr th:only-of-type {\n",
       "        vertical-align: middle;\n",
       "    }\n",
       "\n",
       "    .dataframe tbody tr th {\n",
       "        vertical-align: top;\n",
       "    }\n",
       "\n",
       "    .dataframe thead th {\n",
       "        text-align: right;\n",
       "    }\n",
       "</style>\n",
       "<table border=\"1\" class=\"dataframe\">\n",
       "  <thead>\n",
       "    <tr style=\"text-align: right;\">\n",
       "      <th></th>\n",
       "      <th>id_salarié</th>\n",
       "      <th>Contrat</th>\n",
       "      <th>Durée hebdo</th>\n",
       "      <th>Salaire base mensuel</th>\n",
       "      <th>%variable_moyen</th>\n",
       "      <th>Augmentation</th>\n",
       "      <th>Promotion</th>\n",
       "    </tr>\n",
       "  </thead>\n",
       "  <tbody>\n",
       "    <tr>\n",
       "      <th>4</th>\n",
       "      <td>16960906-7989</td>\n",
       "      <td>CDD</td>\n",
       "      <td>35.0</td>\n",
       "      <td>2848.3000</td>\n",
       "      <td>15.0</td>\n",
       "      <td>1.0</td>\n",
       "      <td>0.0</td>\n",
       "    </tr>\n",
       "    <tr>\n",
       "      <th>26</th>\n",
       "      <td>16891203-4397</td>\n",
       "      <td>CDD</td>\n",
       "      <td>32.0</td>\n",
       "      <td>2496.0000</td>\n",
       "      <td>21.0</td>\n",
       "      <td>NaN</td>\n",
       "      <td>NaN</td>\n",
       "    </tr>\n",
       "    <tr>\n",
       "      <th>46</th>\n",
       "      <td>16810820-7468</td>\n",
       "      <td>CDD</td>\n",
       "      <td>35.0</td>\n",
       "      <td>3168.3167</td>\n",
       "      <td>10.0</td>\n",
       "      <td>NaN</td>\n",
       "      <td>NaN</td>\n",
       "    </tr>\n",
       "    <tr>\n",
       "      <th>48</th>\n",
       "      <td>16810711-6330</td>\n",
       "      <td>CDD</td>\n",
       "      <td>35.0</td>\n",
       "      <td>1989.8667</td>\n",
       "      <td>5.0</td>\n",
       "      <td>NaN</td>\n",
       "      <td>NaN</td>\n",
       "    </tr>\n",
       "    <tr>\n",
       "      <th>52</th>\n",
       "      <td>16790704-0179</td>\n",
       "      <td>CDD</td>\n",
       "      <td>35.0</td>\n",
       "      <td>3185.0000</td>\n",
       "      <td>3.0</td>\n",
       "      <td>NaN</td>\n",
       "      <td>NaN</td>\n",
       "    </tr>\n",
       "    <tr>\n",
       "      <th>56</th>\n",
       "      <td>16770802-4604</td>\n",
       "      <td>CDD</td>\n",
       "      <td>35.0</td>\n",
       "      <td>3033.3333</td>\n",
       "      <td>8.0</td>\n",
       "      <td>NaN</td>\n",
       "      <td>NaN</td>\n",
       "    </tr>\n",
       "    <tr>\n",
       "      <th>66</th>\n",
       "      <td>16740208-0084</td>\n",
       "      <td>CDD</td>\n",
       "      <td>35.0</td>\n",
       "      <td>2881.6667</td>\n",
       "      <td>27.0</td>\n",
       "      <td>NaN</td>\n",
       "      <td>NaN</td>\n",
       "    </tr>\n",
       "    <tr>\n",
       "      <th>68</th>\n",
       "      <td>16730918-6273</td>\n",
       "      <td>CDD</td>\n",
       "      <td>35.0</td>\n",
       "      <td>2426.6667</td>\n",
       "      <td>21.0</td>\n",
       "      <td>NaN</td>\n",
       "      <td>NaN</td>\n",
       "    </tr>\n",
       "    <tr>\n",
       "      <th>82</th>\n",
       "      <td>16690714-7836</td>\n",
       "      <td>CDD</td>\n",
       "      <td>35.0</td>\n",
       "      <td>3640.0000</td>\n",
       "      <td>6.0</td>\n",
       "      <td>NaN</td>\n",
       "      <td>NaN</td>\n",
       "    </tr>\n",
       "    <tr>\n",
       "      <th>86</th>\n",
       "      <td>16670913-0147</td>\n",
       "      <td>CDD</td>\n",
       "      <td>35.0</td>\n",
       "      <td>3201.6833</td>\n",
       "      <td>38.0</td>\n",
       "      <td>NaN</td>\n",
       "      <td>NaN</td>\n",
       "    </tr>\n",
       "    <tr>\n",
       "      <th>125</th>\n",
       "      <td>16540728-0337</td>\n",
       "      <td>CDD</td>\n",
       "      <td>35.0</td>\n",
       "      <td>2123.3333</td>\n",
       "      <td>39.0</td>\n",
       "      <td>NaN</td>\n",
       "      <td>NaN</td>\n",
       "    </tr>\n",
       "    <tr>\n",
       "      <th>142</th>\n",
       "      <td>16451016-1336</td>\n",
       "      <td>CDD</td>\n",
       "      <td>35.0</td>\n",
       "      <td>3693.0833</td>\n",
       "      <td>24.0</td>\n",
       "      <td>NaN</td>\n",
       "      <td>NaN</td>\n",
       "    </tr>\n",
       "    <tr>\n",
       "      <th>144</th>\n",
       "      <td>16441109-5385</td>\n",
       "      <td>CDD</td>\n",
       "      <td>32.0</td>\n",
       "      <td>2357.3333</td>\n",
       "      <td>12.0</td>\n",
       "      <td>NaN</td>\n",
       "      <td>NaN</td>\n",
       "    </tr>\n",
       "    <tr>\n",
       "      <th>188</th>\n",
       "      <td>16301213-1524</td>\n",
       "      <td>CDD</td>\n",
       "      <td>35.0</td>\n",
       "      <td>2558.6167</td>\n",
       "      <td>22.0</td>\n",
       "      <td>NaN</td>\n",
       "      <td>NaN</td>\n",
       "    </tr>\n",
       "    <tr>\n",
       "      <th>233</th>\n",
       "      <td>16091122-3147</td>\n",
       "      <td>CDD</td>\n",
       "      <td>35.0</td>\n",
       "      <td>2226.4667</td>\n",
       "      <td>2.0</td>\n",
       "      <td>NaN</td>\n",
       "      <td>NaN</td>\n",
       "    </tr>\n",
       "    <tr>\n",
       "      <th>238</th>\n",
       "      <td>16081104-1011</td>\n",
       "      <td>CDD</td>\n",
       "      <td>35.0</td>\n",
       "      <td>1920.1000</td>\n",
       "      <td>17.0</td>\n",
       "      <td>NaN</td>\n",
       "      <td>NaN</td>\n",
       "    </tr>\n",
       "  </tbody>\n",
       "</table>\n",
       "</div>"
      ],
      "text/plain": [
       "        id_salarié Contrat  Durée hebdo  Salaire base mensuel  \\\n",
       "4    16960906-7989     CDD         35.0             2848.3000   \n",
       "26   16891203-4397     CDD         32.0             2496.0000   \n",
       "46   16810820-7468     CDD         35.0             3168.3167   \n",
       "48   16810711-6330     CDD         35.0             1989.8667   \n",
       "52   16790704-0179     CDD         35.0             3185.0000   \n",
       "56   16770802-4604     CDD         35.0             3033.3333   \n",
       "66   16740208-0084     CDD         35.0             2881.6667   \n",
       "68   16730918-6273     CDD         35.0             2426.6667   \n",
       "82   16690714-7836     CDD         35.0             3640.0000   \n",
       "86   16670913-0147     CDD         35.0             3201.6833   \n",
       "125  16540728-0337     CDD         35.0             2123.3333   \n",
       "142  16451016-1336     CDD         35.0             3693.0833   \n",
       "144  16441109-5385     CDD         32.0             2357.3333   \n",
       "188  16301213-1524     CDD         35.0             2558.6167   \n",
       "233  16091122-3147     CDD         35.0             2226.4667   \n",
       "238  16081104-1011     CDD         35.0             1920.1000   \n",
       "\n",
       "     %variable_moyen  Augmentation  Promotion  \n",
       "4               15.0           1.0        0.0  \n",
       "26              21.0           NaN        NaN  \n",
       "46              10.0           NaN        NaN  \n",
       "48               5.0           NaN        NaN  \n",
       "52               3.0           NaN        NaN  \n",
       "56               8.0           NaN        NaN  \n",
       "66              27.0           NaN        NaN  \n",
       "68              21.0           NaN        NaN  \n",
       "82               6.0           NaN        NaN  \n",
       "86              38.0           NaN        NaN  \n",
       "125             39.0           NaN        NaN  \n",
       "142             24.0           NaN        NaN  \n",
       "144             12.0           NaN        NaN  \n",
       "188             22.0           NaN        NaN  \n",
       "233              2.0           NaN        NaN  \n",
       "238             17.0           NaN        NaN  "
      ]
     },
     "execution_count": 291,
     "metadata": {},
     "output_type": "execute_result"
    }
   ],
   "source": [
    "remuneration_1.loc[remuneration_1[\"Contrat\"] == \"CDD\"]"
   ]
  },
  {
   "cell_type": "markdown",
   "id": "7aa8ab84",
   "metadata": {},
   "source": [
    "ce qu'on peut observer :\n",
    "- tous ces salariés sont en contrat CDD \n",
    "- Ils ont tous un salaire inférieur à la moyenne \n",
    "- Il n'y a qu'un seul salariés en CDD qui a reçu une augmentation, surement suite à un renouvellement de contrat"
   ]
  },
  {
   "cell_type": "markdown",
   "id": "ced68097",
   "metadata": {},
   "source": [
    "Conclusion : Il est très probable que ces NaN viennent du fait qu'ils ne peuvent pas recevoir d'augmentation/promotion vu qu'ils sont en CDD. Donc à une décision de l'entreprise de ne pas augmenter ou faire une promotion aux salariés en CDD"
   ]
  },
  {
   "cell_type": "markdown",
   "id": "42a36f12",
   "metadata": {},
   "source": [
    "je vais donc remplacer ces NaN par 0"
   ]
  },
  {
   "cell_type": "code",
   "execution_count": 292,
   "id": "f424104a",
   "metadata": {},
   "outputs": [
    {
     "data": {
      "text/html": [
       "<div>\n",
       "<style scoped>\n",
       "    .dataframe tbody tr th:only-of-type {\n",
       "        vertical-align: middle;\n",
       "    }\n",
       "\n",
       "    .dataframe tbody tr th {\n",
       "        vertical-align: top;\n",
       "    }\n",
       "\n",
       "    .dataframe thead th {\n",
       "        text-align: right;\n",
       "    }\n",
       "</style>\n",
       "<table border=\"1\" class=\"dataframe\">\n",
       "  <thead>\n",
       "    <tr style=\"text-align: right;\">\n",
       "      <th></th>\n",
       "      <th>Durée hebdo</th>\n",
       "      <th>Salaire base mensuel</th>\n",
       "      <th>%variable_moyen</th>\n",
       "      <th>Augmentation</th>\n",
       "      <th>Promotion</th>\n",
       "    </tr>\n",
       "  </thead>\n",
       "  <tbody>\n",
       "    <tr>\n",
       "      <th>count</th>\n",
       "      <td>256.000000</td>\n",
       "      <td>256.000000</td>\n",
       "      <td>256.000000</td>\n",
       "      <td>241.000000</td>\n",
       "      <td>241.000000</td>\n",
       "    </tr>\n",
       "    <tr>\n",
       "      <th>mean</th>\n",
       "      <td>33.871094</td>\n",
       "      <td>5326.530626</td>\n",
       "      <td>20.027344</td>\n",
       "      <td>0.518672</td>\n",
       "      <td>0.518672</td>\n",
       "    </tr>\n",
       "    <tr>\n",
       "      <th>std</th>\n",
       "      <td>3.203397</td>\n",
       "      <td>2505.493530</td>\n",
       "      <td>11.529809</td>\n",
       "      <td>0.500691</td>\n",
       "      <td>0.500691</td>\n",
       "    </tr>\n",
       "    <tr>\n",
       "      <th>min</th>\n",
       "      <td>24.000000</td>\n",
       "      <td>1059.760000</td>\n",
       "      <td>0.000000</td>\n",
       "      <td>0.000000</td>\n",
       "      <td>0.000000</td>\n",
       "    </tr>\n",
       "    <tr>\n",
       "      <th>25%</th>\n",
       "      <td>35.000000</td>\n",
       "      <td>3111.918325</td>\n",
       "      <td>10.000000</td>\n",
       "      <td>0.000000</td>\n",
       "      <td>0.000000</td>\n",
       "    </tr>\n",
       "    <tr>\n",
       "      <th>50%</th>\n",
       "      <td>35.000000</td>\n",
       "      <td>5084.625000</td>\n",
       "      <td>19.000000</td>\n",
       "      <td>1.000000</td>\n",
       "      <td>1.000000</td>\n",
       "    </tr>\n",
       "    <tr>\n",
       "      <th>75%</th>\n",
       "      <td>35.000000</td>\n",
       "      <td>7407.020850</td>\n",
       "      <td>30.000000</td>\n",
       "      <td>1.000000</td>\n",
       "      <td>1.000000</td>\n",
       "    </tr>\n",
       "    <tr>\n",
       "      <th>max</th>\n",
       "      <td>35.000000</td>\n",
       "      <td>9999.383300</td>\n",
       "      <td>40.000000</td>\n",
       "      <td>1.000000</td>\n",
       "      <td>1.000000</td>\n",
       "    </tr>\n",
       "  </tbody>\n",
       "</table>\n",
       "</div>"
      ],
      "text/plain": [
       "       Durée hebdo  Salaire base mensuel  %variable_moyen  Augmentation  \\\n",
       "count   256.000000            256.000000       256.000000    241.000000   \n",
       "mean     33.871094           5326.530626        20.027344      0.518672   \n",
       "std       3.203397           2505.493530        11.529809      0.500691   \n",
       "min      24.000000           1059.760000         0.000000      0.000000   \n",
       "25%      35.000000           3111.918325        10.000000      0.000000   \n",
       "50%      35.000000           5084.625000        19.000000      1.000000   \n",
       "75%      35.000000           7407.020850        30.000000      1.000000   \n",
       "max      35.000000           9999.383300        40.000000      1.000000   \n",
       "\n",
       "        Promotion  \n",
       "count  241.000000  \n",
       "mean     0.518672  \n",
       "std      0.500691  \n",
       "min      0.000000  \n",
       "25%      0.000000  \n",
       "50%      1.000000  \n",
       "75%      1.000000  \n",
       "max      1.000000  "
      ]
     },
     "execution_count": 292,
     "metadata": {},
     "output_type": "execute_result"
    }
   ],
   "source": [
    "remuneration_1.describe()"
   ]
  },
  {
   "cell_type": "code",
   "execution_count": 293,
   "id": "2c11ad3d",
   "metadata": {},
   "outputs": [],
   "source": [
    "remuneration_1[\"Augmentation\"].replace(np.nan, 0, inplace = True)"
   ]
  },
  {
   "cell_type": "code",
   "execution_count": 294,
   "id": "f32ae093",
   "metadata": {},
   "outputs": [],
   "source": [
    "remuneration_1[\"Promotion\"].replace(np.nan, 0, inplace = True)"
   ]
  },
  {
   "cell_type": "code",
   "execution_count": 295,
   "id": "4cb45004",
   "metadata": {},
   "outputs": [
    {
     "data": {
      "text/plain": [
       "id_salarié              0\n",
       "Contrat                 0\n",
       "Durée hebdo             0\n",
       "Salaire base mensuel    0\n",
       "%variable_moyen         0\n",
       "Augmentation            0\n",
       "Promotion               0\n",
       "dtype: int64"
      ]
     },
     "execution_count": 295,
     "metadata": {},
     "output_type": "execute_result"
    }
   ],
   "source": [
    "remuneration_1.isnull().sum()"
   ]
  },
  {
   "cell_type": "code",
   "execution_count": 296,
   "id": "6faa5f44",
   "metadata": {},
   "outputs": [
    {
     "data": {
      "text/plain": [
       "array([0., 1.])"
      ]
     },
     "execution_count": 296,
     "metadata": {},
     "output_type": "execute_result"
    }
   ],
   "source": [
    "remuneration_1[\"Promotion\"].unique()"
   ]
  },
  {
   "cell_type": "code",
   "execution_count": 297,
   "id": "f8c0147c",
   "metadata": {},
   "outputs": [
    {
     "data": {
      "text/plain": [
       "array([0., 1.])"
      ]
     },
     "execution_count": 297,
     "metadata": {},
     "output_type": "execute_result"
    }
   ],
   "source": [
    "remuneration_1[\"Augmentation\"].unique()"
   ]
  },
  {
   "cell_type": "markdown",
   "id": "ce19d4cd",
   "metadata": {},
   "source": [
    "## nettoyage du dataframe salaries"
   ]
  },
  {
   "cell_type": "code",
   "execution_count": 298,
   "id": "f29e8bc1",
   "metadata": {
    "scrolled": false
   },
   "outputs": [
    {
     "data": {
      "text/html": [
       "<div>\n",
       "<style scoped>\n",
       "    .dataframe tbody tr th:only-of-type {\n",
       "        vertical-align: middle;\n",
       "    }\n",
       "\n",
       "    .dataframe tbody tr th {\n",
       "        vertical-align: top;\n",
       "    }\n",
       "\n",
       "    .dataframe thead th {\n",
       "        text-align: right;\n",
       "    }\n",
       "</style>\n",
       "<table border=\"1\" class=\"dataframe\">\n",
       "  <thead>\n",
       "    <tr style=\"text-align: right;\">\n",
       "      <th></th>\n",
       "      <th>id_salarié</th>\n",
       "      <th>Sexe</th>\n",
       "      <th>Prénom/Nom</th>\n",
       "      <th>Telephone</th>\n",
       "      <th>Date_naissance</th>\n",
       "      <th>Etat Civil</th>\n",
       "      <th>Enfants</th>\n",
       "    </tr>\n",
       "  </thead>\n",
       "  <tbody>\n",
       "    <tr>\n",
       "      <th>0</th>\n",
       "      <td>16920105-1209</td>\n",
       "      <td>F</td>\n",
       "      <td>Solenne Delannoy</td>\n",
       "      <td>607958599.0</td>\n",
       "      <td>1955-07-07</td>\n",
       "      <td>Célibataire</td>\n",
       "      <td>1.0</td>\n",
       "    </tr>\n",
       "    <tr>\n",
       "      <th>1</th>\n",
       "      <td>16661123-8764</td>\n",
       "      <td>H</td>\n",
       "      <td>Nicolas Jaccoud</td>\n",
       "      <td>660029842.0</td>\n",
       "      <td>1970-09-22</td>\n",
       "      <td>Célibataire</td>\n",
       "      <td>3.0</td>\n",
       "    </tr>\n",
       "    <tr>\n",
       "      <th>2</th>\n",
       "      <td>16230718-4297</td>\n",
       "      <td>F</td>\n",
       "      <td>Alexandra Auguste</td>\n",
       "      <td>629910592.0</td>\n",
       "      <td>1965-03-01</td>\n",
       "      <td>Marié</td>\n",
       "      <td>1.0</td>\n",
       "    </tr>\n",
       "    <tr>\n",
       "      <th>3</th>\n",
       "      <td>16130305-6954</td>\n",
       "      <td>F</td>\n",
       "      <td>Marie-Claire Besnard</td>\n",
       "      <td>685888970.0</td>\n",
       "      <td>1963-09-02</td>\n",
       "      <td>NaN</td>\n",
       "      <td>1.0</td>\n",
       "    </tr>\n",
       "    <tr>\n",
       "      <th>4</th>\n",
       "      <td>16360125-5924</td>\n",
       "      <td>F</td>\n",
       "      <td>Marie Berengar</td>\n",
       "      <td>624840475.0</td>\n",
       "      <td>1959-04-02</td>\n",
       "      <td>Marié</td>\n",
       "      <td>3.0</td>\n",
       "    </tr>\n",
       "    <tr>\n",
       "      <th>...</th>\n",
       "      <td>...</td>\n",
       "      <td>...</td>\n",
       "      <td>...</td>\n",
       "      <td>...</td>\n",
       "      <td>...</td>\n",
       "      <td>...</td>\n",
       "      <td>...</td>\n",
       "    </tr>\n",
       "    <tr>\n",
       "      <th>252</th>\n",
       "      <td>16670913-0147</td>\n",
       "      <td>F</td>\n",
       "      <td>Jessica Brousseau</td>\n",
       "      <td>698491351.0</td>\n",
       "      <td>1990-05-20</td>\n",
       "      <td>Célibataire</td>\n",
       "      <td>1.0</td>\n",
       "    </tr>\n",
       "    <tr>\n",
       "      <th>253</th>\n",
       "      <td>16730918-6273</td>\n",
       "      <td>F</td>\n",
       "      <td>Anne Beaumanoir</td>\n",
       "      <td>670650694.0</td>\n",
       "      <td>1967-01-03</td>\n",
       "      <td>Marié</td>\n",
       "      <td>1.0</td>\n",
       "    </tr>\n",
       "    <tr>\n",
       "      <th>254</th>\n",
       "      <td>16770802-4604</td>\n",
       "      <td>F</td>\n",
       "      <td>Christelle Tomas</td>\n",
       "      <td>629546308.0</td>\n",
       "      <td>1956-03-17</td>\n",
       "      <td>Marié</td>\n",
       "      <td>2.0</td>\n",
       "    </tr>\n",
       "    <tr>\n",
       "      <th>255</th>\n",
       "      <td>16451016-1336</td>\n",
       "      <td>H</td>\n",
       "      <td>Rémy Thibodeaux</td>\n",
       "      <td>641158665.0</td>\n",
       "      <td>1977-07-06</td>\n",
       "      <td>Marié</td>\n",
       "      <td>2.0</td>\n",
       "    </tr>\n",
       "    <tr>\n",
       "      <th>256</th>\n",
       "      <td>16301224-3147</td>\n",
       "      <td>NaN</td>\n",
       "      <td>NaN</td>\n",
       "      <td>NaN</td>\n",
       "      <td>NaT</td>\n",
       "      <td>NaN</td>\n",
       "      <td>NaN</td>\n",
       "    </tr>\n",
       "  </tbody>\n",
       "</table>\n",
       "<p>257 rows × 7 columns</p>\n",
       "</div>"
      ],
      "text/plain": [
       "        id_salarié Sexe            Prénom/Nom    Telephone Date_naissance  \\\n",
       "0    16920105-1209    F      Solenne Delannoy  607958599.0     1955-07-07   \n",
       "1    16661123-8764    H       Nicolas Jaccoud  660029842.0     1970-09-22   \n",
       "2    16230718-4297    F     Alexandra Auguste  629910592.0     1965-03-01   \n",
       "3    16130305-6954    F  Marie-Claire Besnard  685888970.0     1963-09-02   \n",
       "4    16360125-5924    F        Marie Berengar  624840475.0     1959-04-02   \n",
       "..             ...  ...                   ...          ...            ...   \n",
       "252  16670913-0147    F     Jessica Brousseau  698491351.0     1990-05-20   \n",
       "253  16730918-6273    F       Anne Beaumanoir  670650694.0     1967-01-03   \n",
       "254  16770802-4604    F      Christelle Tomas  629546308.0     1956-03-17   \n",
       "255  16451016-1336    H       Rémy Thibodeaux  641158665.0     1977-07-06   \n",
       "256  16301224-3147  NaN                   NaN          NaN            NaT   \n",
       "\n",
       "      Etat Civil  Enfants  \n",
       "0    Célibataire      1.0  \n",
       "1    Célibataire      3.0  \n",
       "2          Marié      1.0  \n",
       "3            NaN      1.0  \n",
       "4          Marié      3.0  \n",
       "..           ...      ...  \n",
       "252  Célibataire      1.0  \n",
       "253        Marié      1.0  \n",
       "254        Marié      2.0  \n",
       "255        Marié      2.0  \n",
       "256          NaN      NaN  \n",
       "\n",
       "[257 rows x 7 columns]"
      ]
     },
     "execution_count": 298,
     "metadata": {},
     "output_type": "execute_result"
    }
   ],
   "source": [
    "salaries"
   ]
  },
  {
   "cell_type": "code",
   "execution_count": 299,
   "id": "8ee893ad",
   "metadata": {},
   "outputs": [
    {
     "name": "stdout",
     "output_type": "stream",
     "text": [
      "<class 'pandas.core.frame.DataFrame'>\n",
      "RangeIndex: 257 entries, 0 to 256\n",
      "Data columns (total 7 columns):\n",
      " #   Column          Non-Null Count  Dtype         \n",
      "---  ------          --------------  -----         \n",
      " 0   id_salarié      257 non-null    object        \n",
      " 1   Sexe            256 non-null    object        \n",
      " 2   Prénom/Nom      256 non-null    object        \n",
      " 3   Telephone       256 non-null    float64       \n",
      " 4   Date_naissance  256 non-null    datetime64[ns]\n",
      " 5   Etat Civil      174 non-null    object        \n",
      " 6   Enfants         256 non-null    float64       \n",
      "dtypes: datetime64[ns](1), float64(2), object(4)\n",
      "memory usage: 14.2+ KB\n"
     ]
    }
   ],
   "source": [
    "salaries.info()"
   ]
  },
  {
   "cell_type": "markdown",
   "id": "833bdd8d",
   "metadata": {},
   "source": [
    "info : \n",
    "- il y'a 7 colonnes, 257 lignes.\n",
    "- 1 NaN pour quelques colonnes, mais beaucoup plus pour la colonne Etat-Civil."
   ]
  },
  {
   "cell_type": "code",
   "execution_count": 300,
   "id": "c49d4086",
   "metadata": {},
   "outputs": [
    {
     "data": {
      "text/html": [
       "<div>\n",
       "<style scoped>\n",
       "    .dataframe tbody tr th:only-of-type {\n",
       "        vertical-align: middle;\n",
       "    }\n",
       "\n",
       "    .dataframe tbody tr th {\n",
       "        vertical-align: top;\n",
       "    }\n",
       "\n",
       "    .dataframe thead th {\n",
       "        text-align: right;\n",
       "    }\n",
       "</style>\n",
       "<table border=\"1\" class=\"dataframe\">\n",
       "  <thead>\n",
       "    <tr style=\"text-align: right;\">\n",
       "      <th></th>\n",
       "      <th>Telephone</th>\n",
       "      <th>Enfants</th>\n",
       "    </tr>\n",
       "  </thead>\n",
       "  <tbody>\n",
       "    <tr>\n",
       "      <th>count</th>\n",
       "      <td>2.560000e+02</td>\n",
       "      <td>256.000000</td>\n",
       "    </tr>\n",
       "    <tr>\n",
       "      <th>mean</th>\n",
       "      <td>6.511928e+08</td>\n",
       "      <td>1.460938</td>\n",
       "    </tr>\n",
       "    <tr>\n",
       "      <th>std</th>\n",
       "      <td>2.915357e+07</td>\n",
       "      <td>1.123038</td>\n",
       "    </tr>\n",
       "    <tr>\n",
       "      <th>min</th>\n",
       "      <td>6.003126e+08</td>\n",
       "      <td>0.000000</td>\n",
       "    </tr>\n",
       "    <tr>\n",
       "      <th>25%</th>\n",
       "      <td>6.251080e+08</td>\n",
       "      <td>0.000000</td>\n",
       "    </tr>\n",
       "    <tr>\n",
       "      <th>50%</th>\n",
       "      <td>6.514391e+08</td>\n",
       "      <td>1.000000</td>\n",
       "    </tr>\n",
       "    <tr>\n",
       "      <th>75%</th>\n",
       "      <td>6.783984e+08</td>\n",
       "      <td>2.000000</td>\n",
       "    </tr>\n",
       "    <tr>\n",
       "      <th>max</th>\n",
       "      <td>6.991239e+08</td>\n",
       "      <td>3.000000</td>\n",
       "    </tr>\n",
       "  </tbody>\n",
       "</table>\n",
       "</div>"
      ],
      "text/plain": [
       "          Telephone     Enfants\n",
       "count  2.560000e+02  256.000000\n",
       "mean   6.511928e+08    1.460938\n",
       "std    2.915357e+07    1.123038\n",
       "min    6.003126e+08    0.000000\n",
       "25%    6.251080e+08    0.000000\n",
       "50%    6.514391e+08    1.000000\n",
       "75%    6.783984e+08    2.000000\n",
       "max    6.991239e+08    3.000000"
      ]
     },
     "execution_count": 300,
     "metadata": {},
     "output_type": "execute_result"
    }
   ],
   "source": [
    "salaries.describe()"
   ]
  },
  {
   "cell_type": "markdown",
   "id": "4044f707",
   "metadata": {},
   "source": [
    "duplicate ?"
   ]
  },
  {
   "cell_type": "code",
   "execution_count": 301,
   "id": "15032716",
   "metadata": {},
   "outputs": [
    {
     "data": {
      "text/plain": [
       "0"
      ]
     },
     "execution_count": 301,
     "metadata": {},
     "output_type": "execute_result"
    }
   ],
   "source": [
    "salaries.duplicated().sum()"
   ]
  },
  {
   "cell_type": "markdown",
   "id": "b19e5cfd",
   "metadata": {},
   "source": [
    "il n'y a pas de duplicate "
   ]
  },
  {
   "cell_type": "markdown",
   "id": "931227d3",
   "metadata": {},
   "source": [
    "regardons de plus près les valeurs manquantes, pour savoir si je les remplaces ou les drop"
   ]
  },
  {
   "cell_type": "code",
   "execution_count": 302,
   "id": "96f0774d",
   "metadata": {},
   "outputs": [
    {
     "data": {
      "text/plain": [
       "id_salarié         0\n",
       "Sexe               1\n",
       "Prénom/Nom         1\n",
       "Telephone          1\n",
       "Date_naissance     1\n",
       "Etat Civil        83\n",
       "Enfants            1\n",
       "dtype: int64"
      ]
     },
     "execution_count": 302,
     "metadata": {},
     "output_type": "execute_result"
    }
   ],
   "source": [
    "salaries.isnull().sum()"
   ]
  },
  {
   "cell_type": "code",
   "execution_count": 303,
   "id": "c2613b86",
   "metadata": {},
   "outputs": [
    {
     "data": {
      "text/html": [
       "<div>\n",
       "<style scoped>\n",
       "    .dataframe tbody tr th:only-of-type {\n",
       "        vertical-align: middle;\n",
       "    }\n",
       "\n",
       "    .dataframe tbody tr th {\n",
       "        vertical-align: top;\n",
       "    }\n",
       "\n",
       "    .dataframe thead th {\n",
       "        text-align: right;\n",
       "    }\n",
       "</style>\n",
       "<table border=\"1\" class=\"dataframe\">\n",
       "  <thead>\n",
       "    <tr style=\"text-align: right;\">\n",
       "      <th></th>\n",
       "      <th>id_salarié</th>\n",
       "      <th>Sexe</th>\n",
       "      <th>Prénom/Nom</th>\n",
       "      <th>Telephone</th>\n",
       "      <th>Date_naissance</th>\n",
       "      <th>Etat Civil</th>\n",
       "      <th>Enfants</th>\n",
       "    </tr>\n",
       "  </thead>\n",
       "  <tbody>\n",
       "    <tr>\n",
       "      <th>256</th>\n",
       "      <td>16301224-3147</td>\n",
       "      <td>NaN</td>\n",
       "      <td>NaN</td>\n",
       "      <td>NaN</td>\n",
       "      <td>NaT</td>\n",
       "      <td>NaN</td>\n",
       "      <td>NaN</td>\n",
       "    </tr>\n",
       "  </tbody>\n",
       "</table>\n",
       "</div>"
      ],
      "text/plain": [
       "        id_salarié Sexe Prénom/Nom  Telephone Date_naissance Etat Civil  \\\n",
       "256  16301224-3147  NaN        NaN        NaN            NaT        NaN   \n",
       "\n",
       "     Enfants  \n",
       "256      NaN  "
      ]
     },
     "execution_count": 303,
     "metadata": {},
     "output_type": "execute_result"
    }
   ],
   "source": [
    "salaries.loc[salaries[\"Sexe\"].isnull()]"
   ]
  },
  {
   "cell_type": "markdown",
   "id": "c1f786c2",
   "metadata": {},
   "source": [
    "Nous n'avons aucune information sur ce salarié, je la drop."
   ]
  },
  {
   "cell_type": "code",
   "execution_count": 304,
   "id": "f8e5aab6",
   "metadata": {},
   "outputs": [],
   "source": [
    "salaries_1 = salaries.drop(256)"
   ]
  },
  {
   "cell_type": "code",
   "execution_count": 305,
   "id": "572d35f7",
   "metadata": {},
   "outputs": [
    {
     "data": {
      "text/plain": [
       "id_salarié         0\n",
       "Sexe               0\n",
       "Prénom/Nom         0\n",
       "Telephone          0\n",
       "Date_naissance     0\n",
       "Etat Civil        82\n",
       "Enfants            0\n",
       "dtype: int64"
      ]
     },
     "execution_count": 305,
     "metadata": {},
     "output_type": "execute_result"
    }
   ],
   "source": [
    "salaries_1.isnull().sum()"
   ]
  },
  {
   "cell_type": "markdown",
   "id": "729bc440",
   "metadata": {},
   "source": [
    "Il reste encore 83 salaries qui ou il y'a des NaN sur la colonne état civil, regardons en détail"
   ]
  },
  {
   "cell_type": "code",
   "execution_count": 306,
   "id": "4d97db33",
   "metadata": {},
   "outputs": [],
   "source": [
    "salaries_no_etat_civil = salaries.loc[salaries[\"Etat Civil\"].isnull()]"
   ]
  },
  {
   "cell_type": "code",
   "execution_count": 307,
   "id": "0462580c",
   "metadata": {},
   "outputs": [
    {
     "data": {
      "text/html": [
       "<div>\n",
       "<style scoped>\n",
       "    .dataframe tbody tr th:only-of-type {\n",
       "        vertical-align: middle;\n",
       "    }\n",
       "\n",
       "    .dataframe tbody tr th {\n",
       "        vertical-align: top;\n",
       "    }\n",
       "\n",
       "    .dataframe thead th {\n",
       "        text-align: right;\n",
       "    }\n",
       "</style>\n",
       "<table border=\"1\" class=\"dataframe\">\n",
       "  <thead>\n",
       "    <tr style=\"text-align: right;\">\n",
       "      <th></th>\n",
       "      <th>id_salarié</th>\n",
       "      <th>Sexe</th>\n",
       "      <th>Prénom/Nom</th>\n",
       "      <th>Telephone</th>\n",
       "      <th>Date_naissance</th>\n",
       "      <th>Etat Civil</th>\n",
       "      <th>Enfants</th>\n",
       "    </tr>\n",
       "  </thead>\n",
       "  <tbody>\n",
       "    <tr>\n",
       "      <th>3</th>\n",
       "      <td>16130305-6954</td>\n",
       "      <td>F</td>\n",
       "      <td>Marie-Claire Besnard</td>\n",
       "      <td>685888970.0</td>\n",
       "      <td>1963-09-02</td>\n",
       "      <td>NaN</td>\n",
       "      <td>1.0</td>\n",
       "    </tr>\n",
       "    <tr>\n",
       "      <th>8</th>\n",
       "      <td>16220420-6227</td>\n",
       "      <td>H</td>\n",
       "      <td>Christophe Mallette</td>\n",
       "      <td>683794378.0</td>\n",
       "      <td>1975-02-05</td>\n",
       "      <td>NaN</td>\n",
       "      <td>0.0</td>\n",
       "    </tr>\n",
       "    <tr>\n",
       "      <th>11</th>\n",
       "      <td>16080130-8107</td>\n",
       "      <td>H</td>\n",
       "      <td>Thaddée Batteux</td>\n",
       "      <td>678070755.0</td>\n",
       "      <td>1974-05-13</td>\n",
       "      <td>NaN</td>\n",
       "      <td>0.0</td>\n",
       "    </tr>\n",
       "    <tr>\n",
       "      <th>16</th>\n",
       "      <td>16750302-5590</td>\n",
       "      <td>F</td>\n",
       "      <td>Mélissa Lecerf</td>\n",
       "      <td>670801501.0</td>\n",
       "      <td>1977-11-13</td>\n",
       "      <td>NaN</td>\n",
       "      <td>1.0</td>\n",
       "    </tr>\n",
       "    <tr>\n",
       "      <th>17</th>\n",
       "      <td>16390127-6224</td>\n",
       "      <td>F</td>\n",
       "      <td>Lucie Gaudreau</td>\n",
       "      <td>641131944.0</td>\n",
       "      <td>1965-10-25</td>\n",
       "      <td>NaN</td>\n",
       "      <td>1.0</td>\n",
       "    </tr>\n",
       "    <tr>\n",
       "      <th>...</th>\n",
       "      <td>...</td>\n",
       "      <td>...</td>\n",
       "      <td>...</td>\n",
       "      <td>...</td>\n",
       "      <td>...</td>\n",
       "      <td>...</td>\n",
       "      <td>...</td>\n",
       "    </tr>\n",
       "    <tr>\n",
       "      <th>243</th>\n",
       "      <td>16540728-0337</td>\n",
       "      <td>F</td>\n",
       "      <td>Nikita Brosseau</td>\n",
       "      <td>660672943.0</td>\n",
       "      <td>1959-12-26</td>\n",
       "      <td>NaN</td>\n",
       "      <td>1.0</td>\n",
       "    </tr>\n",
       "    <tr>\n",
       "      <th>246</th>\n",
       "      <td>16810711-6330</td>\n",
       "      <td>H</td>\n",
       "      <td>Anatole Girault</td>\n",
       "      <td>683124664.0</td>\n",
       "      <td>1980-11-25</td>\n",
       "      <td>NaN</td>\n",
       "      <td>0.0</td>\n",
       "    </tr>\n",
       "    <tr>\n",
       "      <th>249</th>\n",
       "      <td>16091122-3147</td>\n",
       "      <td>F</td>\n",
       "      <td>Déborah Hennequin</td>\n",
       "      <td>611601056.0</td>\n",
       "      <td>1984-03-03</td>\n",
       "      <td>NaN</td>\n",
       "      <td>3.0</td>\n",
       "    </tr>\n",
       "    <tr>\n",
       "      <th>250</th>\n",
       "      <td>16690714-7836</td>\n",
       "      <td>F</td>\n",
       "      <td>Nancy Delacroix</td>\n",
       "      <td>682388988.0</td>\n",
       "      <td>1971-03-25</td>\n",
       "      <td>NaN</td>\n",
       "      <td>1.0</td>\n",
       "    </tr>\n",
       "    <tr>\n",
       "      <th>256</th>\n",
       "      <td>16301224-3147</td>\n",
       "      <td>NaN</td>\n",
       "      <td>NaN</td>\n",
       "      <td>NaN</td>\n",
       "      <td>NaT</td>\n",
       "      <td>NaN</td>\n",
       "      <td>NaN</td>\n",
       "    </tr>\n",
       "  </tbody>\n",
       "</table>\n",
       "<p>83 rows × 7 columns</p>\n",
       "</div>"
      ],
      "text/plain": [
       "        id_salarié Sexe            Prénom/Nom    Telephone Date_naissance  \\\n",
       "3    16130305-6954    F  Marie-Claire Besnard  685888970.0     1963-09-02   \n",
       "8    16220420-6227    H   Christophe Mallette  683794378.0     1975-02-05   \n",
       "11   16080130-8107    H       Thaddée Batteux  678070755.0     1974-05-13   \n",
       "16   16750302-5590    F        Mélissa Lecerf  670801501.0     1977-11-13   \n",
       "17   16390127-6224    F        Lucie Gaudreau  641131944.0     1965-10-25   \n",
       "..             ...  ...                   ...          ...            ...   \n",
       "243  16540728-0337    F       Nikita Brosseau  660672943.0     1959-12-26   \n",
       "246  16810711-6330    H       Anatole Girault  683124664.0     1980-11-25   \n",
       "249  16091122-3147    F     Déborah Hennequin  611601056.0     1984-03-03   \n",
       "250  16690714-7836    F       Nancy Delacroix  682388988.0     1971-03-25   \n",
       "256  16301224-3147  NaN                   NaN          NaN            NaT   \n",
       "\n",
       "    Etat Civil  Enfants  \n",
       "3          NaN      1.0  \n",
       "8          NaN      0.0  \n",
       "11         NaN      0.0  \n",
       "16         NaN      1.0  \n",
       "17         NaN      1.0  \n",
       "..         ...      ...  \n",
       "243        NaN      1.0  \n",
       "246        NaN      0.0  \n",
       "249        NaN      3.0  \n",
       "250        NaN      1.0  \n",
       "256        NaN      NaN  \n",
       "\n",
       "[83 rows x 7 columns]"
      ]
     },
     "execution_count": 307,
     "metadata": {},
     "output_type": "execute_result"
    }
   ],
   "source": [
    "salaries_no_etat_civil"
   ]
  },
  {
   "cell_type": "code",
   "execution_count": 308,
   "id": "924395b4",
   "metadata": {},
   "outputs": [
    {
     "data": {
      "text/plain": [
       "F    42\n",
       "H    40\n",
       "Name: Sexe, dtype: int64"
      ]
     },
     "execution_count": 308,
     "metadata": {},
     "output_type": "execute_result"
    }
   ],
   "source": [
    "salaries_no_etat_civil[\"Sexe\"].value_counts()"
   ]
  },
  {
   "cell_type": "markdown",
   "id": "6811873f",
   "metadata": {},
   "source": [
    "je regarde les valeurs possibles de la colonne Etat Civil"
   ]
  },
  {
   "cell_type": "code",
   "execution_count": 309,
   "id": "ead159e2",
   "metadata": {},
   "outputs": [
    {
     "data": {
      "text/plain": [
       "array(['Célibataire', 'Marié', nan], dtype=object)"
      ]
     },
     "execution_count": 309,
     "metadata": {},
     "output_type": "execute_result"
    }
   ],
   "source": [
    "salaries_1[\"Etat Civil\"].unique()"
   ]
  },
  {
   "cell_type": "markdown",
   "id": "d2061deb",
   "metadata": {},
   "source": [
    "Je pars du principe que ces 83 valeurs sont manquantes pour ces deux principales raisons :\n",
    "- Le salaries n'a pas voulu partager cette information à son entreprise \n",
    "- L'entreprise à oublier de renseigner cette information"
   ]
  },
  {
   "cell_type": "markdown",
   "id": "a956b964",
   "metadata": {},
   "source": [
    "je remplace ces NaN par \"non présicé\""
   ]
  },
  {
   "cell_type": "code",
   "execution_count": 310,
   "id": "54459982",
   "metadata": {},
   "outputs": [],
   "source": [
    "salaries_1[\"Etat Civil\"].replace(np.nan, 'non précisé', inplace = True)"
   ]
  },
  {
   "cell_type": "code",
   "execution_count": 311,
   "id": "7e78056a",
   "metadata": {},
   "outputs": [
    {
     "data": {
      "text/html": [
       "<div>\n",
       "<style scoped>\n",
       "    .dataframe tbody tr th:only-of-type {\n",
       "        vertical-align: middle;\n",
       "    }\n",
       "\n",
       "    .dataframe tbody tr th {\n",
       "        vertical-align: top;\n",
       "    }\n",
       "\n",
       "    .dataframe thead th {\n",
       "        text-align: right;\n",
       "    }\n",
       "</style>\n",
       "<table border=\"1\" class=\"dataframe\">\n",
       "  <thead>\n",
       "    <tr style=\"text-align: right;\">\n",
       "      <th></th>\n",
       "      <th>id_salarié</th>\n",
       "      <th>Sexe</th>\n",
       "      <th>Prénom/Nom</th>\n",
       "      <th>Telephone</th>\n",
       "      <th>Date_naissance</th>\n",
       "      <th>Etat Civil</th>\n",
       "      <th>Enfants</th>\n",
       "    </tr>\n",
       "  </thead>\n",
       "  <tbody>\n",
       "    <tr>\n",
       "      <th>0</th>\n",
       "      <td>16920105-1209</td>\n",
       "      <td>F</td>\n",
       "      <td>Solenne Delannoy</td>\n",
       "      <td>607958599.0</td>\n",
       "      <td>1955-07-07</td>\n",
       "      <td>Célibataire</td>\n",
       "      <td>1.0</td>\n",
       "    </tr>\n",
       "    <tr>\n",
       "      <th>1</th>\n",
       "      <td>16661123-8764</td>\n",
       "      <td>H</td>\n",
       "      <td>Nicolas Jaccoud</td>\n",
       "      <td>660029842.0</td>\n",
       "      <td>1970-09-22</td>\n",
       "      <td>Célibataire</td>\n",
       "      <td>3.0</td>\n",
       "    </tr>\n",
       "    <tr>\n",
       "      <th>2</th>\n",
       "      <td>16230718-4297</td>\n",
       "      <td>F</td>\n",
       "      <td>Alexandra Auguste</td>\n",
       "      <td>629910592.0</td>\n",
       "      <td>1965-03-01</td>\n",
       "      <td>Marié</td>\n",
       "      <td>1.0</td>\n",
       "    </tr>\n",
       "    <tr>\n",
       "      <th>3</th>\n",
       "      <td>16130305-6954</td>\n",
       "      <td>F</td>\n",
       "      <td>Marie-Claire Besnard</td>\n",
       "      <td>685888970.0</td>\n",
       "      <td>1963-09-02</td>\n",
       "      <td>non précisé</td>\n",
       "      <td>1.0</td>\n",
       "    </tr>\n",
       "    <tr>\n",
       "      <th>4</th>\n",
       "      <td>16360125-5924</td>\n",
       "      <td>F</td>\n",
       "      <td>Marie Berengar</td>\n",
       "      <td>624840475.0</td>\n",
       "      <td>1959-04-02</td>\n",
       "      <td>Marié</td>\n",
       "      <td>3.0</td>\n",
       "    </tr>\n",
       "    <tr>\n",
       "      <th>...</th>\n",
       "      <td>...</td>\n",
       "      <td>...</td>\n",
       "      <td>...</td>\n",
       "      <td>...</td>\n",
       "      <td>...</td>\n",
       "      <td>...</td>\n",
       "      <td>...</td>\n",
       "    </tr>\n",
       "    <tr>\n",
       "      <th>251</th>\n",
       "      <td>16081104-1011</td>\n",
       "      <td>F</td>\n",
       "      <td>Thècle Baudet</td>\n",
       "      <td>653326499.0</td>\n",
       "      <td>1985-07-22</td>\n",
       "      <td>Marié</td>\n",
       "      <td>3.0</td>\n",
       "    </tr>\n",
       "    <tr>\n",
       "      <th>252</th>\n",
       "      <td>16670913-0147</td>\n",
       "      <td>F</td>\n",
       "      <td>Jessica Brousseau</td>\n",
       "      <td>698491351.0</td>\n",
       "      <td>1990-05-20</td>\n",
       "      <td>Célibataire</td>\n",
       "      <td>1.0</td>\n",
       "    </tr>\n",
       "    <tr>\n",
       "      <th>253</th>\n",
       "      <td>16730918-6273</td>\n",
       "      <td>F</td>\n",
       "      <td>Anne Beaumanoir</td>\n",
       "      <td>670650694.0</td>\n",
       "      <td>1967-01-03</td>\n",
       "      <td>Marié</td>\n",
       "      <td>1.0</td>\n",
       "    </tr>\n",
       "    <tr>\n",
       "      <th>254</th>\n",
       "      <td>16770802-4604</td>\n",
       "      <td>F</td>\n",
       "      <td>Christelle Tomas</td>\n",
       "      <td>629546308.0</td>\n",
       "      <td>1956-03-17</td>\n",
       "      <td>Marié</td>\n",
       "      <td>2.0</td>\n",
       "    </tr>\n",
       "    <tr>\n",
       "      <th>255</th>\n",
       "      <td>16451016-1336</td>\n",
       "      <td>H</td>\n",
       "      <td>Rémy Thibodeaux</td>\n",
       "      <td>641158665.0</td>\n",
       "      <td>1977-07-06</td>\n",
       "      <td>Marié</td>\n",
       "      <td>2.0</td>\n",
       "    </tr>\n",
       "  </tbody>\n",
       "</table>\n",
       "<p>256 rows × 7 columns</p>\n",
       "</div>"
      ],
      "text/plain": [
       "        id_salarié Sexe            Prénom/Nom    Telephone Date_naissance  \\\n",
       "0    16920105-1209    F      Solenne Delannoy  607958599.0     1955-07-07   \n",
       "1    16661123-8764    H       Nicolas Jaccoud  660029842.0     1970-09-22   \n",
       "2    16230718-4297    F     Alexandra Auguste  629910592.0     1965-03-01   \n",
       "3    16130305-6954    F  Marie-Claire Besnard  685888970.0     1963-09-02   \n",
       "4    16360125-5924    F        Marie Berengar  624840475.0     1959-04-02   \n",
       "..             ...  ...                   ...          ...            ...   \n",
       "251  16081104-1011    F         Thècle Baudet  653326499.0     1985-07-22   \n",
       "252  16670913-0147    F     Jessica Brousseau  698491351.0     1990-05-20   \n",
       "253  16730918-6273    F       Anne Beaumanoir  670650694.0     1967-01-03   \n",
       "254  16770802-4604    F      Christelle Tomas  629546308.0     1956-03-17   \n",
       "255  16451016-1336    H       Rémy Thibodeaux  641158665.0     1977-07-06   \n",
       "\n",
       "      Etat Civil  Enfants  \n",
       "0    Célibataire      1.0  \n",
       "1    Célibataire      3.0  \n",
       "2          Marié      1.0  \n",
       "3    non précisé      1.0  \n",
       "4          Marié      3.0  \n",
       "..           ...      ...  \n",
       "251        Marié      3.0  \n",
       "252  Célibataire      1.0  \n",
       "253        Marié      1.0  \n",
       "254        Marié      2.0  \n",
       "255        Marié      2.0  \n",
       "\n",
       "[256 rows x 7 columns]"
      ]
     },
     "execution_count": 311,
     "metadata": {},
     "output_type": "execute_result"
    }
   ],
   "source": [
    "salaries_1"
   ]
  },
  {
   "cell_type": "code",
   "execution_count": 312,
   "id": "260aefa1",
   "metadata": {},
   "outputs": [
    {
     "data": {
      "text/plain": [
       "id_salarié        0\n",
       "Sexe              0\n",
       "Prénom/Nom        0\n",
       "Telephone         0\n",
       "Date_naissance    0\n",
       "Etat Civil        0\n",
       "Enfants           0\n",
       "dtype: int64"
      ]
     },
     "execution_count": 312,
     "metadata": {},
     "output_type": "execute_result"
    }
   ],
   "source": [
    "salaries_1.isnull().sum()"
   ]
  },
  {
   "cell_type": "markdown",
   "id": "90b6510c",
   "metadata": {},
   "source": [
    "je n'ai plus de NaN dans mon dataframe"
   ]
  },
  {
   "cell_type": "markdown",
   "id": "b591d2ae",
   "metadata": {},
   "source": [
    "ajouter une nouvelle colonne \"age\" à mon dataframe facilitera m'on analyse"
   ]
  },
  {
   "cell_type": "code",
   "execution_count": 313,
   "id": "552a2721",
   "metadata": {},
   "outputs": [
    {
     "data": {
      "text/plain": [
       "0      1955\n",
       "1      1970\n",
       "2      1965\n",
       "3      1963\n",
       "4      1959\n",
       "       ... \n",
       "251    1985\n",
       "252    1990\n",
       "253    1967\n",
       "254    1956\n",
       "255    1977\n",
       "Name: Date_naissance, Length: 256, dtype: int64"
      ]
     },
     "execution_count": 313,
     "metadata": {},
     "output_type": "execute_result"
    }
   ],
   "source": [
    "salaries_1[\"Date_naissance\"].dt.year"
   ]
  },
  {
   "cell_type": "code",
   "execution_count": 314,
   "id": "6b8f5483",
   "metadata": {},
   "outputs": [],
   "source": [
    "salaries_1 = salaries_1.assign(age = 2023 - salaries_1[\"Date_naissance\"].dt.year)"
   ]
  },
  {
   "cell_type": "code",
   "execution_count": 315,
   "id": "3c67bd91",
   "metadata": {},
   "outputs": [
    {
     "data": {
      "text/html": [
       "<div>\n",
       "<style scoped>\n",
       "    .dataframe tbody tr th:only-of-type {\n",
       "        vertical-align: middle;\n",
       "    }\n",
       "\n",
       "    .dataframe tbody tr th {\n",
       "        vertical-align: top;\n",
       "    }\n",
       "\n",
       "    .dataframe thead th {\n",
       "        text-align: right;\n",
       "    }\n",
       "</style>\n",
       "<table border=\"1\" class=\"dataframe\">\n",
       "  <thead>\n",
       "    <tr style=\"text-align: right;\">\n",
       "      <th></th>\n",
       "      <th>id_salarié</th>\n",
       "      <th>Sexe</th>\n",
       "      <th>Prénom/Nom</th>\n",
       "      <th>Telephone</th>\n",
       "      <th>Date_naissance</th>\n",
       "      <th>Etat Civil</th>\n",
       "      <th>Enfants</th>\n",
       "      <th>age</th>\n",
       "    </tr>\n",
       "  </thead>\n",
       "  <tbody>\n",
       "    <tr>\n",
       "      <th>0</th>\n",
       "      <td>16920105-1209</td>\n",
       "      <td>F</td>\n",
       "      <td>Solenne Delannoy</td>\n",
       "      <td>607958599.0</td>\n",
       "      <td>1955-07-07</td>\n",
       "      <td>Célibataire</td>\n",
       "      <td>1.0</td>\n",
       "      <td>68</td>\n",
       "    </tr>\n",
       "    <tr>\n",
       "      <th>1</th>\n",
       "      <td>16661123-8764</td>\n",
       "      <td>H</td>\n",
       "      <td>Nicolas Jaccoud</td>\n",
       "      <td>660029842.0</td>\n",
       "      <td>1970-09-22</td>\n",
       "      <td>Célibataire</td>\n",
       "      <td>3.0</td>\n",
       "      <td>53</td>\n",
       "    </tr>\n",
       "    <tr>\n",
       "      <th>2</th>\n",
       "      <td>16230718-4297</td>\n",
       "      <td>F</td>\n",
       "      <td>Alexandra Auguste</td>\n",
       "      <td>629910592.0</td>\n",
       "      <td>1965-03-01</td>\n",
       "      <td>Marié</td>\n",
       "      <td>1.0</td>\n",
       "      <td>58</td>\n",
       "    </tr>\n",
       "    <tr>\n",
       "      <th>3</th>\n",
       "      <td>16130305-6954</td>\n",
       "      <td>F</td>\n",
       "      <td>Marie-Claire Besnard</td>\n",
       "      <td>685888970.0</td>\n",
       "      <td>1963-09-02</td>\n",
       "      <td>non précisé</td>\n",
       "      <td>1.0</td>\n",
       "      <td>60</td>\n",
       "    </tr>\n",
       "    <tr>\n",
       "      <th>4</th>\n",
       "      <td>16360125-5924</td>\n",
       "      <td>F</td>\n",
       "      <td>Marie Berengar</td>\n",
       "      <td>624840475.0</td>\n",
       "      <td>1959-04-02</td>\n",
       "      <td>Marié</td>\n",
       "      <td>3.0</td>\n",
       "      <td>64</td>\n",
       "    </tr>\n",
       "    <tr>\n",
       "      <th>...</th>\n",
       "      <td>...</td>\n",
       "      <td>...</td>\n",
       "      <td>...</td>\n",
       "      <td>...</td>\n",
       "      <td>...</td>\n",
       "      <td>...</td>\n",
       "      <td>...</td>\n",
       "      <td>...</td>\n",
       "    </tr>\n",
       "    <tr>\n",
       "      <th>251</th>\n",
       "      <td>16081104-1011</td>\n",
       "      <td>F</td>\n",
       "      <td>Thècle Baudet</td>\n",
       "      <td>653326499.0</td>\n",
       "      <td>1985-07-22</td>\n",
       "      <td>Marié</td>\n",
       "      <td>3.0</td>\n",
       "      <td>38</td>\n",
       "    </tr>\n",
       "    <tr>\n",
       "      <th>252</th>\n",
       "      <td>16670913-0147</td>\n",
       "      <td>F</td>\n",
       "      <td>Jessica Brousseau</td>\n",
       "      <td>698491351.0</td>\n",
       "      <td>1990-05-20</td>\n",
       "      <td>Célibataire</td>\n",
       "      <td>1.0</td>\n",
       "      <td>33</td>\n",
       "    </tr>\n",
       "    <tr>\n",
       "      <th>253</th>\n",
       "      <td>16730918-6273</td>\n",
       "      <td>F</td>\n",
       "      <td>Anne Beaumanoir</td>\n",
       "      <td>670650694.0</td>\n",
       "      <td>1967-01-03</td>\n",
       "      <td>Marié</td>\n",
       "      <td>1.0</td>\n",
       "      <td>56</td>\n",
       "    </tr>\n",
       "    <tr>\n",
       "      <th>254</th>\n",
       "      <td>16770802-4604</td>\n",
       "      <td>F</td>\n",
       "      <td>Christelle Tomas</td>\n",
       "      <td>629546308.0</td>\n",
       "      <td>1956-03-17</td>\n",
       "      <td>Marié</td>\n",
       "      <td>2.0</td>\n",
       "      <td>67</td>\n",
       "    </tr>\n",
       "    <tr>\n",
       "      <th>255</th>\n",
       "      <td>16451016-1336</td>\n",
       "      <td>H</td>\n",
       "      <td>Rémy Thibodeaux</td>\n",
       "      <td>641158665.0</td>\n",
       "      <td>1977-07-06</td>\n",
       "      <td>Marié</td>\n",
       "      <td>2.0</td>\n",
       "      <td>46</td>\n",
       "    </tr>\n",
       "  </tbody>\n",
       "</table>\n",
       "<p>256 rows × 8 columns</p>\n",
       "</div>"
      ],
      "text/plain": [
       "        id_salarié Sexe            Prénom/Nom    Telephone Date_naissance  \\\n",
       "0    16920105-1209    F      Solenne Delannoy  607958599.0     1955-07-07   \n",
       "1    16661123-8764    H       Nicolas Jaccoud  660029842.0     1970-09-22   \n",
       "2    16230718-4297    F     Alexandra Auguste  629910592.0     1965-03-01   \n",
       "3    16130305-6954    F  Marie-Claire Besnard  685888970.0     1963-09-02   \n",
       "4    16360125-5924    F        Marie Berengar  624840475.0     1959-04-02   \n",
       "..             ...  ...                   ...          ...            ...   \n",
       "251  16081104-1011    F         Thècle Baudet  653326499.0     1985-07-22   \n",
       "252  16670913-0147    F     Jessica Brousseau  698491351.0     1990-05-20   \n",
       "253  16730918-6273    F       Anne Beaumanoir  670650694.0     1967-01-03   \n",
       "254  16770802-4604    F      Christelle Tomas  629546308.0     1956-03-17   \n",
       "255  16451016-1336    H       Rémy Thibodeaux  641158665.0     1977-07-06   \n",
       "\n",
       "      Etat Civil  Enfants  age  \n",
       "0    Célibataire      1.0   68  \n",
       "1    Célibataire      3.0   53  \n",
       "2          Marié      1.0   58  \n",
       "3    non précisé      1.0   60  \n",
       "4          Marié      3.0   64  \n",
       "..           ...      ...  ...  \n",
       "251        Marié      3.0   38  \n",
       "252  Célibataire      1.0   33  \n",
       "253        Marié      1.0   56  \n",
       "254        Marié      2.0   67  \n",
       "255        Marié      2.0   46  \n",
       "\n",
       "[256 rows x 8 columns]"
      ]
     },
     "execution_count": 315,
     "metadata": {},
     "output_type": "execute_result"
    }
   ],
   "source": [
    "salaries_1"
   ]
  },
  {
   "cell_type": "markdown",
   "id": "ce5980c3",
   "metadata": {},
   "source": [
    "## Merger mes 3 dataframe en un seul "
   ]
  },
  {
   "cell_type": "markdown",
   "id": "034d1149",
   "metadata": {},
   "source": [
    "la clé pour nos 3 dataframe est la même : Id salarié. Un inner join est parfait vu que les Id des \n",
    "clients sont présent dans les 3 dataframe"
   ]
  },
  {
   "cell_type": "code",
   "execution_count": 316,
   "id": "fb78a66e",
   "metadata": {},
   "outputs": [],
   "source": [
    "df_1 = info_pro_no_nan.merge(remuneration_1, on = 'id_salarié', how = \"inner\")\n",
    "df = df_1.merge(salaries_1, on = 'id_salarié', how = 'inner')"
   ]
  },
  {
   "cell_type": "code",
   "execution_count": 317,
   "id": "5bd61eab",
   "metadata": {},
   "outputs": [
    {
     "data": {
      "text/html": [
       "<div>\n",
       "<style scoped>\n",
       "    .dataframe tbody tr th:only-of-type {\n",
       "        vertical-align: middle;\n",
       "    }\n",
       "\n",
       "    .dataframe tbody tr th {\n",
       "        vertical-align: top;\n",
       "    }\n",
       "\n",
       "    .dataframe thead th {\n",
       "        text-align: right;\n",
       "    }\n",
       "</style>\n",
       "<table border=\"1\" class=\"dataframe\">\n",
       "  <thead>\n",
       "    <tr style=\"text-align: right;\">\n",
       "      <th></th>\n",
       "      <th>id_salarié</th>\n",
       "      <th>Ancienneté_an</th>\n",
       "      <th>Distance domicile/Travail</th>\n",
       "      <th>Service</th>\n",
       "      <th>Work_accident</th>\n",
       "      <th>Niveau de satisfaction</th>\n",
       "      <th>Contrat</th>\n",
       "      <th>Durée hebdo</th>\n",
       "      <th>Salaire base mensuel</th>\n",
       "      <th>%variable_moyen</th>\n",
       "      <th>Augmentation</th>\n",
       "      <th>Promotion</th>\n",
       "      <th>Sexe</th>\n",
       "      <th>Prénom/Nom</th>\n",
       "      <th>Telephone</th>\n",
       "      <th>Date_naissance</th>\n",
       "      <th>Etat Civil</th>\n",
       "      <th>Enfants</th>\n",
       "      <th>age</th>\n",
       "    </tr>\n",
       "  </thead>\n",
       "  <tbody>\n",
       "    <tr>\n",
       "      <th>0</th>\n",
       "      <td>16000206-8278</td>\n",
       "      <td>12.6</td>\n",
       "      <td>59.0</td>\n",
       "      <td>Marketing</td>\n",
       "      <td>Non</td>\n",
       "      <td>67.0</td>\n",
       "      <td>CDI</td>\n",
       "      <td>35.0</td>\n",
       "      <td>6583.8500</td>\n",
       "      <td>13.0</td>\n",
       "      <td>1.0</td>\n",
       "      <td>1.0</td>\n",
       "      <td>F</td>\n",
       "      <td>Pascale Duclos</td>\n",
       "      <td>677289138.0</td>\n",
       "      <td>1958-12-07</td>\n",
       "      <td>non précisé</td>\n",
       "      <td>2.0</td>\n",
       "      <td>65</td>\n",
       "    </tr>\n",
       "    <tr>\n",
       "      <th>1</th>\n",
       "      <td>16011205-0331</td>\n",
       "      <td>11.8</td>\n",
       "      <td>31.0</td>\n",
       "      <td>Commercial</td>\n",
       "      <td>Oui</td>\n",
       "      <td>66.0</td>\n",
       "      <td>CDI</td>\n",
       "      <td>24.0</td>\n",
       "      <td>4974.3200</td>\n",
       "      <td>32.0</td>\n",
       "      <td>0.0</td>\n",
       "      <td>1.0</td>\n",
       "      <td>F</td>\n",
       "      <td>Nicole Affré</td>\n",
       "      <td>640934749.0</td>\n",
       "      <td>1957-04-23</td>\n",
       "      <td>Célibataire</td>\n",
       "      <td>2.0</td>\n",
       "      <td>66</td>\n",
       "    </tr>\n",
       "    <tr>\n",
       "      <th>2</th>\n",
       "      <td>16020327-1465</td>\n",
       "      <td>11.9</td>\n",
       "      <td>65.0</td>\n",
       "      <td>RH</td>\n",
       "      <td>Non</td>\n",
       "      <td>59.0</td>\n",
       "      <td>CDI</td>\n",
       "      <td>32.0</td>\n",
       "      <td>8860.8000</td>\n",
       "      <td>19.0</td>\n",
       "      <td>1.0</td>\n",
       "      <td>1.0</td>\n",
       "      <td>F</td>\n",
       "      <td>Marie-Claire Bachelet</td>\n",
       "      <td>609243379.0</td>\n",
       "      <td>1973-08-19</td>\n",
       "      <td>Célibataire</td>\n",
       "      <td>3.0</td>\n",
       "      <td>50</td>\n",
       "    </tr>\n",
       "    <tr>\n",
       "      <th>3</th>\n",
       "      <td>16020701-3376</td>\n",
       "      <td>10.2</td>\n",
       "      <td>59.0</td>\n",
       "      <td>Compta Finances</td>\n",
       "      <td>Non</td>\n",
       "      <td>60.0</td>\n",
       "      <td>CDI</td>\n",
       "      <td>35.0</td>\n",
       "      <td>8328.0167</td>\n",
       "      <td>14.0</td>\n",
       "      <td>1.0</td>\n",
       "      <td>0.0</td>\n",
       "      <td>F</td>\n",
       "      <td>Claire Chagnon</td>\n",
       "      <td>683289092.0</td>\n",
       "      <td>1981-10-09</td>\n",
       "      <td>Célibataire</td>\n",
       "      <td>1.0</td>\n",
       "      <td>42</td>\n",
       "    </tr>\n",
       "    <tr>\n",
       "      <th>4</th>\n",
       "      <td>16020725-8401</td>\n",
       "      <td>7.9</td>\n",
       "      <td>59.0</td>\n",
       "      <td>Consultant</td>\n",
       "      <td>Non</td>\n",
       "      <td>34.0</td>\n",
       "      <td>CDI</td>\n",
       "      <td>35.0</td>\n",
       "      <td>7304.2667</td>\n",
       "      <td>17.0</td>\n",
       "      <td>1.0</td>\n",
       "      <td>0.0</td>\n",
       "      <td>F</td>\n",
       "      <td>Séverine Gaumont</td>\n",
       "      <td>684333280.0</td>\n",
       "      <td>1979-04-26</td>\n",
       "      <td>Marié</td>\n",
       "      <td>0.0</td>\n",
       "      <td>44</td>\n",
       "    </tr>\n",
       "    <tr>\n",
       "      <th>...</th>\n",
       "      <td>...</td>\n",
       "      <td>...</td>\n",
       "      <td>...</td>\n",
       "      <td>...</td>\n",
       "      <td>...</td>\n",
       "      <td>...</td>\n",
       "      <td>...</td>\n",
       "      <td>...</td>\n",
       "      <td>...</td>\n",
       "      <td>...</td>\n",
       "      <td>...</td>\n",
       "      <td>...</td>\n",
       "      <td>...</td>\n",
       "      <td>...</td>\n",
       "      <td>...</td>\n",
       "      <td>...</td>\n",
       "      <td>...</td>\n",
       "      <td>...</td>\n",
       "      <td>...</td>\n",
       "    </tr>\n",
       "    <tr>\n",
       "      <th>251</th>\n",
       "      <td>16960906-7989</td>\n",
       "      <td>3.3</td>\n",
       "      <td>15.0</td>\n",
       "      <td>R&amp;D</td>\n",
       "      <td>Oui</td>\n",
       "      <td>81.0</td>\n",
       "      <td>CDD</td>\n",
       "      <td>35.0</td>\n",
       "      <td>2848.3000</td>\n",
       "      <td>15.0</td>\n",
       "      <td>1.0</td>\n",
       "      <td>0.0</td>\n",
       "      <td>H</td>\n",
       "      <td>Fabien Cerf</td>\n",
       "      <td>626873728.0</td>\n",
       "      <td>1983-03-04</td>\n",
       "      <td>non précisé</td>\n",
       "      <td>0.0</td>\n",
       "      <td>40</td>\n",
       "    </tr>\n",
       "    <tr>\n",
       "      <th>252</th>\n",
       "      <td>16970415-1050</td>\n",
       "      <td>21.7</td>\n",
       "      <td>59.0</td>\n",
       "      <td>Consultant</td>\n",
       "      <td>Non</td>\n",
       "      <td>98.0</td>\n",
       "      <td>CDI</td>\n",
       "      <td>35.0</td>\n",
       "      <td>1697.1500</td>\n",
       "      <td>17.0</td>\n",
       "      <td>1.0</td>\n",
       "      <td>0.0</td>\n",
       "      <td>H</td>\n",
       "      <td>Denis Vérany</td>\n",
       "      <td>607599922.0</td>\n",
       "      <td>1963-10-25</td>\n",
       "      <td>Marié</td>\n",
       "      <td>3.0</td>\n",
       "      <td>60</td>\n",
       "    </tr>\n",
       "    <tr>\n",
       "      <th>253</th>\n",
       "      <td>16981206-3817</td>\n",
       "      <td>13.0</td>\n",
       "      <td>68.0</td>\n",
       "      <td>RH</td>\n",
       "      <td>Oui</td>\n",
       "      <td>62.0</td>\n",
       "      <td>CDI</td>\n",
       "      <td>35.0</td>\n",
       "      <td>3705.2167</td>\n",
       "      <td>29.0</td>\n",
       "      <td>1.0</td>\n",
       "      <td>1.0</td>\n",
       "      <td>F</td>\n",
       "      <td>Flora Lajoie</td>\n",
       "      <td>651981019.0</td>\n",
       "      <td>1970-01-19</td>\n",
       "      <td>non précisé</td>\n",
       "      <td>1.0</td>\n",
       "      <td>53</td>\n",
       "    </tr>\n",
       "    <tr>\n",
       "      <th>254</th>\n",
       "      <td>16990414-3527</td>\n",
       "      <td>10.8</td>\n",
       "      <td>32.0</td>\n",
       "      <td>Consultant</td>\n",
       "      <td>Non</td>\n",
       "      <td>39.0</td>\n",
       "      <td>CDI</td>\n",
       "      <td>35.0</td>\n",
       "      <td>4296.7167</td>\n",
       "      <td>39.0</td>\n",
       "      <td>0.0</td>\n",
       "      <td>1.0</td>\n",
       "      <td>H</td>\n",
       "      <td>Aurélien Beaubois</td>\n",
       "      <td>660488569.0</td>\n",
       "      <td>1955-07-01</td>\n",
       "      <td>Célibataire</td>\n",
       "      <td>0.0</td>\n",
       "      <td>68</td>\n",
       "    </tr>\n",
       "    <tr>\n",
       "      <th>255</th>\n",
       "      <td>16990924-2829</td>\n",
       "      <td>22.5</td>\n",
       "      <td>69.0</td>\n",
       "      <td>Consultant</td>\n",
       "      <td>Non</td>\n",
       "      <td>60.0</td>\n",
       "      <td>CDI</td>\n",
       "      <td>35.0</td>\n",
       "      <td>9873.5000</td>\n",
       "      <td>13.0</td>\n",
       "      <td>0.0</td>\n",
       "      <td>0.0</td>\n",
       "      <td>F</td>\n",
       "      <td>Laëtitia Rapace</td>\n",
       "      <td>624526743.0</td>\n",
       "      <td>1976-02-18</td>\n",
       "      <td>Marié</td>\n",
       "      <td>3.0</td>\n",
       "      <td>47</td>\n",
       "    </tr>\n",
       "  </tbody>\n",
       "</table>\n",
       "<p>256 rows × 19 columns</p>\n",
       "</div>"
      ],
      "text/plain": [
       "        id_salarié Ancienneté_an Distance domicile/Travail          Service  \\\n",
       "0    16000206-8278          12.6                      59.0        Marketing   \n",
       "1    16011205-0331          11.8                      31.0       Commercial   \n",
       "2    16020327-1465          11.9                      65.0               RH   \n",
       "3    16020701-3376          10.2                      59.0  Compta Finances   \n",
       "4    16020725-8401           7.9                      59.0       Consultant   \n",
       "..             ...           ...                       ...              ...   \n",
       "251  16960906-7989           3.3                      15.0              R&D   \n",
       "252  16970415-1050          21.7                      59.0       Consultant   \n",
       "253  16981206-3817          13.0                      68.0               RH   \n",
       "254  16990414-3527          10.8                      32.0       Consultant   \n",
       "255  16990924-2829          22.5                      69.0       Consultant   \n",
       "\n",
       "    Work_accident Niveau de satisfaction Contrat  Durée hebdo  \\\n",
       "0             Non                   67.0     CDI         35.0   \n",
       "1             Oui                   66.0     CDI         24.0   \n",
       "2             Non                   59.0     CDI         32.0   \n",
       "3             Non                   60.0     CDI         35.0   \n",
       "4             Non                   34.0     CDI         35.0   \n",
       "..            ...                    ...     ...          ...   \n",
       "251           Oui                   81.0     CDD         35.0   \n",
       "252           Non                   98.0     CDI         35.0   \n",
       "253           Oui                   62.0     CDI         35.0   \n",
       "254           Non                   39.0     CDI         35.0   \n",
       "255           Non                   60.0     CDI         35.0   \n",
       "\n",
       "     Salaire base mensuel  %variable_moyen  Augmentation  Promotion Sexe  \\\n",
       "0               6583.8500             13.0           1.0        1.0    F   \n",
       "1               4974.3200             32.0           0.0        1.0    F   \n",
       "2               8860.8000             19.0           1.0        1.0    F   \n",
       "3               8328.0167             14.0           1.0        0.0    F   \n",
       "4               7304.2667             17.0           1.0        0.0    F   \n",
       "..                    ...              ...           ...        ...  ...   \n",
       "251             2848.3000             15.0           1.0        0.0    H   \n",
       "252             1697.1500             17.0           1.0        0.0    H   \n",
       "253             3705.2167             29.0           1.0        1.0    F   \n",
       "254             4296.7167             39.0           0.0        1.0    H   \n",
       "255             9873.5000             13.0           0.0        0.0    F   \n",
       "\n",
       "                Prénom/Nom    Telephone Date_naissance   Etat Civil  Enfants  \\\n",
       "0           Pascale Duclos  677289138.0     1958-12-07  non précisé      2.0   \n",
       "1             Nicole Affré  640934749.0     1957-04-23  Célibataire      2.0   \n",
       "2    Marie-Claire Bachelet  609243379.0     1973-08-19  Célibataire      3.0   \n",
       "3           Claire Chagnon  683289092.0     1981-10-09  Célibataire      1.0   \n",
       "4         Séverine Gaumont  684333280.0     1979-04-26        Marié      0.0   \n",
       "..                     ...          ...            ...          ...      ...   \n",
       "251            Fabien Cerf  626873728.0     1983-03-04  non précisé      0.0   \n",
       "252           Denis Vérany  607599922.0     1963-10-25        Marié      3.0   \n",
       "253           Flora Lajoie  651981019.0     1970-01-19  non précisé      1.0   \n",
       "254      Aurélien Beaubois  660488569.0     1955-07-01  Célibataire      0.0   \n",
       "255        Laëtitia Rapace  624526743.0     1976-02-18        Marié      3.0   \n",
       "\n",
       "     age  \n",
       "0     65  \n",
       "1     66  \n",
       "2     50  \n",
       "3     42  \n",
       "4     44  \n",
       "..   ...  \n",
       "251   40  \n",
       "252   60  \n",
       "253   53  \n",
       "254   68  \n",
       "255   47  \n",
       "\n",
       "[256 rows x 19 columns]"
      ]
     },
     "execution_count": 317,
     "metadata": {},
     "output_type": "execute_result"
    }
   ],
   "source": [
    "df"
   ]
  },
  {
   "cell_type": "markdown",
   "id": "5ccdd257",
   "metadata": {},
   "source": [
    "## Change/add Columns "
   ]
  },
  {
   "cell_type": "markdown",
   "id": "45340121",
   "metadata": {},
   "source": [
    "j'ajoute la colonne tranche d'age pour m'aider dans mon analyse"
   ]
  },
  {
   "cell_type": "code",
   "execution_count": 318,
   "id": "c345ac90",
   "metadata": {},
   "outputs": [],
   "source": [
    "bins = [0, 10, 20, 30, 40, 50, 60, 70, 80, 90, 100]\n",
    "labels = [\"0-10\", \"10-20\", \"20-30\", \"30-40\", \"40-50\", \"50-60\", \"60-70\", \"70-80\", \"80-90\", \"90-100\"]\n",
    "\n",
    "df[\"tranche_age\"] = pd.cut(df[\"age\"], bins, labels)"
   ]
  },
  {
   "cell_type": "markdown",
   "id": "aaf7cca1",
   "metadata": {},
   "source": [
    "je remplaces les valeurs de la \"Work_accident\" par 0 si le salariés n'a pas eu d'accident, et 1 si il en a eu."
   ]
  },
  {
   "cell_type": "code",
   "execution_count": 319,
   "id": "41a4858d",
   "metadata": {},
   "outputs": [],
   "source": [
    "df[\"Work_accident_bin\"] = df[\"Work_accident\"].replace([\"Oui\", \"Non\"], [\"1\", \"0\"])"
   ]
  },
  {
   "cell_type": "code",
   "execution_count": 320,
   "id": "cc42a068",
   "metadata": {},
   "outputs": [
    {
     "data": {
      "text/html": [
       "<div>\n",
       "<style scoped>\n",
       "    .dataframe tbody tr th:only-of-type {\n",
       "        vertical-align: middle;\n",
       "    }\n",
       "\n",
       "    .dataframe tbody tr th {\n",
       "        vertical-align: top;\n",
       "    }\n",
       "\n",
       "    .dataframe thead th {\n",
       "        text-align: right;\n",
       "    }\n",
       "</style>\n",
       "<table border=\"1\" class=\"dataframe\">\n",
       "  <thead>\n",
       "    <tr style=\"text-align: right;\">\n",
       "      <th></th>\n",
       "      <th>id_salarié</th>\n",
       "      <th>Ancienneté_an</th>\n",
       "      <th>Distance domicile/Travail</th>\n",
       "      <th>Service</th>\n",
       "      <th>Work_accident</th>\n",
       "      <th>Niveau de satisfaction</th>\n",
       "      <th>Contrat</th>\n",
       "      <th>Durée hebdo</th>\n",
       "      <th>Salaire base mensuel</th>\n",
       "      <th>%variable_moyen</th>\n",
       "      <th>...</th>\n",
       "      <th>Promotion</th>\n",
       "      <th>Sexe</th>\n",
       "      <th>Prénom/Nom</th>\n",
       "      <th>Telephone</th>\n",
       "      <th>Date_naissance</th>\n",
       "      <th>Etat Civil</th>\n",
       "      <th>Enfants</th>\n",
       "      <th>age</th>\n",
       "      <th>tranche_age</th>\n",
       "      <th>Work_accident_bin</th>\n",
       "    </tr>\n",
       "  </thead>\n",
       "  <tbody>\n",
       "    <tr>\n",
       "      <th>0</th>\n",
       "      <td>16000206-8278</td>\n",
       "      <td>12.6</td>\n",
       "      <td>59.0</td>\n",
       "      <td>Marketing</td>\n",
       "      <td>Non</td>\n",
       "      <td>67.0</td>\n",
       "      <td>CDI</td>\n",
       "      <td>35.0</td>\n",
       "      <td>6583.8500</td>\n",
       "      <td>13.0</td>\n",
       "      <td>...</td>\n",
       "      <td>1.0</td>\n",
       "      <td>F</td>\n",
       "      <td>Pascale Duclos</td>\n",
       "      <td>677289138.0</td>\n",
       "      <td>1958-12-07</td>\n",
       "      <td>non précisé</td>\n",
       "      <td>2.0</td>\n",
       "      <td>65</td>\n",
       "      <td>(60, 70]</td>\n",
       "      <td>0</td>\n",
       "    </tr>\n",
       "    <tr>\n",
       "      <th>1</th>\n",
       "      <td>16011205-0331</td>\n",
       "      <td>11.8</td>\n",
       "      <td>31.0</td>\n",
       "      <td>Commercial</td>\n",
       "      <td>Oui</td>\n",
       "      <td>66.0</td>\n",
       "      <td>CDI</td>\n",
       "      <td>24.0</td>\n",
       "      <td>4974.3200</td>\n",
       "      <td>32.0</td>\n",
       "      <td>...</td>\n",
       "      <td>1.0</td>\n",
       "      <td>F</td>\n",
       "      <td>Nicole Affré</td>\n",
       "      <td>640934749.0</td>\n",
       "      <td>1957-04-23</td>\n",
       "      <td>Célibataire</td>\n",
       "      <td>2.0</td>\n",
       "      <td>66</td>\n",
       "      <td>(60, 70]</td>\n",
       "      <td>1</td>\n",
       "    </tr>\n",
       "    <tr>\n",
       "      <th>2</th>\n",
       "      <td>16020327-1465</td>\n",
       "      <td>11.9</td>\n",
       "      <td>65.0</td>\n",
       "      <td>RH</td>\n",
       "      <td>Non</td>\n",
       "      <td>59.0</td>\n",
       "      <td>CDI</td>\n",
       "      <td>32.0</td>\n",
       "      <td>8860.8000</td>\n",
       "      <td>19.0</td>\n",
       "      <td>...</td>\n",
       "      <td>1.0</td>\n",
       "      <td>F</td>\n",
       "      <td>Marie-Claire Bachelet</td>\n",
       "      <td>609243379.0</td>\n",
       "      <td>1973-08-19</td>\n",
       "      <td>Célibataire</td>\n",
       "      <td>3.0</td>\n",
       "      <td>50</td>\n",
       "      <td>(40, 50]</td>\n",
       "      <td>0</td>\n",
       "    </tr>\n",
       "    <tr>\n",
       "      <th>3</th>\n",
       "      <td>16020701-3376</td>\n",
       "      <td>10.2</td>\n",
       "      <td>59.0</td>\n",
       "      <td>Compta Finances</td>\n",
       "      <td>Non</td>\n",
       "      <td>60.0</td>\n",
       "      <td>CDI</td>\n",
       "      <td>35.0</td>\n",
       "      <td>8328.0167</td>\n",
       "      <td>14.0</td>\n",
       "      <td>...</td>\n",
       "      <td>0.0</td>\n",
       "      <td>F</td>\n",
       "      <td>Claire Chagnon</td>\n",
       "      <td>683289092.0</td>\n",
       "      <td>1981-10-09</td>\n",
       "      <td>Célibataire</td>\n",
       "      <td>1.0</td>\n",
       "      <td>42</td>\n",
       "      <td>(40, 50]</td>\n",
       "      <td>0</td>\n",
       "    </tr>\n",
       "    <tr>\n",
       "      <th>4</th>\n",
       "      <td>16020725-8401</td>\n",
       "      <td>7.9</td>\n",
       "      <td>59.0</td>\n",
       "      <td>Consultant</td>\n",
       "      <td>Non</td>\n",
       "      <td>34.0</td>\n",
       "      <td>CDI</td>\n",
       "      <td>35.0</td>\n",
       "      <td>7304.2667</td>\n",
       "      <td>17.0</td>\n",
       "      <td>...</td>\n",
       "      <td>0.0</td>\n",
       "      <td>F</td>\n",
       "      <td>Séverine Gaumont</td>\n",
       "      <td>684333280.0</td>\n",
       "      <td>1979-04-26</td>\n",
       "      <td>Marié</td>\n",
       "      <td>0.0</td>\n",
       "      <td>44</td>\n",
       "      <td>(40, 50]</td>\n",
       "      <td>0</td>\n",
       "    </tr>\n",
       "    <tr>\n",
       "      <th>...</th>\n",
       "      <td>...</td>\n",
       "      <td>...</td>\n",
       "      <td>...</td>\n",
       "      <td>...</td>\n",
       "      <td>...</td>\n",
       "      <td>...</td>\n",
       "      <td>...</td>\n",
       "      <td>...</td>\n",
       "      <td>...</td>\n",
       "      <td>...</td>\n",
       "      <td>...</td>\n",
       "      <td>...</td>\n",
       "      <td>...</td>\n",
       "      <td>...</td>\n",
       "      <td>...</td>\n",
       "      <td>...</td>\n",
       "      <td>...</td>\n",
       "      <td>...</td>\n",
       "      <td>...</td>\n",
       "      <td>...</td>\n",
       "      <td>...</td>\n",
       "    </tr>\n",
       "    <tr>\n",
       "      <th>251</th>\n",
       "      <td>16960906-7989</td>\n",
       "      <td>3.3</td>\n",
       "      <td>15.0</td>\n",
       "      <td>R&amp;D</td>\n",
       "      <td>Oui</td>\n",
       "      <td>81.0</td>\n",
       "      <td>CDD</td>\n",
       "      <td>35.0</td>\n",
       "      <td>2848.3000</td>\n",
       "      <td>15.0</td>\n",
       "      <td>...</td>\n",
       "      <td>0.0</td>\n",
       "      <td>H</td>\n",
       "      <td>Fabien Cerf</td>\n",
       "      <td>626873728.0</td>\n",
       "      <td>1983-03-04</td>\n",
       "      <td>non précisé</td>\n",
       "      <td>0.0</td>\n",
       "      <td>40</td>\n",
       "      <td>(30, 40]</td>\n",
       "      <td>1</td>\n",
       "    </tr>\n",
       "    <tr>\n",
       "      <th>252</th>\n",
       "      <td>16970415-1050</td>\n",
       "      <td>21.7</td>\n",
       "      <td>59.0</td>\n",
       "      <td>Consultant</td>\n",
       "      <td>Non</td>\n",
       "      <td>98.0</td>\n",
       "      <td>CDI</td>\n",
       "      <td>35.0</td>\n",
       "      <td>1697.1500</td>\n",
       "      <td>17.0</td>\n",
       "      <td>...</td>\n",
       "      <td>0.0</td>\n",
       "      <td>H</td>\n",
       "      <td>Denis Vérany</td>\n",
       "      <td>607599922.0</td>\n",
       "      <td>1963-10-25</td>\n",
       "      <td>Marié</td>\n",
       "      <td>3.0</td>\n",
       "      <td>60</td>\n",
       "      <td>(50, 60]</td>\n",
       "      <td>0</td>\n",
       "    </tr>\n",
       "    <tr>\n",
       "      <th>253</th>\n",
       "      <td>16981206-3817</td>\n",
       "      <td>13.0</td>\n",
       "      <td>68.0</td>\n",
       "      <td>RH</td>\n",
       "      <td>Oui</td>\n",
       "      <td>62.0</td>\n",
       "      <td>CDI</td>\n",
       "      <td>35.0</td>\n",
       "      <td>3705.2167</td>\n",
       "      <td>29.0</td>\n",
       "      <td>...</td>\n",
       "      <td>1.0</td>\n",
       "      <td>F</td>\n",
       "      <td>Flora Lajoie</td>\n",
       "      <td>651981019.0</td>\n",
       "      <td>1970-01-19</td>\n",
       "      <td>non précisé</td>\n",
       "      <td>1.0</td>\n",
       "      <td>53</td>\n",
       "      <td>(50, 60]</td>\n",
       "      <td>1</td>\n",
       "    </tr>\n",
       "    <tr>\n",
       "      <th>254</th>\n",
       "      <td>16990414-3527</td>\n",
       "      <td>10.8</td>\n",
       "      <td>32.0</td>\n",
       "      <td>Consultant</td>\n",
       "      <td>Non</td>\n",
       "      <td>39.0</td>\n",
       "      <td>CDI</td>\n",
       "      <td>35.0</td>\n",
       "      <td>4296.7167</td>\n",
       "      <td>39.0</td>\n",
       "      <td>...</td>\n",
       "      <td>1.0</td>\n",
       "      <td>H</td>\n",
       "      <td>Aurélien Beaubois</td>\n",
       "      <td>660488569.0</td>\n",
       "      <td>1955-07-01</td>\n",
       "      <td>Célibataire</td>\n",
       "      <td>0.0</td>\n",
       "      <td>68</td>\n",
       "      <td>(60, 70]</td>\n",
       "      <td>0</td>\n",
       "    </tr>\n",
       "    <tr>\n",
       "      <th>255</th>\n",
       "      <td>16990924-2829</td>\n",
       "      <td>22.5</td>\n",
       "      <td>69.0</td>\n",
       "      <td>Consultant</td>\n",
       "      <td>Non</td>\n",
       "      <td>60.0</td>\n",
       "      <td>CDI</td>\n",
       "      <td>35.0</td>\n",
       "      <td>9873.5000</td>\n",
       "      <td>13.0</td>\n",
       "      <td>...</td>\n",
       "      <td>0.0</td>\n",
       "      <td>F</td>\n",
       "      <td>Laëtitia Rapace</td>\n",
       "      <td>624526743.0</td>\n",
       "      <td>1976-02-18</td>\n",
       "      <td>Marié</td>\n",
       "      <td>3.0</td>\n",
       "      <td>47</td>\n",
       "      <td>(40, 50]</td>\n",
       "      <td>0</td>\n",
       "    </tr>\n",
       "  </tbody>\n",
       "</table>\n",
       "<p>256 rows × 21 columns</p>\n",
       "</div>"
      ],
      "text/plain": [
       "        id_salarié Ancienneté_an Distance domicile/Travail          Service  \\\n",
       "0    16000206-8278          12.6                      59.0        Marketing   \n",
       "1    16011205-0331          11.8                      31.0       Commercial   \n",
       "2    16020327-1465          11.9                      65.0               RH   \n",
       "3    16020701-3376          10.2                      59.0  Compta Finances   \n",
       "4    16020725-8401           7.9                      59.0       Consultant   \n",
       "..             ...           ...                       ...              ...   \n",
       "251  16960906-7989           3.3                      15.0              R&D   \n",
       "252  16970415-1050          21.7                      59.0       Consultant   \n",
       "253  16981206-3817          13.0                      68.0               RH   \n",
       "254  16990414-3527          10.8                      32.0       Consultant   \n",
       "255  16990924-2829          22.5                      69.0       Consultant   \n",
       "\n",
       "    Work_accident Niveau de satisfaction Contrat  Durée hebdo  \\\n",
       "0             Non                   67.0     CDI         35.0   \n",
       "1             Oui                   66.0     CDI         24.0   \n",
       "2             Non                   59.0     CDI         32.0   \n",
       "3             Non                   60.0     CDI         35.0   \n",
       "4             Non                   34.0     CDI         35.0   \n",
       "..            ...                    ...     ...          ...   \n",
       "251           Oui                   81.0     CDD         35.0   \n",
       "252           Non                   98.0     CDI         35.0   \n",
       "253           Oui                   62.0     CDI         35.0   \n",
       "254           Non                   39.0     CDI         35.0   \n",
       "255           Non                   60.0     CDI         35.0   \n",
       "\n",
       "     Salaire base mensuel  %variable_moyen  ...  Promotion  Sexe  \\\n",
       "0               6583.8500             13.0  ...        1.0     F   \n",
       "1               4974.3200             32.0  ...        1.0     F   \n",
       "2               8860.8000             19.0  ...        1.0     F   \n",
       "3               8328.0167             14.0  ...        0.0     F   \n",
       "4               7304.2667             17.0  ...        0.0     F   \n",
       "..                    ...              ...  ...        ...   ...   \n",
       "251             2848.3000             15.0  ...        0.0     H   \n",
       "252             1697.1500             17.0  ...        0.0     H   \n",
       "253             3705.2167             29.0  ...        1.0     F   \n",
       "254             4296.7167             39.0  ...        1.0     H   \n",
       "255             9873.5000             13.0  ...        0.0     F   \n",
       "\n",
       "                Prénom/Nom    Telephone  Date_naissance   Etat Civil Enfants  \\\n",
       "0           Pascale Duclos  677289138.0      1958-12-07  non précisé     2.0   \n",
       "1             Nicole Affré  640934749.0      1957-04-23  Célibataire     2.0   \n",
       "2    Marie-Claire Bachelet  609243379.0      1973-08-19  Célibataire     3.0   \n",
       "3           Claire Chagnon  683289092.0      1981-10-09  Célibataire     1.0   \n",
       "4         Séverine Gaumont  684333280.0      1979-04-26        Marié     0.0   \n",
       "..                     ...          ...             ...          ...     ...   \n",
       "251            Fabien Cerf  626873728.0      1983-03-04  non précisé     0.0   \n",
       "252           Denis Vérany  607599922.0      1963-10-25        Marié     3.0   \n",
       "253           Flora Lajoie  651981019.0      1970-01-19  non précisé     1.0   \n",
       "254      Aurélien Beaubois  660488569.0      1955-07-01  Célibataire     0.0   \n",
       "255        Laëtitia Rapace  624526743.0      1976-02-18        Marié     3.0   \n",
       "\n",
       "     age  tranche_age Work_accident_bin  \n",
       "0     65     (60, 70]                 0  \n",
       "1     66     (60, 70]                 1  \n",
       "2     50     (40, 50]                 0  \n",
       "3     42     (40, 50]                 0  \n",
       "4     44     (40, 50]                 0  \n",
       "..   ...          ...               ...  \n",
       "251   40     (30, 40]                 1  \n",
       "252   60     (50, 60]                 0  \n",
       "253   53     (50, 60]                 1  \n",
       "254   68     (60, 70]                 0  \n",
       "255   47     (40, 50]                 0  \n",
       "\n",
       "[256 rows x 21 columns]"
      ]
     },
     "execution_count": 320,
     "metadata": {},
     "output_type": "execute_result"
    }
   ],
   "source": [
    "df"
   ]
  },
  {
   "cell_type": "code",
   "execution_count": 321,
   "id": "bd4bfea4",
   "metadata": {},
   "outputs": [
    {
     "name": "stdout",
     "output_type": "stream",
     "text": [
      "<class 'pandas.core.frame.DataFrame'>\n",
      "Int64Index: 256 entries, 0 to 255\n",
      "Data columns (total 21 columns):\n",
      " #   Column                     Non-Null Count  Dtype         \n",
      "---  ------                     --------------  -----         \n",
      " 0   id_salarié                 256 non-null    object        \n",
      " 1   Ancienneté_an              256 non-null    object        \n",
      " 2   Distance domicile/Travail  256 non-null    object        \n",
      " 3   Service                    256 non-null    object        \n",
      " 4   Work_accident              256 non-null    object        \n",
      " 5   Niveau de satisfaction     256 non-null    object        \n",
      " 6   Contrat                    256 non-null    object        \n",
      " 7   Durée hebdo                256 non-null    float64       \n",
      " 8   Salaire base mensuel       256 non-null    float64       \n",
      " 9   %variable_moyen            256 non-null    float64       \n",
      " 10  Augmentation               256 non-null    float64       \n",
      " 11  Promotion                  256 non-null    float64       \n",
      " 12  Sexe                       256 non-null    object        \n",
      " 13  Prénom/Nom                 256 non-null    object        \n",
      " 14  Telephone                  256 non-null    float64       \n",
      " 15  Date_naissance             256 non-null    datetime64[ns]\n",
      " 16  Etat Civil                 256 non-null    object        \n",
      " 17  Enfants                    256 non-null    float64       \n",
      " 18  age                        256 non-null    int64         \n",
      " 19  tranche_age                256 non-null    category      \n",
      " 20  Work_accident_bin          256 non-null    object        \n",
      "dtypes: category(1), datetime64[ns](1), float64(7), int64(1), object(11)\n",
      "memory usage: 42.7+ KB\n"
     ]
    }
   ],
   "source": [
    "df.info()"
   ]
  },
  {
   "cell_type": "code",
   "execution_count": 322,
   "id": "f1fb4c27",
   "metadata": {},
   "outputs": [
    {
     "data": {
      "text/plain": [
       "id_salarié                   0\n",
       "Ancienneté_an                0\n",
       "Distance domicile/Travail    0\n",
       "Service                      0\n",
       "Work_accident                0\n",
       "Niveau de satisfaction       0\n",
       "Contrat                      0\n",
       "Durée hebdo                  0\n",
       "Salaire base mensuel         0\n",
       "%variable_moyen              0\n",
       "Augmentation                 0\n",
       "Promotion                    0\n",
       "Sexe                         0\n",
       "Prénom/Nom                   0\n",
       "Telephone                    0\n",
       "Date_naissance               0\n",
       "Etat Civil                   0\n",
       "Enfants                      0\n",
       "age                          0\n",
       "tranche_age                  0\n",
       "Work_accident_bin            0\n",
       "dtype: int64"
      ]
     },
     "execution_count": 322,
     "metadata": {},
     "output_type": "execute_result"
    }
   ],
   "source": [
    "df.isnull().sum()"
   ]
  },
  {
   "cell_type": "markdown",
   "id": "765be1b9",
   "metadata": {},
   "source": [
    "Mes données sont prêtes pour être visualisées"
   ]
  },
  {
   "cell_type": "markdown",
   "id": "86d7dc13",
   "metadata": {},
   "source": [
    "# Exploration"
   ]
  },
  {
   "cell_type": "code",
   "execution_count": 323,
   "id": "55ee82b4",
   "metadata": {
    "scrolled": false
   },
   "outputs": [
    {
     "data": {
      "text/html": [
       "<div>\n",
       "<style scoped>\n",
       "    .dataframe tbody tr th:only-of-type {\n",
       "        vertical-align: middle;\n",
       "    }\n",
       "\n",
       "    .dataframe tbody tr th {\n",
       "        vertical-align: top;\n",
       "    }\n",
       "\n",
       "    .dataframe thead th {\n",
       "        text-align: right;\n",
       "    }\n",
       "</style>\n",
       "<table border=\"1\" class=\"dataframe\">\n",
       "  <thead>\n",
       "    <tr style=\"text-align: right;\">\n",
       "      <th></th>\n",
       "      <th>id_salarié</th>\n",
       "      <th>Ancienneté_an</th>\n",
       "      <th>Distance domicile/Travail</th>\n",
       "      <th>Service</th>\n",
       "      <th>Work_accident</th>\n",
       "      <th>Niveau de satisfaction</th>\n",
       "      <th>Contrat</th>\n",
       "      <th>Durée hebdo</th>\n",
       "      <th>Salaire base mensuel</th>\n",
       "      <th>%variable_moyen</th>\n",
       "      <th>...</th>\n",
       "      <th>Promotion</th>\n",
       "      <th>Sexe</th>\n",
       "      <th>Prénom/Nom</th>\n",
       "      <th>Telephone</th>\n",
       "      <th>Date_naissance</th>\n",
       "      <th>Etat Civil</th>\n",
       "      <th>Enfants</th>\n",
       "      <th>age</th>\n",
       "      <th>tranche_age</th>\n",
       "      <th>Work_accident_bin</th>\n",
       "    </tr>\n",
       "  </thead>\n",
       "  <tbody>\n",
       "    <tr>\n",
       "      <th>0</th>\n",
       "      <td>16000206-8278</td>\n",
       "      <td>12.6</td>\n",
       "      <td>59.0</td>\n",
       "      <td>Marketing</td>\n",
       "      <td>Non</td>\n",
       "      <td>67.0</td>\n",
       "      <td>CDI</td>\n",
       "      <td>35.0</td>\n",
       "      <td>6583.8500</td>\n",
       "      <td>13.0</td>\n",
       "      <td>...</td>\n",
       "      <td>1.0</td>\n",
       "      <td>F</td>\n",
       "      <td>Pascale Duclos</td>\n",
       "      <td>677289138.0</td>\n",
       "      <td>1958-12-07</td>\n",
       "      <td>non précisé</td>\n",
       "      <td>2.0</td>\n",
       "      <td>65</td>\n",
       "      <td>(60, 70]</td>\n",
       "      <td>0</td>\n",
       "    </tr>\n",
       "    <tr>\n",
       "      <th>1</th>\n",
       "      <td>16011205-0331</td>\n",
       "      <td>11.8</td>\n",
       "      <td>31.0</td>\n",
       "      <td>Commercial</td>\n",
       "      <td>Oui</td>\n",
       "      <td>66.0</td>\n",
       "      <td>CDI</td>\n",
       "      <td>24.0</td>\n",
       "      <td>4974.3200</td>\n",
       "      <td>32.0</td>\n",
       "      <td>...</td>\n",
       "      <td>1.0</td>\n",
       "      <td>F</td>\n",
       "      <td>Nicole Affré</td>\n",
       "      <td>640934749.0</td>\n",
       "      <td>1957-04-23</td>\n",
       "      <td>Célibataire</td>\n",
       "      <td>2.0</td>\n",
       "      <td>66</td>\n",
       "      <td>(60, 70]</td>\n",
       "      <td>1</td>\n",
       "    </tr>\n",
       "    <tr>\n",
       "      <th>2</th>\n",
       "      <td>16020327-1465</td>\n",
       "      <td>11.9</td>\n",
       "      <td>65.0</td>\n",
       "      <td>RH</td>\n",
       "      <td>Non</td>\n",
       "      <td>59.0</td>\n",
       "      <td>CDI</td>\n",
       "      <td>32.0</td>\n",
       "      <td>8860.8000</td>\n",
       "      <td>19.0</td>\n",
       "      <td>...</td>\n",
       "      <td>1.0</td>\n",
       "      <td>F</td>\n",
       "      <td>Marie-Claire Bachelet</td>\n",
       "      <td>609243379.0</td>\n",
       "      <td>1973-08-19</td>\n",
       "      <td>Célibataire</td>\n",
       "      <td>3.0</td>\n",
       "      <td>50</td>\n",
       "      <td>(40, 50]</td>\n",
       "      <td>0</td>\n",
       "    </tr>\n",
       "    <tr>\n",
       "      <th>3</th>\n",
       "      <td>16020701-3376</td>\n",
       "      <td>10.2</td>\n",
       "      <td>59.0</td>\n",
       "      <td>Compta Finances</td>\n",
       "      <td>Non</td>\n",
       "      <td>60.0</td>\n",
       "      <td>CDI</td>\n",
       "      <td>35.0</td>\n",
       "      <td>8328.0167</td>\n",
       "      <td>14.0</td>\n",
       "      <td>...</td>\n",
       "      <td>0.0</td>\n",
       "      <td>F</td>\n",
       "      <td>Claire Chagnon</td>\n",
       "      <td>683289092.0</td>\n",
       "      <td>1981-10-09</td>\n",
       "      <td>Célibataire</td>\n",
       "      <td>1.0</td>\n",
       "      <td>42</td>\n",
       "      <td>(40, 50]</td>\n",
       "      <td>0</td>\n",
       "    </tr>\n",
       "    <tr>\n",
       "      <th>4</th>\n",
       "      <td>16020725-8401</td>\n",
       "      <td>7.9</td>\n",
       "      <td>59.0</td>\n",
       "      <td>Consultant</td>\n",
       "      <td>Non</td>\n",
       "      <td>34.0</td>\n",
       "      <td>CDI</td>\n",
       "      <td>35.0</td>\n",
       "      <td>7304.2667</td>\n",
       "      <td>17.0</td>\n",
       "      <td>...</td>\n",
       "      <td>0.0</td>\n",
       "      <td>F</td>\n",
       "      <td>Séverine Gaumont</td>\n",
       "      <td>684333280.0</td>\n",
       "      <td>1979-04-26</td>\n",
       "      <td>Marié</td>\n",
       "      <td>0.0</td>\n",
       "      <td>44</td>\n",
       "      <td>(40, 50]</td>\n",
       "      <td>0</td>\n",
       "    </tr>\n",
       "    <tr>\n",
       "      <th>...</th>\n",
       "      <td>...</td>\n",
       "      <td>...</td>\n",
       "      <td>...</td>\n",
       "      <td>...</td>\n",
       "      <td>...</td>\n",
       "      <td>...</td>\n",
       "      <td>...</td>\n",
       "      <td>...</td>\n",
       "      <td>...</td>\n",
       "      <td>...</td>\n",
       "      <td>...</td>\n",
       "      <td>...</td>\n",
       "      <td>...</td>\n",
       "      <td>...</td>\n",
       "      <td>...</td>\n",
       "      <td>...</td>\n",
       "      <td>...</td>\n",
       "      <td>...</td>\n",
       "      <td>...</td>\n",
       "      <td>...</td>\n",
       "      <td>...</td>\n",
       "    </tr>\n",
       "    <tr>\n",
       "      <th>251</th>\n",
       "      <td>16960906-7989</td>\n",
       "      <td>3.3</td>\n",
       "      <td>15.0</td>\n",
       "      <td>R&amp;D</td>\n",
       "      <td>Oui</td>\n",
       "      <td>81.0</td>\n",
       "      <td>CDD</td>\n",
       "      <td>35.0</td>\n",
       "      <td>2848.3000</td>\n",
       "      <td>15.0</td>\n",
       "      <td>...</td>\n",
       "      <td>0.0</td>\n",
       "      <td>H</td>\n",
       "      <td>Fabien Cerf</td>\n",
       "      <td>626873728.0</td>\n",
       "      <td>1983-03-04</td>\n",
       "      <td>non précisé</td>\n",
       "      <td>0.0</td>\n",
       "      <td>40</td>\n",
       "      <td>(30, 40]</td>\n",
       "      <td>1</td>\n",
       "    </tr>\n",
       "    <tr>\n",
       "      <th>252</th>\n",
       "      <td>16970415-1050</td>\n",
       "      <td>21.7</td>\n",
       "      <td>59.0</td>\n",
       "      <td>Consultant</td>\n",
       "      <td>Non</td>\n",
       "      <td>98.0</td>\n",
       "      <td>CDI</td>\n",
       "      <td>35.0</td>\n",
       "      <td>1697.1500</td>\n",
       "      <td>17.0</td>\n",
       "      <td>...</td>\n",
       "      <td>0.0</td>\n",
       "      <td>H</td>\n",
       "      <td>Denis Vérany</td>\n",
       "      <td>607599922.0</td>\n",
       "      <td>1963-10-25</td>\n",
       "      <td>Marié</td>\n",
       "      <td>3.0</td>\n",
       "      <td>60</td>\n",
       "      <td>(50, 60]</td>\n",
       "      <td>0</td>\n",
       "    </tr>\n",
       "    <tr>\n",
       "      <th>253</th>\n",
       "      <td>16981206-3817</td>\n",
       "      <td>13.0</td>\n",
       "      <td>68.0</td>\n",
       "      <td>RH</td>\n",
       "      <td>Oui</td>\n",
       "      <td>62.0</td>\n",
       "      <td>CDI</td>\n",
       "      <td>35.0</td>\n",
       "      <td>3705.2167</td>\n",
       "      <td>29.0</td>\n",
       "      <td>...</td>\n",
       "      <td>1.0</td>\n",
       "      <td>F</td>\n",
       "      <td>Flora Lajoie</td>\n",
       "      <td>651981019.0</td>\n",
       "      <td>1970-01-19</td>\n",
       "      <td>non précisé</td>\n",
       "      <td>1.0</td>\n",
       "      <td>53</td>\n",
       "      <td>(50, 60]</td>\n",
       "      <td>1</td>\n",
       "    </tr>\n",
       "    <tr>\n",
       "      <th>254</th>\n",
       "      <td>16990414-3527</td>\n",
       "      <td>10.8</td>\n",
       "      <td>32.0</td>\n",
       "      <td>Consultant</td>\n",
       "      <td>Non</td>\n",
       "      <td>39.0</td>\n",
       "      <td>CDI</td>\n",
       "      <td>35.0</td>\n",
       "      <td>4296.7167</td>\n",
       "      <td>39.0</td>\n",
       "      <td>...</td>\n",
       "      <td>1.0</td>\n",
       "      <td>H</td>\n",
       "      <td>Aurélien Beaubois</td>\n",
       "      <td>660488569.0</td>\n",
       "      <td>1955-07-01</td>\n",
       "      <td>Célibataire</td>\n",
       "      <td>0.0</td>\n",
       "      <td>68</td>\n",
       "      <td>(60, 70]</td>\n",
       "      <td>0</td>\n",
       "    </tr>\n",
       "    <tr>\n",
       "      <th>255</th>\n",
       "      <td>16990924-2829</td>\n",
       "      <td>22.5</td>\n",
       "      <td>69.0</td>\n",
       "      <td>Consultant</td>\n",
       "      <td>Non</td>\n",
       "      <td>60.0</td>\n",
       "      <td>CDI</td>\n",
       "      <td>35.0</td>\n",
       "      <td>9873.5000</td>\n",
       "      <td>13.0</td>\n",
       "      <td>...</td>\n",
       "      <td>0.0</td>\n",
       "      <td>F</td>\n",
       "      <td>Laëtitia Rapace</td>\n",
       "      <td>624526743.0</td>\n",
       "      <td>1976-02-18</td>\n",
       "      <td>Marié</td>\n",
       "      <td>3.0</td>\n",
       "      <td>47</td>\n",
       "      <td>(40, 50]</td>\n",
       "      <td>0</td>\n",
       "    </tr>\n",
       "  </tbody>\n",
       "</table>\n",
       "<p>256 rows × 21 columns</p>\n",
       "</div>"
      ],
      "text/plain": [
       "        id_salarié Ancienneté_an Distance domicile/Travail          Service  \\\n",
       "0    16000206-8278          12.6                      59.0        Marketing   \n",
       "1    16011205-0331          11.8                      31.0       Commercial   \n",
       "2    16020327-1465          11.9                      65.0               RH   \n",
       "3    16020701-3376          10.2                      59.0  Compta Finances   \n",
       "4    16020725-8401           7.9                      59.0       Consultant   \n",
       "..             ...           ...                       ...              ...   \n",
       "251  16960906-7989           3.3                      15.0              R&D   \n",
       "252  16970415-1050          21.7                      59.0       Consultant   \n",
       "253  16981206-3817          13.0                      68.0               RH   \n",
       "254  16990414-3527          10.8                      32.0       Consultant   \n",
       "255  16990924-2829          22.5                      69.0       Consultant   \n",
       "\n",
       "    Work_accident Niveau de satisfaction Contrat  Durée hebdo  \\\n",
       "0             Non                   67.0     CDI         35.0   \n",
       "1             Oui                   66.0     CDI         24.0   \n",
       "2             Non                   59.0     CDI         32.0   \n",
       "3             Non                   60.0     CDI         35.0   \n",
       "4             Non                   34.0     CDI         35.0   \n",
       "..            ...                    ...     ...          ...   \n",
       "251           Oui                   81.0     CDD         35.0   \n",
       "252           Non                   98.0     CDI         35.0   \n",
       "253           Oui                   62.0     CDI         35.0   \n",
       "254           Non                   39.0     CDI         35.0   \n",
       "255           Non                   60.0     CDI         35.0   \n",
       "\n",
       "     Salaire base mensuel  %variable_moyen  ...  Promotion  Sexe  \\\n",
       "0               6583.8500             13.0  ...        1.0     F   \n",
       "1               4974.3200             32.0  ...        1.0     F   \n",
       "2               8860.8000             19.0  ...        1.0     F   \n",
       "3               8328.0167             14.0  ...        0.0     F   \n",
       "4               7304.2667             17.0  ...        0.0     F   \n",
       "..                    ...              ...  ...        ...   ...   \n",
       "251             2848.3000             15.0  ...        0.0     H   \n",
       "252             1697.1500             17.0  ...        0.0     H   \n",
       "253             3705.2167             29.0  ...        1.0     F   \n",
       "254             4296.7167             39.0  ...        1.0     H   \n",
       "255             9873.5000             13.0  ...        0.0     F   \n",
       "\n",
       "                Prénom/Nom    Telephone  Date_naissance   Etat Civil Enfants  \\\n",
       "0           Pascale Duclos  677289138.0      1958-12-07  non précisé     2.0   \n",
       "1             Nicole Affré  640934749.0      1957-04-23  Célibataire     2.0   \n",
       "2    Marie-Claire Bachelet  609243379.0      1973-08-19  Célibataire     3.0   \n",
       "3           Claire Chagnon  683289092.0      1981-10-09  Célibataire     1.0   \n",
       "4         Séverine Gaumont  684333280.0      1979-04-26        Marié     0.0   \n",
       "..                     ...          ...             ...          ...     ...   \n",
       "251            Fabien Cerf  626873728.0      1983-03-04  non précisé     0.0   \n",
       "252           Denis Vérany  607599922.0      1963-10-25        Marié     3.0   \n",
       "253           Flora Lajoie  651981019.0      1970-01-19  non précisé     1.0   \n",
       "254      Aurélien Beaubois  660488569.0      1955-07-01  Célibataire     0.0   \n",
       "255        Laëtitia Rapace  624526743.0      1976-02-18        Marié     3.0   \n",
       "\n",
       "     age  tranche_age Work_accident_bin  \n",
       "0     65     (60, 70]                 0  \n",
       "1     66     (60, 70]                 1  \n",
       "2     50     (40, 50]                 0  \n",
       "3     42     (40, 50]                 0  \n",
       "4     44     (40, 50]                 0  \n",
       "..   ...          ...               ...  \n",
       "251   40     (30, 40]                 1  \n",
       "252   60     (50, 60]                 0  \n",
       "253   53     (50, 60]                 1  \n",
       "254   68     (60, 70]                 0  \n",
       "255   47     (40, 50]                 0  \n",
       "\n",
       "[256 rows x 21 columns]"
      ]
     },
     "execution_count": 323,
     "metadata": {},
     "output_type": "execute_result"
    }
   ],
   "source": [
    "df"
   ]
  },
  {
   "cell_type": "markdown",
   "id": "1cc2c3e0",
   "metadata": {},
   "source": [
    "## La part d'homme et de femme dans l'entreprise "
   ]
  },
  {
   "cell_type": "markdown",
   "id": "505a5ae7",
   "metadata": {},
   "source": [
    "je vais tout simplement commencer par observer le nombre d'homme et de femme dans l'entreprise : "
   ]
  },
  {
   "cell_type": "code",
   "execution_count": 324,
   "id": "0c3385fe",
   "metadata": {},
   "outputs": [
    {
     "data": {
      "image/png": "[encoded data removed]",
      "text/plain": [
       "<Figure size 640x480 with 1 Axes>"
      ]
     },
     "metadata": {},
     "output_type": "display_data"
    }
   ],
   "source": [
    "fig, ax = plt.subplots()\n",
    "\n",
    "x_sexe = df[\"Sexe\"].unique()\n",
    "y_sexe = df[\"Sexe\"].value_counts()\n",
    "height = [\"H\", \"F\"]\n",
    "bar_labels = [\"F\", \"H\"]\n",
    "bar_colors = [\"#13EAC9\", \"#C79FEF\"]\n",
    "\n",
    "\n",
    "ax.bar(height, y_sexe, color = bar_colors)\n",
    "ax.set(ylim = (0, 135))\n",
    "ax.set_title(\"Nombre d'homme et de femme dans l'entreprise\")\n",
    "\n",
    "plt.show()"
   ]
  },
  {
   "cell_type": "markdown",
   "id": "83dd9cfc",
   "metadata": {},
   "source": [
    "donnuts plot pour voir en pourcentage"
   ]
  },
  {
   "cell_type": "code",
   "execution_count": 325,
   "id": "96223013",
   "metadata": {},
   "outputs": [
    {
     "data": {
      "text/plain": [
       "<matplotlib.patches.Circle at 0x7f325d90fc10>"
      ]
     },
     "execution_count": 325,
     "metadata": {},
     "output_type": "execute_result"
    },
    {
     "data": {
      "image/png": "[encoded data removed]",
      "text/plain": [
       "<Figure size 640x480 with 1 Axes>"
      ]
     },
     "metadata": {},
     "output_type": "display_data"
    }
   ],
   "source": [
    "fig, ax = plt.subplots()\n",
    "\n",
    "pie_labels = [\"H\", \"F\"]\n",
    "pie_colors = [\"#13EAC9\", \"#C79FEF\"]\n",
    "ax.pie(y_sexe, labels = pie_labels, colors = pie_colors, autopct='%1.1f%%', shadow=True,\n",
    "      startangle=90)\n",
    "\n",
    "# Changing the pie chart to dont chart\n",
    "\n",
    "centre_circle = plt.Circle((0,0),0.80,fc='white')\n",
    "fig = plt.gcf()\n",
    "fig.gca().add_artist(centre_circle)"
   ]
  },
  {
   "cell_type": "markdown",
   "id": "1280ef84",
   "metadata": {},
   "source": [
    "observation :\n",
    "- il y'a autant de femme que d'homme salariés dans l'entreprise"
   ]
  },
  {
   "cell_type": "markdown",
   "id": "666ff9d7",
   "metadata": {},
   "source": [
    "## Toranado plot pour voir la moyenne des salaires homme et femme par catégorie d'âge"
   ]
  },
  {
   "cell_type": "markdown",
   "id": "5683b928",
   "metadata": {},
   "source": [
    "maintenant tornado barplot"
   ]
  },
  {
   "cell_type": "code",
   "execution_count": 326,
   "id": "51f3bb83",
   "metadata": {},
   "outputs": [],
   "source": [
    "age_class = [\"30\", \"40\", \"50\", \"60+\"]\n",
    "# age_class = df[\"tranche_age\"].unique()\n",
    "g = pd.pivot_table(data = df, index = \"tranche_age\", columns = \"Sexe\", values = \"Salaire base mensuel\", aggfunc = np.mean)"
   ]
  },
  {
   "cell_type": "code",
   "execution_count": 327,
   "id": "08648f61",
   "metadata": {},
   "outputs": [
    {
     "data": {
      "text/html": [
       "<div>\n",
       "<style scoped>\n",
       "    .dataframe tbody tr th:only-of-type {\n",
       "        vertical-align: middle;\n",
       "    }\n",
       "\n",
       "    .dataframe tbody tr th {\n",
       "        vertical-align: top;\n",
       "    }\n",
       "\n",
       "    .dataframe thead th {\n",
       "        text-align: right;\n",
       "    }\n",
       "</style>\n",
       "<table border=\"1\" class=\"dataframe\">\n",
       "  <thead>\n",
       "    <tr style=\"text-align: right;\">\n",
       "      <th>Sexe</th>\n",
       "      <th>F</th>\n",
       "      <th>H</th>\n",
       "    </tr>\n",
       "    <tr>\n",
       "      <th>tranche_age</th>\n",
       "      <th></th>\n",
       "      <th></th>\n",
       "    </tr>\n",
       "  </thead>\n",
       "  <tbody>\n",
       "    <tr>\n",
       "      <th>(30, 40]</th>\n",
       "      <td>4229.781113</td>\n",
       "      <td>5419.575780</td>\n",
       "    </tr>\n",
       "    <tr>\n",
       "      <th>(40, 50]</th>\n",
       "      <td>6193.505809</td>\n",
       "      <td>5580.991005</td>\n",
       "    </tr>\n",
       "    <tr>\n",
       "      <th>(50, 60]</th>\n",
       "      <td>5152.385506</td>\n",
       "      <td>5248.156598</td>\n",
       "    </tr>\n",
       "    <tr>\n",
       "      <th>(60, 70]</th>\n",
       "      <td>4834.584996</td>\n",
       "      <td>5315.310015</td>\n",
       "    </tr>\n",
       "  </tbody>\n",
       "</table>\n",
       "</div>"
      ],
      "text/plain": [
       "Sexe                   F            H\n",
       "tranche_age                          \n",
       "(30, 40]     4229.781113  5419.575780\n",
       "(40, 50]     6193.505809  5580.991005\n",
       "(50, 60]     5152.385506  5248.156598\n",
       "(60, 70]     4834.584996  5315.310015"
      ]
     },
     "execution_count": 327,
     "metadata": {},
     "output_type": "execute_result"
    }
   ],
   "source": [
    "g"
   ]
  },
  {
   "cell_type": "code",
   "execution_count": 328,
   "id": "27908f60",
   "metadata": {},
   "outputs": [],
   "source": [
    "gn = g.to_numpy()\n",
    "\n",
    "gf = gn[:, 0]\n",
    "gm = gn[:, 1]\n",
    "\n",
    "gf_int = gf.astype(int)\n",
    "gm_int = gm.astype(int)\n",
    "\n",
    "def Convert(lst):\n",
    "    return [-i for i in lst]\n",
    "\n",
    "_gm = Convert(gm_int)"
   ]
  },
  {
   "cell_type": "code",
   "execution_count": 329,
   "id": "dc26d150",
   "metadata": {},
   "outputs": [
    {
     "data": {
      "application/vnd.plotly.v1+json": {
       "config": {
        "plotlyServerURL": "https://plot.ly"
       },
       "data": [
        {
         "base": 0,
         "marker": {
          "color": "#C79FEF"
         },
         "name": "Femmes",
         "orientation": "h",
         "text": [
          4229,
          6193,
          5152,
          4834
         ],
         "textposition": "auto",
         "type": "bar",
         "x": [
          4229.781113333333,
          6193.505808571428,
          5152.385506122449,
          4834.584996153846
         ],
         "y": [
          "30",
          "40",
          "50",
          "60+"
         ]
        },
        {
         "base": [
          -5419,
          -5580,
          -5248,
          -5315
         ],
         "marker": {
          "color": "#13EAC9"
         },
         "name": "Hommes",
         "orientation": "h",
         "text": [
          "-5419",
          "-5580",
          "-5248",
          "-5315"
         ],
         "textposition": "inside",
         "type": "bar",
         "x": [
          5419.57578,
          5580.991005,
          5248.156597959183,
          5315.310014814814
         ],
         "y": [
          "30",
          "40",
          "50",
          "60+"
         ]
        }
       ],
       "layout": {
        "bargap": 0.5,
        "barmode": "overlay",
        "height": 500,
        "template": {
         "data": {
          "bar": [
           {
            "error_x": {
             "color": "#2a3f5f"
            },
            "error_y": {
             "color": "#2a3f5f"
            },
            "marker": {
             "line": {
              "color": "#E5ECF6",
              "width": 0.5
             },
             "pattern": {
              "fillmode": "overlay",
              "size": 10,
              "solidity": 0.2
             }
            },
            "type": "bar"
           }
          ],
          "barpolar": [
           {
            "marker": {
             "line": {
              "color": "#E5ECF6",
              "width": 0.5
             },
             "pattern": {
              "fillmode": "overlay",
              "size": 10,
              "solidity": 0.2
             }
            },
            "type": "barpolar"
           }
          ],
          "carpet": [
           {
            "aaxis": {
             "endlinecolor": "#2a3f5f",
             "gridcolor": "white",
             "linecolor": "white",
             "minorgridcolor": "white",
             "startlinecolor": "#2a3f5f"
            },
            "baxis": {
             "endlinecolor": "#2a3f5f",
             "gridcolor": "white",
             "linecolor": "white",
             "minorgridcolor": "white",
             "startlinecolor": "#2a3f5f"
            },
            "type": "carpet"
           }
          ],
          "choropleth": [
           {
            "colorbar": {
             "outlinewidth": 0,
             "ticks": ""
            },
            "type": "choropleth"
           }
          ],
          "contour": [
           {
            "colorbar": {
             "outlinewidth": 0,
             "ticks": ""
            },
            "colorscale": [
             [
              0,
              "#0d0887"
             ],
             [
              0.1111111111111111,
              "#46039f"
             ],
             [
              0.2222222222222222,
              "#7201a8"
             ],
             [
              0.3333333333333333,
              "#9c179e"
             ],
             [
              0.4444444444444444,
              "#bd3786"
             ],
             [
              0.5555555555555556,
              "#d8576b"
             ],
             [
              0.6666666666666666,
              "#ed7953"
             ],
             [
              0.7777777777777778,
              "#fb9f3a"
             ],
             [
              0.8888888888888888,
              "#fdca26"
             ],
             [
              1,
              "#f0f921"
             ]
            ],
            "type": "contour"
           }
          ],
          "contourcarpet": [
           {
            "colorbar": {
             "outlinewidth": 0,
             "ticks": ""
            },
            "type": "contourcarpet"
           }
          ],
          "heatmap": [
           {
            "colorbar": {
             "outlinewidth": 0,
             "ticks": ""
            },
            "colorscale": [
             [
              0,
              "#0d0887"
             ],
             [
              0.1111111111111111,
              "#46039f"
             ],
             [
              0.2222222222222222,
              "#7201a8"
             ],
             [
              0.3333333333333333,
              "#9c179e"
             ],
             [
              0.4444444444444444,
              "#bd3786"
             ],
             [
              0.5555555555555556,
              "#d8576b"
             ],
             [
              0.6666666666666666,
              "#ed7953"
             ],
             [
              0.7777777777777778,
              "#fb9f3a"
             ],
             [
              0.8888888888888888,
              "#fdca26"
             ],
             [
              1,
              "#f0f921"
             ]
            ],
            "type": "heatmap"
           }
          ],
          "heatmapgl": [
           {
            "colorbar": {
             "outlinewidth": 0,
             "ticks": ""
            },
            "colorscale": [
             [
              0,
              "#0d0887"
             ],
             [
              0.1111111111111111,
              "#46039f"
             ],
             [
              0.2222222222222222,
              "#7201a8"
             ],
             [
              0.3333333333333333,
              "#9c179e"
             ],
             [
              0.4444444444444444,
              "#bd3786"
             ],
             [
              0.5555555555555556,
              "#d8576b"
             ],
             [
              0.6666666666666666,
              "#ed7953"
             ],
             [
              0.7777777777777778,
              "#fb9f3a"
             ],
             [
              0.8888888888888888,
              "#fdca26"
             ],
             [
              1,
              "#f0f921"
             ]
            ],
            "type": "heatmapgl"
           }
          ],
          "histogram": [
           {
            "marker": {
             "pattern": {
              "fillmode": "overlay",
              "size": 10,
              "solidity": 0.2
             }
            },
            "type": "histogram"
           }
          ],
          "histogram2d": [
           {
            "colorbar": {
             "outlinewidth": 0,
             "ticks": ""
            },
            "colorscale": [
             [
              0,
              "#0d0887"
             ],
             [
              0.1111111111111111,
              "#46039f"
             ],
             [
              0.2222222222222222,
              "#7201a8"
             ],
             [
              0.3333333333333333,
              "#9c179e"
             ],
             [
              0.4444444444444444,
              "#bd3786"
             ],
             [
              0.5555555555555556,
              "#d8576b"
             ],
             [
              0.6666666666666666,
              "#ed7953"
             ],
             [
              0.7777777777777778,
              "#fb9f3a"
             ],
             [
              0.8888888888888888,
              "#fdca26"
             ],
             [
              1,
              "#f0f921"
             ]
            ],
            "type": "histogram2d"
           }
          ],
          "histogram2dcontour": [
           {
            "colorbar": {
             "outlinewidth": 0,
             "ticks": ""
            },
            "colorscale": [
             [
              0,
              "#0d0887"
             ],
             [
              0.1111111111111111,
              "#46039f"
             ],
             [
              0.2222222222222222,
              "#7201a8"
             ],
             [
              0.3333333333333333,
              "#9c179e"
             ],
             [
              0.4444444444444444,
              "#bd3786"
             ],
             [
              0.5555555555555556,
              "#d8576b"
             ],
             [
              0.6666666666666666,
              "#ed7953"
             ],
             [
              0.7777777777777778,
              "#fb9f3a"
             ],
             [
              0.8888888888888888,
              "#fdca26"
             ],
             [
              1,
              "#f0f921"
             ]
            ],
            "type": "histogram2dcontour"
           }
          ],
          "mesh3d": [
           {
            "colorbar": {
             "outlinewidth": 0,
             "ticks": ""
            },
            "type": "mesh3d"
           }
          ],
          "parcoords": [
           {
            "line": {
             "colorbar": {
              "outlinewidth": 0,
              "ticks": ""
             }
            },
            "type": "parcoords"
           }
          ],
          "pie": [
           {
            "automargin": true,
            "type": "pie"
           }
          ],
          "scatter": [
           {
            "fillpattern": {
             "fillmode": "overlay",
             "size": 10,
             "solidity": 0.2
            },
            "type": "scatter"
           }
          ],
          "scatter3d": [
           {
            "line": {
             "colorbar": {
              "outlinewidth": 0,
              "ticks": ""
             }
            },
            "marker": {
             "colorbar": {
              "outlinewidth": 0,
              "ticks": ""
             }
            },
            "type": "scatter3d"
           }
          ],
          "scattercarpet": [
           {
            "marker": {
             "colorbar": {
              "outlinewidth": 0,
              "ticks": ""
             }
            },
            "type": "scattercarpet"
           }
          ],
          "scattergeo": [
           {
            "marker": {
             "colorbar": {
              "outlinewidth": 0,
              "ticks": ""
             }
            },
            "type": "scattergeo"
           }
          ],
          "scattergl": [
           {
            "marker": {
             "colorbar": {
              "outlinewidth": 0,
              "ticks": ""
             }
            },
            "type": "scattergl"
           }
          ],
          "scattermapbox": [
           {
            "marker": {
             "colorbar": {
              "outlinewidth": 0,
              "ticks": ""
             }
            },
            "type": "scattermapbox"
           }
          ],
          "scatterpolar": [
           {
            "marker": {
             "colorbar": {
              "outlinewidth": 0,
              "ticks": ""
             }
            },
            "type": "scatterpolar"
           }
          ],
          "scatterpolargl": [
           {
            "marker": {
             "colorbar": {
              "outlinewidth": 0,
              "ticks": ""
             }
            },
            "type": "scatterpolargl"
           }
          ],
          "scatterternary": [
           {
            "marker": {
             "colorbar": {
              "outlinewidth": 0,
              "ticks": ""
             }
            },
            "type": "scatterternary"
           }
          ],
          "surface": [
           {
            "colorbar": {
             "outlinewidth": 0,
             "ticks": ""
            },
            "colorscale": [
             [
              0,
              "#0d0887"
             ],
             [
              0.1111111111111111,
              "#46039f"
             ],
             [
              0.2222222222222222,
              "#7201a8"
             ],
             [
              0.3333333333333333,
              "#9c179e"
             ],
             [
              0.4444444444444444,
              "#bd3786"
             ],
             [
              0.5555555555555556,
              "#d8576b"
             ],
             [
              0.6666666666666666,
              "#ed7953"
             ],
             [
              0.7777777777777778,
              "#fb9f3a"
             ],
             [
              0.8888888888888888,
              "#fdca26"
             ],
             [
              1,
              "#f0f921"
             ]
            ],
            "type": "surface"
           }
          ],
          "table": [
           {
            "cells": {
             "fill": {
              "color": "#EBF0F8"
             },
             "line": {
              "color": "white"
             }
            },
            "header": {
             "fill": {
              "color": "#C8D4E3"
             },
             "line": {
              "color": "white"
             }
            },
            "type": "table"
           }
          ]
         },
         "layout": {
          "annotationdefaults": {
           "arrowcolor": "#2a3f5f",
           "arrowhead": 0,
           "arrowwidth": 1
          },
          "autotypenumbers": "strict",
          "coloraxis": {
           "colorbar": {
            "outlinewidth": 0,
            "ticks": ""
           }
          },
          "colorscale": {
           "diverging": [
            [
             0,
             "#8e0152"
            ],
            [
             0.1,
             "#c51b7d"
            ],
            [
             0.2,
             "#de77ae"
            ],
            [
             0.3,
             "#f1b6da"
            ],
            [
             0.4,
             "#fde0ef"
            ],
            [
             0.5,
             "#f7f7f7"
            ],
            [
             0.6,
             "#e6f5d0"
            ],
            [
             0.7,
             "#b8e186"
            ],
            [
             0.8,
             "#7fbc41"
            ],
            [
             0.9,
             "#4d9221"
            ],
            [
             1,
             "#276419"
            ]
           ],
           "sequential": [
            [
             0,
             "#0d0887"
            ],
            [
             0.1111111111111111,
             "#46039f"
            ],
            [
             0.2222222222222222,
             "#7201a8"
            ],
            [
             0.3333333333333333,
             "#9c179e"
            ],
            [
             0.4444444444444444,
             "#bd3786"
            ],
            [
             0.5555555555555556,
             "#d8576b"
            ],
            [
             0.6666666666666666,
             "#ed7953"
            ],
            [
             0.7777777777777778,
             "#fb9f3a"
            ],
            [
             0.8888888888888888,
             "#fdca26"
            ],
            [
             1,
             "#f0f921"
            ]
           ],
           "sequentialminus": [
            [
             0,
             "#0d0887"
            ],
            [
             0.1111111111111111,
             "#46039f"
            ],
            [
             0.2222222222222222,
             "#7201a8"
            ],
            [
             0.3333333333333333,
             "#9c179e"
            ],
            [
             0.4444444444444444,
             "#bd3786"
            ],
            [
             0.5555555555555556,
             "#d8576b"
            ],
            [
             0.6666666666666666,
             "#ed7953"
            ],
            [
             0.7777777777777778,
             "#fb9f3a"
            ],
            [
             0.8888888888888888,
             "#fdca26"
            ],
            [
             1,
             "#f0f921"
            ]
           ]
          },
          "colorway": [
           "#636efa",
           "#EF553B",
           "#00cc96",
           "#ab63fa",
           "#FFA15A",
           "#19d3f3",
           "#FF6692",
           "#B6E880",
           "#FF97FF",
           "#FECB52"
          ],
          "font": {
           "color": "#2a3f5f"
          },
          "geo": {
           "bgcolor": "white",
           "lakecolor": "white",
           "landcolor": "#E5ECF6",
           "showlakes": true,
           "showland": true,
           "subunitcolor": "white"
          },
          "hoverlabel": {
           "align": "left"
          },
          "hovermode": "closest",
          "mapbox": {
           "style": "light"
          },
          "paper_bgcolor": "white",
          "plot_bgcolor": "#E5ECF6",
          "polar": {
           "angularaxis": {
            "gridcolor": "white",
            "linecolor": "white",
            "ticks": ""
           },
           "bgcolor": "#E5ECF6",
           "radialaxis": {
            "gridcolor": "white",
            "linecolor": "white",
            "ticks": ""
           }
          },
          "scene": {
           "xaxis": {
            "backgroundcolor": "#E5ECF6",
            "gridcolor": "white",
            "gridwidth": 2,
            "linecolor": "white",
            "showbackground": true,
            "ticks": "",
            "zerolinecolor": "white"
           },
           "yaxis": {
            "backgroundcolor": "#E5ECF6",
            "gridcolor": "white",
            "gridwidth": 2,
            "linecolor": "white",
            "showbackground": true,
            "ticks": "",
            "zerolinecolor": "white"
           },
           "zaxis": {
            "backgroundcolor": "#E5ECF6",
            "gridcolor": "white",
            "gridwidth": 2,
            "linecolor": "white",
            "showbackground": true,
            "ticks": "",
            "zerolinecolor": "white"
           }
          },
          "shapedefaults": {
           "line": {
            "color": "#2a3f5f"
           }
          },
          "ternary": {
           "aaxis": {
            "gridcolor": "white",
            "linecolor": "white",
            "ticks": ""
           },
           "baxis": {
            "gridcolor": "white",
            "linecolor": "white",
            "ticks": ""
           },
           "bgcolor": "#E5ECF6",
           "caxis": {
            "gridcolor": "white",
            "linecolor": "white",
            "ticks": ""
           }
          },
          "title": {
           "x": 0.05
          },
          "xaxis": {
           "automargin": true,
           "gridcolor": "white",
           "linecolor": "white",
           "ticks": "",
           "title": {
            "standoff": 15
           },
           "zerolinecolor": "white",
           "zerolinewidth": 2
          },
          "yaxis": {
           "automargin": true,
           "gridcolor": "white",
           "linecolor": "white",
           "ticks": "",
           "title": {
            "standoff": 15
           },
           "zerolinecolor": "white",
           "zerolinewidth": 2
          }
         }
        },
        "title": {
         "text": "Salaire mensuel moyen des salariés",
         "x": 0.48,
         "y": 0.88
        },
        "xaxis": {
         "tickangle": -45
        }
       }
      },
      "text/html": [
       "<div>                            <div id=\"f6401b00-8063-4015-a053-ada1c442591f\" class=\"plotly-graph-div\" style=\"height:500px; width:100%;\"></div>            <script type=\"text/javascript\">                require([\"plotly\"], function(Plotly) {                    window.PLOTLYENV=window.PLOTLYENV || {};                                    if (document.getElementById(\"f6401b00-8063-4015-a053-ada1c442591f\")) {                    Plotly.newPlot(                        \"f6401b00-8063-4015-a053-ada1c442591f\",                        [{\"base\":0,\"marker\":{\"color\":\"#C79FEF\"},\"name\":\"Femmes\",\"orientation\":\"h\",\"text\":[4229.0,6193.0,5152.0,4834.0],\"textposition\":\"auto\",\"x\":[4229.781113333333,6193.505808571428,5152.385506122449,4834.584996153846],\"y\":[\"30\",\"40\",\"50\",\"60+\"],\"type\":\"bar\"},{\"base\":[-5419,-5580,-5248,-5315],\"marker\":{\"color\":\"#13EAC9\"},\"name\":\"Hommes\",\"orientation\":\"h\",\"text\":[\"-5419\",\"-5580\",\"-5248\",\"-5315\"],\"textposition\":\"inside\",\"x\":[5419.57578,5580.991005,5248.156597959183,5315.310014814814],\"y\":[\"30\",\"40\",\"50\",\"60+\"],\"type\":\"bar\"}],                        {\"template\":{\"data\":{\"histogram2dcontour\":[{\"type\":\"histogram2dcontour\",\"colorbar\":{\"outlinewidth\":0,\"ticks\":\"\"},\"colorscale\":[[0.0,\"#0d0887\"],[0.1111111111111111,\"#46039f\"],[0.2222222222222222,\"#7201a8\"],[0.3333333333333333,\"#9c179e\"],[0.4444444444444444,\"#bd3786\"],[0.5555555555555556,\"#d8576b\"],[0.6666666666666666,\"#ed7953\"],[0.7777777777777778,\"#fb9f3a\"],[0.8888888888888888,\"#fdca26\"],[1.0,\"#f0f921\"]]}],\"choropleth\":[{\"type\":\"choropleth\",\"colorbar\":{\"outlinewidth\":0,\"ticks\":\"\"}}],\"histogram2d\":[{\"type\":\"histogram2d\",\"colorbar\":{\"outlinewidth\":0,\"ticks\":\"\"},\"colorscale\":[[0.0,\"#0d0887\"],[0.1111111111111111,\"#46039f\"],[0.2222222222222222,\"#7201a8\"],[0.3333333333333333,\"#9c179e\"],[0.4444444444444444,\"#bd3786\"],[0.5555555555555556,\"#d8576b\"],[0.6666666666666666,\"#ed7953\"],[0.7777777777777778,\"#fb9f3a\"],[0.8888888888888888,\"#fdca26\"],[1.0,\"#f0f921\"]]}],\"heatmap\":[{\"type\":\"heatmap\",\"colorbar\":{\"outlinewidth\":0,\"ticks\":\"\"},\"colorscale\":[[0.0,\"#0d0887\"],[0.1111111111111111,\"#46039f\"],[0.2222222222222222,\"#7201a8\"],[0.3333333333333333,\"#9c179e\"],[0.4444444444444444,\"#bd3786\"],[0.5555555555555556,\"#d8576b\"],[0.6666666666666666,\"#ed7953\"],[0.7777777777777778,\"#fb9f3a\"],[0.8888888888888888,\"#fdca26\"],[1.0,\"#f0f921\"]]}],\"heatmapgl\":[{\"type\":\"heatmapgl\",\"colorbar\":{\"outlinewidth\":0,\"ticks\":\"\"},\"colorscale\":[[0.0,\"#0d0887\"],[0.1111111111111111,\"#46039f\"],[0.2222222222222222,\"#7201a8\"],[0.3333333333333333,\"#9c179e\"],[0.4444444444444444,\"#bd3786\"],[0.5555555555555556,\"#d8576b\"],[0.6666666666666666,\"#ed7953\"],[0.7777777777777778,\"#fb9f3a\"],[0.8888888888888888,\"#fdca26\"],[1.0,\"#f0f921\"]]}],\"contourcarpet\":[{\"type\":\"contourcarpet\",\"colorbar\":{\"outlinewidth\":0,\"ticks\":\"\"}}],\"contour\":[{\"type\":\"contour\",\"colorbar\":{\"outlinewidth\":0,\"ticks\":\"\"},\"colorscale\":[[0.0,\"#0d0887\"],[0.1111111111111111,\"#46039f\"],[0.2222222222222222,\"#7201a8\"],[0.3333333333333333,\"#9c179e\"],[0.4444444444444444,\"#bd3786\"],[0.5555555555555556,\"#d8576b\"],[0.6666666666666666,\"#ed7953\"],[0.7777777777777778,\"#fb9f3a\"],[0.8888888888888888,\"#fdca26\"],[1.0,\"#f0f921\"]]}],\"surface\":[{\"type\":\"surface\",\"colorbar\":{\"outlinewidth\":0,\"ticks\":\"\"},\"colorscale\":[[0.0,\"#0d0887\"],[0.1111111111111111,\"#46039f\"],[0.2222222222222222,\"#7201a8\"],[0.3333333333333333,\"#9c179e\"],[0.4444444444444444,\"#bd3786\"],[0.5555555555555556,\"#d8576b\"],[0.6666666666666666,\"#ed7953\"],[0.7777777777777778,\"#fb9f3a\"],[0.8888888888888888,\"#fdca26\"],[1.0,\"#f0f921\"]]}],\"mesh3d\":[{\"type\":\"mesh3d\",\"colorbar\":{\"outlinewidth\":0,\"ticks\":\"\"}}],\"scatter\":[{\"fillpattern\":{\"fillmode\":\"overlay\",\"size\":10,\"solidity\":0.2},\"type\":\"scatter\"}],\"parcoords\":[{\"type\":\"parcoords\",\"line\":{\"colorbar\":{\"outlinewidth\":0,\"ticks\":\"\"}}}],\"scatterpolargl\":[{\"type\":\"scatterpolargl\",\"marker\":{\"colorbar\":{\"outlinewidth\":0,\"ticks\":\"\"}}}],\"bar\":[{\"error_x\":{\"color\":\"#2a3f5f\"},\"error_y\":{\"color\":\"#2a3f5f\"},\"marker\":{\"line\":{\"color\":\"#E5ECF6\",\"width\":0.5},\"pattern\":{\"fillmode\":\"overlay\",\"size\":10,\"solidity\":0.2}},\"type\":\"bar\"}],\"scattergeo\":[{\"type\":\"scattergeo\",\"marker\":{\"colorbar\":{\"outlinewidth\":0,\"ticks\":\"\"}}}],\"scatterpolar\":[{\"type\":\"scatterpolar\",\"marker\":{\"colorbar\":{\"outlinewidth\":0,\"ticks\":\"\"}}}],\"histogram\":[{\"marker\":{\"pattern\":{\"fillmode\":\"overlay\",\"size\":10,\"solidity\":0.2}},\"type\":\"histogram\"}],\"scattergl\":[{\"type\":\"scattergl\",\"marker\":{\"colorbar\":{\"outlinewidth\":0,\"ticks\":\"\"}}}],\"scatter3d\":[{\"type\":\"scatter3d\",\"line\":{\"colorbar\":{\"outlinewidth\":0,\"ticks\":\"\"}},\"marker\":{\"colorbar\":{\"outlinewidth\":0,\"ticks\":\"\"}}}],\"scattermapbox\":[{\"type\":\"scattermapbox\",\"marker\":{\"colorbar\":{\"outlinewidth\":0,\"ticks\":\"\"}}}],\"scatterternary\":[{\"type\":\"scatterternary\",\"marker\":{\"colorbar\":{\"outlinewidth\":0,\"ticks\":\"\"}}}],\"scattercarpet\":[{\"type\":\"scattercarpet\",\"marker\":{\"colorbar\":{\"outlinewidth\":0,\"ticks\":\"\"}}}],\"carpet\":[{\"aaxis\":{\"endlinecolor\":\"#2a3f5f\",\"gridcolor\":\"white\",\"linecolor\":\"white\",\"minorgridcolor\":\"white\",\"startlinecolor\":\"#2a3f5f\"},\"baxis\":{\"endlinecolor\":\"#2a3f5f\",\"gridcolor\":\"white\",\"linecolor\":\"white\",\"minorgridcolor\":\"white\",\"startlinecolor\":\"#2a3f5f\"},\"type\":\"carpet\"}],\"table\":[{\"cells\":{\"fill\":{\"color\":\"#EBF0F8\"},\"line\":{\"color\":\"white\"}},\"header\":{\"fill\":{\"color\":\"#C8D4E3\"},\"line\":{\"color\":\"white\"}},\"type\":\"table\"}],\"barpolar\":[{\"marker\":{\"line\":{\"color\":\"#E5ECF6\",\"width\":0.5},\"pattern\":{\"fillmode\":\"overlay\",\"size\":10,\"solidity\":0.2}},\"type\":\"barpolar\"}],\"pie\":[{\"automargin\":true,\"type\":\"pie\"}]},\"layout\":{\"autotypenumbers\":\"strict\",\"colorway\":[\"#636efa\",\"#EF553B\",\"#00cc96\",\"#ab63fa\",\"#FFA15A\",\"#19d3f3\",\"#FF6692\",\"#B6E880\",\"#FF97FF\",\"#FECB52\"],\"font\":{\"color\":\"#2a3f5f\"},\"hovermode\":\"closest\",\"hoverlabel\":{\"align\":\"left\"},\"paper_bgcolor\":\"white\",\"plot_bgcolor\":\"#E5ECF6\",\"polar\":{\"bgcolor\":\"#E5ECF6\",\"angularaxis\":{\"gridcolor\":\"white\",\"linecolor\":\"white\",\"ticks\":\"\"},\"radialaxis\":{\"gridcolor\":\"white\",\"linecolor\":\"white\",\"ticks\":\"\"}},\"ternary\":{\"bgcolor\":\"#E5ECF6\",\"aaxis\":{\"gridcolor\":\"white\",\"linecolor\":\"white\",\"ticks\":\"\"},\"baxis\":{\"gridcolor\":\"white\",\"linecolor\":\"white\",\"ticks\":\"\"},\"caxis\":{\"gridcolor\":\"white\",\"linecolor\":\"white\",\"ticks\":\"\"}},\"coloraxis\":{\"colorbar\":{\"outlinewidth\":0,\"ticks\":\"\"}},\"colorscale\":{\"sequential\":[[0.0,\"#0d0887\"],[0.1111111111111111,\"#46039f\"],[0.2222222222222222,\"#7201a8\"],[0.3333333333333333,\"#9c179e\"],[0.4444444444444444,\"#bd3786\"],[0.5555555555555556,\"#d8576b\"],[0.6666666666666666,\"#ed7953\"],[0.7777777777777778,\"#fb9f3a\"],[0.8888888888888888,\"#fdca26\"],[1.0,\"#f0f921\"]],\"sequentialminus\":[[0.0,\"#0d0887\"],[0.1111111111111111,\"#46039f\"],[0.2222222222222222,\"#7201a8\"],[0.3333333333333333,\"#9c179e\"],[0.4444444444444444,\"#bd3786\"],[0.5555555555555556,\"#d8576b\"],[0.6666666666666666,\"#ed7953\"],[0.7777777777777778,\"#fb9f3a\"],[0.8888888888888888,\"#fdca26\"],[1.0,\"#f0f921\"]],\"diverging\":[[0,\"#8e0152\"],[0.1,\"#c51b7d\"],[0.2,\"#de77ae\"],[0.3,\"#f1b6da\"],[0.4,\"#fde0ef\"],[0.5,\"#f7f7f7\"],[0.6,\"#e6f5d0\"],[0.7,\"#b8e186\"],[0.8,\"#7fbc41\"],[0.9,\"#4d9221\"],[1,\"#276419\"]]},\"xaxis\":{\"gridcolor\":\"white\",\"linecolor\":\"white\",\"ticks\":\"\",\"title\":{\"standoff\":15},\"zerolinecolor\":\"white\",\"automargin\":true,\"zerolinewidth\":2},\"yaxis\":{\"gridcolor\":\"white\",\"linecolor\":\"white\",\"ticks\":\"\",\"title\":{\"standoff\":15},\"zerolinecolor\":\"white\",\"automargin\":true,\"zerolinewidth\":2},\"scene\":{\"xaxis\":{\"backgroundcolor\":\"#E5ECF6\",\"gridcolor\":\"white\",\"linecolor\":\"white\",\"showbackground\":true,\"ticks\":\"\",\"zerolinecolor\":\"white\",\"gridwidth\":2},\"yaxis\":{\"backgroundcolor\":\"#E5ECF6\",\"gridcolor\":\"white\",\"linecolor\":\"white\",\"showbackground\":true,\"ticks\":\"\",\"zerolinecolor\":\"white\",\"gridwidth\":2},\"zaxis\":{\"backgroundcolor\":\"#E5ECF6\",\"gridcolor\":\"white\",\"linecolor\":\"white\",\"showbackground\":true,\"ticks\":\"\",\"zerolinecolor\":\"white\",\"gridwidth\":2}},\"shapedefaults\":{\"line\":{\"color\":\"#2a3f5f\"}},\"annotationdefaults\":{\"arrowcolor\":\"#2a3f5f\",\"arrowhead\":0,\"arrowwidth\":1},\"geo\":{\"bgcolor\":\"white\",\"landcolor\":\"#E5ECF6\",\"subunitcolor\":\"white\",\"showland\":true,\"showlakes\":true,\"lakecolor\":\"white\"},\"title\":{\"x\":0.05},\"mapbox\":{\"style\":\"light\"}}},\"title\":{\"text\":\"Salaire mensuel moyen des salari\\u00e9s\",\"x\":0.48,\"y\":0.88},\"height\":500,\"xaxis\":{\"tickangle\":-45},\"barmode\":\"overlay\",\"bargap\":0.5},                        {\"responsive\": true}                    ).then(function(){\n",
       "                            \n",
       "var gd = document.getElementById('f6401b00-8063-4015-a053-ada1c442591f');\n",
       "var x = new MutationObserver(function (mutations, observer) {{\n",
       "        var display = window.getComputedStyle(gd).display;\n",
       "        if (!display || display === 'none') {{\n",
       "            console.log([gd, 'removed!']);\n",
       "            Plotly.purge(gd);\n",
       "            observer.disconnect();\n",
       "        }}\n",
       "}});\n",
       "\n",
       "// Listen for the removal of the full notebook cells\n",
       "var notebookContainer = gd.closest('#notebook-container');\n",
       "if (notebookContainer) {{\n",
       "    x.observe(notebookContainer, {childList: true});\n",
       "}}\n",
       "\n",
       "// Listen for the clearing of the current output cell\n",
       "var outputEl = gd.closest('.output');\n",
       "if (outputEl) {{\n",
       "    x.observe(outputEl, {childList: true});\n",
       "}}\n",
       "\n",
       "                        })                };                });            </script>        </div>"
      ]
     },
     "metadata": {},
     "output_type": "display_data"
    }
   ],
   "source": [
    "fig = go.Figure()\n",
    "fig.add_trace(go.Bar(y= age_class, x= gf,\n",
    "                base=0,\n",
    "                marker_color='#C79FEF',\n",
    "                name='Femmes',\n",
    "                text = gf_int,\n",
    "                textposition = \"auto\",\n",
    "                orientation = 'h',\n",
    "))\n",
    "fig.add_trace(go.Bar(y=age_class, x= gm,\n",
    "                base= _gm,\n",
    "                marker_color='#13EAC9',\n",
    "                name='Hommes',\n",
    "                text = _gm,\n",
    "                textposition = \"inside\",\n",
    "                orientation = 'h',\n",
    "))\n",
    "\n",
    "\n",
    "fig.update_layout(\n",
    "    height = 500,\n",
    "    title_text = 'Salaire mensuel moyen des salariés',\n",
    "    title_x = 0.48,\n",
    "    title_y = 0.88\n",
    ")\n",
    "\n",
    "fig.update_layout(\n",
    "    barmode='overlay',\n",
    "    xaxis_tickangle=-45,\n",
    "    bargap= 0.50\n",
    ")\n",
    "\n",
    "fig.show()"
   ]
  },
  {
   "cell_type": "code",
   "execution_count": 330,
   "id": "58d09a3e",
   "metadata": {},
   "outputs": [
    {
     "data": {
      "image/png": "[encoded data removed]",
      "text/plain": [
       "<Figure size 640x480 with 1 Axes>"
      ]
     },
     "metadata": {},
     "output_type": "display_data"
    }
   ],
   "source": [
    "age_class = [\"30\", \"40\", \"50\", \"60+\"]\n",
    "\n",
    "fig, ax = plt.subplots()\n",
    "\n",
    "ax.plot(age_class, gf, label = \"femmes\", color = \"#C79FEF\")\n",
    "ax.plot(age_class, gm, label = \"homme\", color = '#13EAC9')\n",
    "\n",
    "ax.set_xlabel(\"âge des salariés\")\n",
    "ax.set_ylabel(\"salaires\")\n",
    "ax.set_title(\"salaires mensuel hommes/femmes\")\n",
    "ax.legend()\n",
    "\n",
    "plt.show()"
   ]
  },
  {
   "cell_type": "markdown",
   "id": "42f8ca54",
   "metadata": {},
   "source": [
    "Observation:\n",
    "- Les femmes de 20 à 40 ans ont un salaires moyenne légèrement inférieur aux hommes\n",
    "- Les femmes de 40-60 on en moyenne un salaire qui est légèrement supérieur aux hommes\n",
    "- de 60-80+ cette tendence s'inverse\n",
    "\n",
    "Conclusion :\n",
    "- D'après les observations, on voit que les différences de salaires reste assez modéré, saif pour les salariés agé de 30 à 40 ans, avec presque 1000 euro de différence, et je pense que les raisons sont les suivantes :\n",
    "    - Une certain nombre de femmes de 30-40 ans travaillant pour l'entreprise doivent avoir plus de responsabilités que hommes, et cela pourrait les empêcher de travailler à temps plein (comme garder leurs enfants quand ils sont malade, les déposer/chercher à l'école)\n",
    "\n",
    "- on voit que les femmes de 40-50 on en moyenne un salaire plus élevé que les hommes de 40-60 ans. En générale les femmes n'ont plus à s'occuper autant de leurs enfants vu qu'ils ont grandi.\n",
    "\n",
    "- ça peut être du aux mentalité, au modèle familiale dans lequel le couple a grandi, qui lors de la naissance du bébé,  renverrait les conjoints vers les rôles traditionnels d’une famille classique. A savoir, maman qui s’occupe des tâches ménagères et papa qui prend en charge l’autorité.\n",
    "\n",
    "Conclusion_v2 :\n",
    "- après des analyse plus détaillé, j'ai remarqué que la différence de salaire ne venait pas du fait que les femmes travaillaient moins d'heures hebdo que les hommes du à leurs responsabilité. Elles travaillent autant voir plus qu'eux.\n",
    "- La différence de salaire vient donc d'autre facteurs :\n",
    "    - Les femmes de 30-40 ans on un poste moins important que les hommes(30-40)\n",
    "    - donc moins de promotion\n",
    "    - et possiblement moins d'augmentation"
   ]
  },
  {
   "cell_type": "markdown",
   "id": "3d0999df",
   "metadata": {},
   "source": [
    "## chart pour voir si les femmes travaille moins à temps plein que les hommes "
   ]
  },
  {
   "cell_type": "code",
   "execution_count": 331,
   "id": "e5f670a6",
   "metadata": {},
   "outputs": [],
   "source": [
    "dn_pivot_table = pd.pivot_table(data = df, index = \"Sexe\", columns = \"tranche_age\", values = \"Durée hebdo\", aggfunc = np.mean)"
   ]
  },
  {
   "cell_type": "code",
   "execution_count": 332,
   "id": "9ba54869",
   "metadata": {},
   "outputs": [
    {
     "data": {
      "text/html": [
       "<div>\n",
       "<style scoped>\n",
       "    .dataframe tbody tr th:only-of-type {\n",
       "        vertical-align: middle;\n",
       "    }\n",
       "\n",
       "    .dataframe tbody tr th {\n",
       "        vertical-align: top;\n",
       "    }\n",
       "\n",
       "    .dataframe thead th {\n",
       "        text-align: right;\n",
       "    }\n",
       "</style>\n",
       "<table border=\"1\" class=\"dataframe\">\n",
       "  <thead>\n",
       "    <tr style=\"text-align: right;\">\n",
       "      <th>tranche_age</th>\n",
       "      <th>(30, 40]</th>\n",
       "      <th>(40, 50]</th>\n",
       "      <th>(50, 60]</th>\n",
       "      <th>(60, 70]</th>\n",
       "    </tr>\n",
       "    <tr>\n",
       "      <th>Sexe</th>\n",
       "      <th></th>\n",
       "      <th></th>\n",
       "      <th></th>\n",
       "      <th></th>\n",
       "    </tr>\n",
       "  </thead>\n",
       "  <tbody>\n",
       "    <tr>\n",
       "      <th>F</th>\n",
       "      <td>35.000000</td>\n",
       "      <td>34.20</td>\n",
       "      <td>33.591837</td>\n",
       "      <td>33.730769</td>\n",
       "    </tr>\n",
       "    <tr>\n",
       "      <th>H</th>\n",
       "      <td>33.066667</td>\n",
       "      <td>34.55</td>\n",
       "      <td>33.755102</td>\n",
       "      <td>33.111111</td>\n",
       "    </tr>\n",
       "  </tbody>\n",
       "</table>\n",
       "</div>"
      ],
      "text/plain": [
       "tranche_age   (30, 40]  (40, 50]   (50, 60]   (60, 70]\n",
       "Sexe                                                  \n",
       "F            35.000000     34.20  33.591837  33.730769\n",
       "H            33.066667     34.55  33.755102  33.111111"
      ]
     },
     "execution_count": 332,
     "metadata": {},
     "output_type": "execute_result"
    }
   ],
   "source": [
    "dn_pivot_table"
   ]
  },
  {
   "cell_type": "code",
   "execution_count": 333,
   "id": "abe5b7a6",
   "metadata": {},
   "outputs": [],
   "source": [
    "dn_np = dn_pivot_table.to_numpy()\n",
    "dn_np = dn_np.reshape(8,)\n",
    "\n",
    "dn_f = dn_np[:4]\n",
    "dn_m = dn_np[4:]\n",
    "\n",
    "dn_f = dn_f.astype(int)\n",
    "dn_m = dn_m.astype(int)\n",
    "dn_labels = [\"30\", \"40\", \"50\", \"60+\"]\n",
    "dn_colors_1 = [\"#C79FEF\"]\n",
    "dn_colors_2 = [\"#13EAC9\"]"
   ]
  },
  {
   "cell_type": "code",
   "execution_count": 334,
   "id": "4db3deca",
   "metadata": {},
   "outputs": [
    {
     "data": {
      "text/plain": [
       "array([35.        , 34.2       , 33.59183673, 33.73076923, 33.06666667,\n",
       "       34.55      , 33.75510204, 33.11111111])"
      ]
     },
     "execution_count": 334,
     "metadata": {},
     "output_type": "execute_result"
    }
   ],
   "source": [
    "dn_np"
   ]
  },
  {
   "cell_type": "code",
   "execution_count": 335,
   "id": "592f965d",
   "metadata": {},
   "outputs": [
    {
     "data": {
      "image/png": "[encoded data removed]",
      "text/plain": [
       "<Figure size 640x480 with 1 Axes>"
      ]
     },
     "metadata": {},
     "output_type": "display_data"
    }
   ],
   "source": [
    "x = np.arange(len(dn_labels))  # the label locations\n",
    "width = 0.35  # the width of the bars\n",
    "\n",
    "fig, ax = plt.subplots()\n",
    "rects1 = ax.bar(x - width/2, dn_m, width, label='Men', color = dn_colors_2)\n",
    "rects2 = ax.bar(x + width/2, dn_f, width, label='Women', color = dn_colors_1)\n",
    "\n",
    "# Add some text for labels, title and custom x-axis tick labels, etc.\n",
    "ax.set_ylabel('Heure')\n",
    "ax.set_title(\"Heure de travail hebdomadaire par Sexe\")\n",
    "ax.set_xticks(x)\n",
    "ax.set_xticklabels(dn_labels)\n",
    "ax.legend()\n",
    "\n",
    "\n",
    "def autolabel(rects):\n",
    "    \"\"\"Attach a text label above each bar in *rects*, displaying its height.\"\"\"\n",
    "    for rect in rects:\n",
    "        height = rect.get_height()\n",
    "        ax.annotate('{}'.format(height),\n",
    "                    xy=(rect.get_x() + rect.get_width() / 2, height),\n",
    "                    xytext=(0, 3),  # 3 points vertical offset\n",
    "                    textcoords=\"offset points\",\n",
    "                    ha='center', va='bottom')\n",
    "\n",
    "\n",
    "autolabel(rects1)\n",
    "autolabel(rects2)\n",
    "\n",
    "fig.tight_layout()\n",
    "\n",
    "plt.show()"
   ]
  },
  {
   "cell_type": "markdown",
   "id": "cb0167a2",
   "metadata": {},
   "source": [
    "Observation:\n",
    "- Globalement, les femmes et les hommes travaillent en moyenne le même nombre d'heure.\n",
    "- Ce n'est donc pas un facteur déterminant concernant le salaire des employé de l'entreprise "
   ]
  },
  {
   "cell_type": "markdown",
   "id": "a1f52684",
   "metadata": {},
   "source": [
    "## Graphique pour voir les salariés(femmes) sont moins augmentées que les hommes"
   ]
  },
  {
   "cell_type": "code",
   "execution_count": 336,
   "id": "6517222a",
   "metadata": {},
   "outputs": [],
   "source": [
    "sa_pivot_table = pd.pivot_table(data = df,index = \"tranche_age\", columns = \"Sexe\",values = \"Augmentation\", aggfunc = np.sum)"
   ]
  },
  {
   "cell_type": "code",
   "execution_count": 337,
   "id": "d2c8e549",
   "metadata": {},
   "outputs": [],
   "source": [
    "sp_pivot_table = pd.pivot_table(data = df, index = \"tranche_age\", columns = \"Sexe\", values = \"Promotion\", aggfunc = np.sum)"
   ]
  },
  {
   "cell_type": "code",
   "execution_count": 338,
   "id": "16c75cf8",
   "metadata": {},
   "outputs": [],
   "source": [
    "sp_np = sp_pivot_table.to_numpy()\n",
    "\n",
    "sp_f = sp_np[3:7, 0]\n",
    "sp_m = sp_np[3:7, 1]"
   ]
  },
  {
   "cell_type": "code",
   "execution_count": 339,
   "id": "47dd2735",
   "metadata": {},
   "outputs": [],
   "source": [
    "sa_np = sa_pivot_table.to_numpy()\n",
    "\n",
    "sa_f = sa_np[3:7, 0]\n",
    "sa_m = sa_np[3:7, 1]"
   ]
  },
  {
   "cell_type": "code",
   "execution_count": 396,
   "id": "19ce4455",
   "metadata": {},
   "outputs": [
    {
     "data": {
      "text/html": [
       "<div>\n",
       "<style scoped>\n",
       "    .dataframe tbody tr th:only-of-type {\n",
       "        vertical-align: middle;\n",
       "    }\n",
       "\n",
       "    .dataframe tbody tr th {\n",
       "        vertical-align: top;\n",
       "    }\n",
       "\n",
       "    .dataframe thead th {\n",
       "        text-align: right;\n",
       "    }\n",
       "</style>\n",
       "<table border=\"1\" class=\"dataframe\">\n",
       "  <thead>\n",
       "    <tr style=\"text-align: right;\">\n",
       "      <th>Sexe</th>\n",
       "      <th>F</th>\n",
       "      <th>H</th>\n",
       "    </tr>\n",
       "    <tr>\n",
       "      <th>tranche_age</th>\n",
       "      <th></th>\n",
       "      <th></th>\n",
       "    </tr>\n",
       "  </thead>\n",
       "  <tbody>\n",
       "    <tr>\n",
       "      <th>(30, 40]</th>\n",
       "      <td>5.0</td>\n",
       "      <td>9.0</td>\n",
       "    </tr>\n",
       "    <tr>\n",
       "      <th>(40, 50]</th>\n",
       "      <td>19.0</td>\n",
       "      <td>13.0</td>\n",
       "    </tr>\n",
       "    <tr>\n",
       "      <th>(50, 60]</th>\n",
       "      <td>32.0</td>\n",
       "      <td>26.0</td>\n",
       "    </tr>\n",
       "    <tr>\n",
       "      <th>(60, 70]</th>\n",
       "      <td>8.0</td>\n",
       "      <td>13.0</td>\n",
       "    </tr>\n",
       "  </tbody>\n",
       "</table>\n",
       "</div>"
      ],
      "text/plain": [
       "Sexe            F     H\n",
       "tranche_age            \n",
       "(30, 40]      5.0   9.0\n",
       "(40, 50]     19.0  13.0\n",
       "(50, 60]     32.0  26.0\n",
       "(60, 70]      8.0  13.0"
      ]
     },
     "execution_count": 396,
     "metadata": {},
     "output_type": "execute_result"
    }
   ],
   "source": [
    "sa_pivot_table[3:7]"
   ]
  },
  {
   "cell_type": "code",
   "execution_count": 340,
   "id": "42ab5960",
   "metadata": {},
   "outputs": [
    {
     "data": {
      "image/png": "[encoded data removed]",
      "text/plain": [
       "<Figure size 640x480 with 1 Axes>"
      ]
     },
     "metadata": {},
     "output_type": "display_data"
    }
   ],
   "source": [
    "age_class = [\"30\", \"40\", \"50\", \"60+\"]\n",
    "\n",
    "fig, ax = plt.subplots()\n",
    "\n",
    "ax.plot(age_class, sp_f, label = \"femmes\", color = \"#C79FEF\")\n",
    "ax.plot(age_class, sp_m, label = \"homme\", color = '#13EAC9')\n",
    "\n",
    "ax.set_xlabel(\"âge des salariés\")\n",
    "ax.set_ylabel(\"Promotion\")\n",
    "ax.set_title(\"Promotion hommes/femmes par âge\")\n",
    "ax.legend()\n",
    "\n",
    "plt.show()"
   ]
  },
  {
   "cell_type": "markdown",
   "id": "c51b5c65",
   "metadata": {},
   "source": [
    "Observation :\n",
    "- On voit que jusqu'à 40 ans il n'y a pas de différence du nombre de promotion entre les hommes et les femmes.\n",
    "- Dans la catégorie d'âge 50-60 ans, on peut par contre clairement voir que les hommes sont plus augmenté que les femmes"
   ]
  },
  {
   "cell_type": "code",
   "execution_count": 341,
   "id": "cc8105fb",
   "metadata": {},
   "outputs": [
    {
     "data": {
      "image/png": "[encoded data removed]",
      "text/plain": [
       "<Figure size 640x480 with 1 Axes>"
      ]
     },
     "metadata": {},
     "output_type": "display_data"
    }
   ],
   "source": [
    "age_class = [\"30\", \"40\", \"50\", \"60+\"]\n",
    "\n",
    "fig, ax = plt.subplots()\n",
    "\n",
    "ax.plot(age_class, sa_f, label = \"femmes\", color = \"#C79FEF\")\n",
    "ax.plot(age_class, sa_m, label = \"homme\", color = '#13EAC9')\n",
    "\n",
    "ax.set_xlabel(\"âge des salariés\")\n",
    "ax.set_ylabel(\"Augmentation\")\n",
    "ax.set_title(\"Augmentation hommes/femmes par âge\")\n",
    "ax.legend()\n",
    "\n",
    "plt.show()"
   ]
  },
  {
   "cell_type": "markdown",
   "id": "5e38bb83",
   "metadata": {},
   "source": [
    "Observation :\n",
    "- Entre 30-35 ans, les femmes sont moins augmenté que les hommes, ce qui explique leurs différences de salaires. \n",
    "- En plus la moyenne de salaire est plus sensible aux outliers vu les effectifs réduit de salariés 30-40 ans, ce qui expliquerait aussi cette différence de 1000 euro. (il y a 23 salariés de moin de 30-40 ans et 14 ont été augmenté)\n",
    "- Au contraire, à partir de 40 ans jusqu'à 50 ans on voit nettement que les femmes ont reçu plus d'augmentation, ce qui explique aussi pourquoi elles ont en moyenne un salaire plus élevé que les homme dans cette tranche d'âge.\n",
    "\n",
    "Une bonne question à se poser est Pourquoi est-ce qu'elles ont reçu moins d'augmentation entre 30, 35 ?"
   ]
  },
  {
   "cell_type": "markdown",
   "id": "b34787ef",
   "metadata": {},
   "source": [
    "## Moyenne des salaires homme/femme en fonction de l'ancienneté des salariés"
   ]
  },
  {
   "cell_type": "markdown",
   "id": "61aa2008",
   "metadata": {},
   "source": [
    "je veux voir si le salaire change en fonction de l'ancienneté du salarié.\n",
    "\n"
   ]
  },
  {
   "cell_type": "code",
   "execution_count": 342,
   "id": "d8c9d6f4",
   "metadata": {},
   "outputs": [],
   "source": [
    "df['An_cienneté'] = pd.cut(df['Ancienneté_an'],\n",
    "                                     bins=[0,5,10,15,20, 25], labels=['[0, 5]','[5, 10]','[10, 15]','[15, 20]','[20+]'])"
   ]
  },
  {
   "cell_type": "code",
   "execution_count": 343,
   "id": "effa64f5",
   "metadata": {},
   "outputs": [],
   "source": [
    "pivot_ancienneté = pd.pivot_table(data = df, index = \"An_cienneté\", columns = \"Sexe\", values = \"Salaire base mensuel\",\n",
    "                                  aggfunc = np.mean)"
   ]
  },
  {
   "cell_type": "code",
   "execution_count": 344,
   "id": "cb0739f1",
   "metadata": {},
   "outputs": [
    {
     "data": {
      "text/html": [
       "<div>\n",
       "<style scoped>\n",
       "    .dataframe tbody tr th:only-of-type {\n",
       "        vertical-align: middle;\n",
       "    }\n",
       "\n",
       "    .dataframe tbody tr th {\n",
       "        vertical-align: top;\n",
       "    }\n",
       "\n",
       "    .dataframe thead th {\n",
       "        text-align: right;\n",
       "    }\n",
       "</style>\n",
       "<table border=\"1\" class=\"dataframe\">\n",
       "  <thead>\n",
       "    <tr style=\"text-align: right;\">\n",
       "      <th>Sexe</th>\n",
       "      <th>F</th>\n",
       "      <th>H</th>\n",
       "    </tr>\n",
       "    <tr>\n",
       "      <th>An_cienneté</th>\n",
       "      <th></th>\n",
       "      <th></th>\n",
       "    </tr>\n",
       "  </thead>\n",
       "  <tbody>\n",
       "    <tr>\n",
       "      <th>[0, 5]</th>\n",
       "      <td>3686.997826</td>\n",
       "      <td>3107.541670</td>\n",
       "    </tr>\n",
       "    <tr>\n",
       "      <th>[5, 10]</th>\n",
       "      <td>5472.260535</td>\n",
       "      <td>5954.806006</td>\n",
       "    </tr>\n",
       "    <tr>\n",
       "      <th>[10, 15]</th>\n",
       "      <td>5807.713331</td>\n",
       "      <td>4976.940726</td>\n",
       "    </tr>\n",
       "    <tr>\n",
       "      <th>[15, 20]</th>\n",
       "      <td>5320.706029</td>\n",
       "      <td>6117.809286</td>\n",
       "    </tr>\n",
       "    <tr>\n",
       "      <th>[20+]</th>\n",
       "      <td>5883.713329</td>\n",
       "      <td>5141.268486</td>\n",
       "    </tr>\n",
       "  </tbody>\n",
       "</table>\n",
       "</div>"
      ],
      "text/plain": [
       "Sexe                   F            H\n",
       "An_cienneté                          \n",
       "[0, 5]       3686.997826  3107.541670\n",
       "[5, 10]      5472.260535  5954.806006\n",
       "[10, 15]     5807.713331  4976.940726\n",
       "[15, 20]     5320.706029  6117.809286\n",
       "[20+]        5883.713329  5141.268486"
      ]
     },
     "execution_count": 344,
     "metadata": {},
     "output_type": "execute_result"
    }
   ],
   "source": [
    "pivot_ancienneté"
   ]
  },
  {
   "cell_type": "code",
   "execution_count": 345,
   "id": "2dfcc479",
   "metadata": {},
   "outputs": [],
   "source": [
    "an_np = pivot_ancienneté.to_numpy()"
   ]
  },
  {
   "cell_type": "code",
   "execution_count": 346,
   "id": "cdcc8d68",
   "metadata": {},
   "outputs": [],
   "source": [
    "anf = an_np[:, 0]\n",
    "anm = an_np[:, 1]\n",
    "anf1 = anf.astype(int)\n",
    "anm1 = anm.astype(int)\n",
    "lalo = ['0', '5', '10', '15', '20+']\n",
    "an_colors_1 = [\"#C79FEF\"]\n",
    "an_colors_2 = ['#13EAC9']"
   ]
  },
  {
   "cell_type": "code",
   "execution_count": 347,
   "id": "74950885",
   "metadata": {},
   "outputs": [
    {
     "data": {
      "text/plain": [
       "(5,)"
      ]
     },
     "execution_count": 347,
     "metadata": {},
     "output_type": "execute_result"
    }
   ],
   "source": [
    "anf.shape"
   ]
  },
  {
   "cell_type": "code",
   "execution_count": 348,
   "id": "62eaf673",
   "metadata": {},
   "outputs": [
    {
     "data": {
      "image/png": "[encoded data removed]",
      "text/plain": [
       "<Figure size 640x480 with 1 Axes>"
      ]
     },
     "metadata": {},
     "output_type": "display_data"
    }
   ],
   "source": [
    "x = np.arange(len(lalo))  # the label locations\n",
    "width = 0.35  # the width of the bars\n",
    "\n",
    "fig, ax = plt.subplots()\n",
    "rects1 = ax.bar(x - width/2, anm1, width, label='Men', color = an_colors_2)\n",
    "rects2 = ax.bar(x + width/2, anf1, width, label='Women', color = an_colors_1)\n",
    "\n",
    "# Add some text for labels, title and custom x-axis tick labels, etc.\n",
    "ax.set_ylabel('Moyenne des salaires')\n",
    "ax.set_title(\"Moyenne des salaires hommes/femmes en fonction de l'ancienneté des salariés\")\n",
    "ax.set_xticks(x)\n",
    "ax.set_xticklabels(lalo)\n",
    "ax.legend()\n",
    "\n",
    "\n",
    "def autolabel(rects):\n",
    "    \"\"\"Attach a text label above each bar in *rects*, displaying its height.\"\"\"\n",
    "    for rect in rects:\n",
    "        height = rect.get_height()\n",
    "        ax.annotate('{}'.format(height),\n",
    "                    xy=(rect.get_x() + rect.get_width() / 2, height),\n",
    "                    xytext=(0, 3),  # 3 points vertical offset\n",
    "                    textcoords=\"offset points\",\n",
    "                    ha='center', va='bottom')\n",
    "\n",
    "\n",
    "autolabel(rects1)\n",
    "autolabel(rects2)\n",
    "\n",
    "fig.tight_layout()\n",
    "\n",
    "plt.show()"
   ]
  },
  {
   "cell_type": "markdown",
   "id": "881b9bf6",
   "metadata": {},
   "source": [
    "Observation:\n",
    "- Les salariés(femme) de moins de 5 ans d'ancienneté ont en moyenne un salaire légerement plus élevé que les salariés(homme) de moins de 5 ans \n",
    "- cette tendence s'inverse pour entre 5-10 d'ancienneté\n",
    "- Les femmes reprennent légeremment le dessus entre 10-15\n",
    "- Les homme reprennent le dessus entre 15-20\n",
    "- Les femmes reprennent le dessus pour les salariés qui on plus de 20 ans d'expérience\n",
    "\n",
    "Conclusion :\n",
    "- Je ne voit pas de réelle influence sur le salaire en fonction d'être un homme ou une femme"
   ]
  },
  {
   "cell_type": "markdown",
   "id": "93ddf5db",
   "metadata": {},
   "source": [
    "\n",
    "## Bar plot horizontal observant le total de salariés classés par Services"
   ]
  },
  {
   "cell_type": "code",
   "execution_count": 349,
   "id": "b59d4adc",
   "metadata": {},
   "outputs": [
    {
     "data": {
      "text/plain": [
       "Consultant         69\n",
       "Commercial         52\n",
       "RH                 43\n",
       "Compta Finances    41\n",
       "Marketing          36\n",
       "R&D                15\n",
       "Name: Service, dtype: int64"
      ]
     },
     "execution_count": 349,
     "metadata": {},
     "output_type": "execute_result"
    }
   ],
   "source": [
    "df[\"Service\"].value_counts()"
   ]
  },
  {
   "cell_type": "code",
   "execution_count": 350,
   "id": "212b44da",
   "metadata": {},
   "outputs": [],
   "source": [
    "s_service = df[\"Service\"].value_counts()\n",
    "s_service_colors = sns.color_palette(\"hls\", 8)\n",
    "s_service_labels = [\"Consultant\", \"Commercial\", \"RH\", \"Compta Finances\", \"Marketing\", \"R&D\"]"
   ]
  },
  {
   "cell_type": "code",
   "execution_count": 351,
   "id": "68eb1c41",
   "metadata": {},
   "outputs": [
    {
     "data": {
      "text/plain": [
       "Text(0.5, 1.0, 'Total of salaries per Services')"
      ]
     },
     "execution_count": 351,
     "metadata": {},
     "output_type": "execute_result"
    },
    {
     "data": {
      "image/png": "[encoded data removed]",
      "text/plain": [
       "<Figure size 640x480 with 1 Axes>"
      ]
     },
     "metadata": {},
     "output_type": "display_data"
    }
   ],
   "source": [
    "fig, ax = plt.subplots()\n",
    "\n",
    "# df = df.sort_values(by= ['Service'])\n",
    "\n",
    "ax.barh(data = df, y = s_service_labels, width = s_service, color = s_service_colors)\n",
    "ax.set_xlabel(\"Total of Salaries\")\n",
    "ax.set_ylabel(\"Services\")\n",
    "ax.set_title(\"Total of salaries per Services\")"
   ]
  },
  {
   "cell_type": "markdown",
   "id": "63e77d02",
   "metadata": {},
   "source": [
    "Observation: \n",
    "- Il y'a deux extrême : beaucoup de salariés dans le service \"Consultant\" et peu dans le service \"R&D\"\n",
    "- Les autres services ont environ le même nombre de salariés et se situe entre ces deux extrême (\"Consultant\" et \"R&D\")\n",
    "- Mais on peux constater qu'il y a une légère augmentation du nombre de salarié dans le service \"Commercial\"\n",
    "\n",
    "Conclusion : \n",
    "- L'entreprise à une grande part d'activité dans le domaine de la consultation. \n",
    "- Elle place une partie de ses salariés dans le domaine de la R&D : pour exploiter de nouvelles ressources, trouver de nouvelles idée, développement, recherche... .\n",
    "- Je pense qu'il serait pertinent réfléchir aux différentes possibilités qui permettrai d'augmenter l'effectif de salariés dans la R&D. Pour amélioré la productivité tout en évitant épuiser inutilement les ressources de l'entreprise"
   ]
  },
  {
   "cell_type": "markdown",
   "id": "2df6aa27",
   "metadata": {},
   "source": [
    "## A pie-chart to see the proportion of work accident in the company"
   ]
  },
  {
   "cell_type": "code",
   "execution_count": 352,
   "id": "1c9a3f10",
   "metadata": {},
   "outputs": [
    {
     "data": {
      "text/html": [
       "<div>\n",
       "<style scoped>\n",
       "    .dataframe tbody tr th:only-of-type {\n",
       "        vertical-align: middle;\n",
       "    }\n",
       "\n",
       "    .dataframe tbody tr th {\n",
       "        vertical-align: top;\n",
       "    }\n",
       "\n",
       "    .dataframe thead th {\n",
       "        text-align: right;\n",
       "    }\n",
       "</style>\n",
       "<table border=\"1\" class=\"dataframe\">\n",
       "  <thead>\n",
       "    <tr style=\"text-align: right;\">\n",
       "      <th></th>\n",
       "      <th>id_salarié</th>\n",
       "      <th>Ancienneté_an</th>\n",
       "      <th>Distance domicile/Travail</th>\n",
       "      <th>Service</th>\n",
       "      <th>Work_accident</th>\n",
       "      <th>Niveau de satisfaction</th>\n",
       "      <th>Contrat</th>\n",
       "      <th>Durée hebdo</th>\n",
       "      <th>Salaire base mensuel</th>\n",
       "      <th>%variable_moyen</th>\n",
       "      <th>...</th>\n",
       "      <th>Sexe</th>\n",
       "      <th>Prénom/Nom</th>\n",
       "      <th>Telephone</th>\n",
       "      <th>Date_naissance</th>\n",
       "      <th>Etat Civil</th>\n",
       "      <th>Enfants</th>\n",
       "      <th>age</th>\n",
       "      <th>tranche_age</th>\n",
       "      <th>Work_accident_bin</th>\n",
       "      <th>An_cienneté</th>\n",
       "    </tr>\n",
       "  </thead>\n",
       "  <tbody>\n",
       "    <tr>\n",
       "      <th>0</th>\n",
       "      <td>16000206-8278</td>\n",
       "      <td>12.6</td>\n",
       "      <td>59.0</td>\n",
       "      <td>Marketing</td>\n",
       "      <td>Non</td>\n",
       "      <td>67.0</td>\n",
       "      <td>CDI</td>\n",
       "      <td>35.0</td>\n",
       "      <td>6583.8500</td>\n",
       "      <td>13.0</td>\n",
       "      <td>...</td>\n",
       "      <td>F</td>\n",
       "      <td>Pascale Duclos</td>\n",
       "      <td>677289138.0</td>\n",
       "      <td>1958-12-07</td>\n",
       "      <td>non précisé</td>\n",
       "      <td>2.0</td>\n",
       "      <td>65</td>\n",
       "      <td>(60, 70]</td>\n",
       "      <td>0</td>\n",
       "      <td>[10, 15]</td>\n",
       "    </tr>\n",
       "    <tr>\n",
       "      <th>1</th>\n",
       "      <td>16011205-0331</td>\n",
       "      <td>11.8</td>\n",
       "      <td>31.0</td>\n",
       "      <td>Commercial</td>\n",
       "      <td>Oui</td>\n",
       "      <td>66.0</td>\n",
       "      <td>CDI</td>\n",
       "      <td>24.0</td>\n",
       "      <td>4974.3200</td>\n",
       "      <td>32.0</td>\n",
       "      <td>...</td>\n",
       "      <td>F</td>\n",
       "      <td>Nicole Affré</td>\n",
       "      <td>640934749.0</td>\n",
       "      <td>1957-04-23</td>\n",
       "      <td>Célibataire</td>\n",
       "      <td>2.0</td>\n",
       "      <td>66</td>\n",
       "      <td>(60, 70]</td>\n",
       "      <td>1</td>\n",
       "      <td>[10, 15]</td>\n",
       "    </tr>\n",
       "    <tr>\n",
       "      <th>2</th>\n",
       "      <td>16020327-1465</td>\n",
       "      <td>11.9</td>\n",
       "      <td>65.0</td>\n",
       "      <td>RH</td>\n",
       "      <td>Non</td>\n",
       "      <td>59.0</td>\n",
       "      <td>CDI</td>\n",
       "      <td>32.0</td>\n",
       "      <td>8860.8000</td>\n",
       "      <td>19.0</td>\n",
       "      <td>...</td>\n",
       "      <td>F</td>\n",
       "      <td>Marie-Claire Bachelet</td>\n",
       "      <td>609243379.0</td>\n",
       "      <td>1973-08-19</td>\n",
       "      <td>Célibataire</td>\n",
       "      <td>3.0</td>\n",
       "      <td>50</td>\n",
       "      <td>(40, 50]</td>\n",
       "      <td>0</td>\n",
       "      <td>[10, 15]</td>\n",
       "    </tr>\n",
       "    <tr>\n",
       "      <th>3</th>\n",
       "      <td>16020701-3376</td>\n",
       "      <td>10.2</td>\n",
       "      <td>59.0</td>\n",
       "      <td>Compta Finances</td>\n",
       "      <td>Non</td>\n",
       "      <td>60.0</td>\n",
       "      <td>CDI</td>\n",
       "      <td>35.0</td>\n",
       "      <td>8328.0167</td>\n",
       "      <td>14.0</td>\n",
       "      <td>...</td>\n",
       "      <td>F</td>\n",
       "      <td>Claire Chagnon</td>\n",
       "      <td>683289092.0</td>\n",
       "      <td>1981-10-09</td>\n",
       "      <td>Célibataire</td>\n",
       "      <td>1.0</td>\n",
       "      <td>42</td>\n",
       "      <td>(40, 50]</td>\n",
       "      <td>0</td>\n",
       "      <td>[10, 15]</td>\n",
       "    </tr>\n",
       "    <tr>\n",
       "      <th>4</th>\n",
       "      <td>16020725-8401</td>\n",
       "      <td>7.9</td>\n",
       "      <td>59.0</td>\n",
       "      <td>Consultant</td>\n",
       "      <td>Non</td>\n",
       "      <td>34.0</td>\n",
       "      <td>CDI</td>\n",
       "      <td>35.0</td>\n",
       "      <td>7304.2667</td>\n",
       "      <td>17.0</td>\n",
       "      <td>...</td>\n",
       "      <td>F</td>\n",
       "      <td>Séverine Gaumont</td>\n",
       "      <td>684333280.0</td>\n",
       "      <td>1979-04-26</td>\n",
       "      <td>Marié</td>\n",
       "      <td>0.0</td>\n",
       "      <td>44</td>\n",
       "      <td>(40, 50]</td>\n",
       "      <td>0</td>\n",
       "      <td>[5, 10]</td>\n",
       "    </tr>\n",
       "    <tr>\n",
       "      <th>...</th>\n",
       "      <td>...</td>\n",
       "      <td>...</td>\n",
       "      <td>...</td>\n",
       "      <td>...</td>\n",
       "      <td>...</td>\n",
       "      <td>...</td>\n",
       "      <td>...</td>\n",
       "      <td>...</td>\n",
       "      <td>...</td>\n",
       "      <td>...</td>\n",
       "      <td>...</td>\n",
       "      <td>...</td>\n",
       "      <td>...</td>\n",
       "      <td>...</td>\n",
       "      <td>...</td>\n",
       "      <td>...</td>\n",
       "      <td>...</td>\n",
       "      <td>...</td>\n",
       "      <td>...</td>\n",
       "      <td>...</td>\n",
       "      <td>...</td>\n",
       "    </tr>\n",
       "    <tr>\n",
       "      <th>251</th>\n",
       "      <td>16960906-7989</td>\n",
       "      <td>3.3</td>\n",
       "      <td>15.0</td>\n",
       "      <td>R&amp;D</td>\n",
       "      <td>Oui</td>\n",
       "      <td>81.0</td>\n",
       "      <td>CDD</td>\n",
       "      <td>35.0</td>\n",
       "      <td>2848.3000</td>\n",
       "      <td>15.0</td>\n",
       "      <td>...</td>\n",
       "      <td>H</td>\n",
       "      <td>Fabien Cerf</td>\n",
       "      <td>626873728.0</td>\n",
       "      <td>1983-03-04</td>\n",
       "      <td>non précisé</td>\n",
       "      <td>0.0</td>\n",
       "      <td>40</td>\n",
       "      <td>(30, 40]</td>\n",
       "      <td>1</td>\n",
       "      <td>[0, 5]</td>\n",
       "    </tr>\n",
       "    <tr>\n",
       "      <th>252</th>\n",
       "      <td>16970415-1050</td>\n",
       "      <td>21.7</td>\n",
       "      <td>59.0</td>\n",
       "      <td>Consultant</td>\n",
       "      <td>Non</td>\n",
       "      <td>98.0</td>\n",
       "      <td>CDI</td>\n",
       "      <td>35.0</td>\n",
       "      <td>1697.1500</td>\n",
       "      <td>17.0</td>\n",
       "      <td>...</td>\n",
       "      <td>H</td>\n",
       "      <td>Denis Vérany</td>\n",
       "      <td>607599922.0</td>\n",
       "      <td>1963-10-25</td>\n",
       "      <td>Marié</td>\n",
       "      <td>3.0</td>\n",
       "      <td>60</td>\n",
       "      <td>(50, 60]</td>\n",
       "      <td>0</td>\n",
       "      <td>[20+]</td>\n",
       "    </tr>\n",
       "    <tr>\n",
       "      <th>253</th>\n",
       "      <td>16981206-3817</td>\n",
       "      <td>13.0</td>\n",
       "      <td>68.0</td>\n",
       "      <td>RH</td>\n",
       "      <td>Oui</td>\n",
       "      <td>62.0</td>\n",
       "      <td>CDI</td>\n",
       "      <td>35.0</td>\n",
       "      <td>3705.2167</td>\n",
       "      <td>29.0</td>\n",
       "      <td>...</td>\n",
       "      <td>F</td>\n",
       "      <td>Flora Lajoie</td>\n",
       "      <td>651981019.0</td>\n",
       "      <td>1970-01-19</td>\n",
       "      <td>non précisé</td>\n",
       "      <td>1.0</td>\n",
       "      <td>53</td>\n",
       "      <td>(50, 60]</td>\n",
       "      <td>1</td>\n",
       "      <td>[10, 15]</td>\n",
       "    </tr>\n",
       "    <tr>\n",
       "      <th>254</th>\n",
       "      <td>16990414-3527</td>\n",
       "      <td>10.8</td>\n",
       "      <td>32.0</td>\n",
       "      <td>Consultant</td>\n",
       "      <td>Non</td>\n",
       "      <td>39.0</td>\n",
       "      <td>CDI</td>\n",
       "      <td>35.0</td>\n",
       "      <td>4296.7167</td>\n",
       "      <td>39.0</td>\n",
       "      <td>...</td>\n",
       "      <td>H</td>\n",
       "      <td>Aurélien Beaubois</td>\n",
       "      <td>660488569.0</td>\n",
       "      <td>1955-07-01</td>\n",
       "      <td>Célibataire</td>\n",
       "      <td>0.0</td>\n",
       "      <td>68</td>\n",
       "      <td>(60, 70]</td>\n",
       "      <td>0</td>\n",
       "      <td>[10, 15]</td>\n",
       "    </tr>\n",
       "    <tr>\n",
       "      <th>255</th>\n",
       "      <td>16990924-2829</td>\n",
       "      <td>22.5</td>\n",
       "      <td>69.0</td>\n",
       "      <td>Consultant</td>\n",
       "      <td>Non</td>\n",
       "      <td>60.0</td>\n",
       "      <td>CDI</td>\n",
       "      <td>35.0</td>\n",
       "      <td>9873.5000</td>\n",
       "      <td>13.0</td>\n",
       "      <td>...</td>\n",
       "      <td>F</td>\n",
       "      <td>Laëtitia Rapace</td>\n",
       "      <td>624526743.0</td>\n",
       "      <td>1976-02-18</td>\n",
       "      <td>Marié</td>\n",
       "      <td>3.0</td>\n",
       "      <td>47</td>\n",
       "      <td>(40, 50]</td>\n",
       "      <td>0</td>\n",
       "      <td>[20+]</td>\n",
       "    </tr>\n",
       "  </tbody>\n",
       "</table>\n",
       "<p>256 rows × 22 columns</p>\n",
       "</div>"
      ],
      "text/plain": [
       "        id_salarié Ancienneté_an Distance domicile/Travail          Service  \\\n",
       "0    16000206-8278          12.6                      59.0        Marketing   \n",
       "1    16011205-0331          11.8                      31.0       Commercial   \n",
       "2    16020327-1465          11.9                      65.0               RH   \n",
       "3    16020701-3376          10.2                      59.0  Compta Finances   \n",
       "4    16020725-8401           7.9                      59.0       Consultant   \n",
       "..             ...           ...                       ...              ...   \n",
       "251  16960906-7989           3.3                      15.0              R&D   \n",
       "252  16970415-1050          21.7                      59.0       Consultant   \n",
       "253  16981206-3817          13.0                      68.0               RH   \n",
       "254  16990414-3527          10.8                      32.0       Consultant   \n",
       "255  16990924-2829          22.5                      69.0       Consultant   \n",
       "\n",
       "    Work_accident Niveau de satisfaction Contrat  Durée hebdo  \\\n",
       "0             Non                   67.0     CDI         35.0   \n",
       "1             Oui                   66.0     CDI         24.0   \n",
       "2             Non                   59.0     CDI         32.0   \n",
       "3             Non                   60.0     CDI         35.0   \n",
       "4             Non                   34.0     CDI         35.0   \n",
       "..            ...                    ...     ...          ...   \n",
       "251           Oui                   81.0     CDD         35.0   \n",
       "252           Non                   98.0     CDI         35.0   \n",
       "253           Oui                   62.0     CDI         35.0   \n",
       "254           Non                   39.0     CDI         35.0   \n",
       "255           Non                   60.0     CDI         35.0   \n",
       "\n",
       "     Salaire base mensuel  %variable_moyen  ...  Sexe             Prénom/Nom  \\\n",
       "0               6583.8500             13.0  ...     F         Pascale Duclos   \n",
       "1               4974.3200             32.0  ...     F           Nicole Affré   \n",
       "2               8860.8000             19.0  ...     F  Marie-Claire Bachelet   \n",
       "3               8328.0167             14.0  ...     F         Claire Chagnon   \n",
       "4               7304.2667             17.0  ...     F       Séverine Gaumont   \n",
       "..                    ...              ...  ...   ...                    ...   \n",
       "251             2848.3000             15.0  ...     H            Fabien Cerf   \n",
       "252             1697.1500             17.0  ...     H           Denis Vérany   \n",
       "253             3705.2167             29.0  ...     F           Flora Lajoie   \n",
       "254             4296.7167             39.0  ...     H      Aurélien Beaubois   \n",
       "255             9873.5000             13.0  ...     F        Laëtitia Rapace   \n",
       "\n",
       "       Telephone Date_naissance   Etat Civil Enfants age  tranche_age  \\\n",
       "0    677289138.0     1958-12-07  non précisé     2.0  65     (60, 70]   \n",
       "1    640934749.0     1957-04-23  Célibataire     2.0  66     (60, 70]   \n",
       "2    609243379.0     1973-08-19  Célibataire     3.0  50     (40, 50]   \n",
       "3    683289092.0     1981-10-09  Célibataire     1.0  42     (40, 50]   \n",
       "4    684333280.0     1979-04-26        Marié     0.0  44     (40, 50]   \n",
       "..           ...            ...          ...     ...  ..          ...   \n",
       "251  626873728.0     1983-03-04  non précisé     0.0  40     (30, 40]   \n",
       "252  607599922.0     1963-10-25        Marié     3.0  60     (50, 60]   \n",
       "253  651981019.0     1970-01-19  non précisé     1.0  53     (50, 60]   \n",
       "254  660488569.0     1955-07-01  Célibataire     0.0  68     (60, 70]   \n",
       "255  624526743.0     1976-02-18        Marié     3.0  47     (40, 50]   \n",
       "\n",
       "     Work_accident_bin An_cienneté  \n",
       "0                    0    [10, 15]  \n",
       "1                    1    [10, 15]  \n",
       "2                    0    [10, 15]  \n",
       "3                    0    [10, 15]  \n",
       "4                    0     [5, 10]  \n",
       "..                 ...         ...  \n",
       "251                  1      [0, 5]  \n",
       "252                  0       [20+]  \n",
       "253                  1    [10, 15]  \n",
       "254                  0    [10, 15]  \n",
       "255                  0       [20+]  \n",
       "\n",
       "[256 rows x 22 columns]"
      ]
     },
     "execution_count": 352,
     "metadata": {},
     "output_type": "execute_result"
    }
   ],
   "source": [
    "df"
   ]
  },
  {
   "cell_type": "code",
   "execution_count": 353,
   "id": "945eb235",
   "metadata": {},
   "outputs": [],
   "source": [
    "wa_p = df[\"Work_accident\"].value_counts()\n",
    "wa_labels = [\"Oui\", \"Non\"]\n",
    "wa_colors = [\"#13EAC9\", \"#C79FEF\"]"
   ]
  },
  {
   "cell_type": "code",
   "execution_count": 354,
   "id": "7d880f50",
   "metadata": {},
   "outputs": [
    {
     "data": {
      "text/plain": [
       "Oui    129\n",
       "Non    127\n",
       "Name: Work_accident, dtype: int64"
      ]
     },
     "execution_count": 354,
     "metadata": {},
     "output_type": "execute_result"
    }
   ],
   "source": [
    "wa_p"
   ]
  },
  {
   "cell_type": "code",
   "execution_count": 355,
   "id": "a4a113aa",
   "metadata": {},
   "outputs": [
    {
     "data": {
      "image/png": "[encoded data removed]",
      "text/plain": [
       "<Figure size 640x480 with 1 Axes>"
      ]
     },
     "metadata": {},
     "output_type": "display_data"
    }
   ],
   "source": [
    "plt.pie(x = wa_p, labels = wa_labels, colors = wa_colors, autopct ='%.0f%%')\n",
    "\n",
    "# Changing the pie chart to dont chart\n",
    "\n",
    "centre_circle = plt.Circle((0,0),0.80,fc='white')\n",
    "fig = plt.gcf()\n",
    "fig.gca().add_artist(centre_circle)\n",
    "\n",
    "plt.show()"
   ]
  },
  {
   "cell_type": "markdown",
   "id": "0e42d0c2",
   "metadata": {},
   "source": [
    "observation :\n",
    "    - il y'a autant de salarié qui ont eu un accident, qu'il y'en a qui n'en ont pas eu"
   ]
  },
  {
   "cell_type": "markdown",
   "id": "293a125e",
   "metadata": {},
   "source": [
    "## A bar chart to see the Total of work accident in the compagny per sexe "
   ]
  },
  {
   "cell_type": "code",
   "execution_count": 356,
   "id": "076d37bc",
   "metadata": {},
   "outputs": [],
   "source": [
    "wa_s_pivot = pd.pivot_table(data = df, index = \"Sexe\", values = \"Work_accident_bin\", aggfunc = 'count')"
   ]
  },
  {
   "cell_type": "code",
   "execution_count": 357,
   "id": "a5dc0877",
   "metadata": {},
   "outputs": [
    {
     "data": {
      "text/html": [
       "<div>\n",
       "<style scoped>\n",
       "    .dataframe tbody tr th:only-of-type {\n",
       "        vertical-align: middle;\n",
       "    }\n",
       "\n",
       "    .dataframe tbody tr th {\n",
       "        vertical-align: top;\n",
       "    }\n",
       "\n",
       "    .dataframe thead th {\n",
       "        text-align: right;\n",
       "    }\n",
       "</style>\n",
       "<table border=\"1\" class=\"dataframe\">\n",
       "  <thead>\n",
       "    <tr style=\"text-align: right;\">\n",
       "      <th></th>\n",
       "      <th>Work_accident_bin</th>\n",
       "    </tr>\n",
       "    <tr>\n",
       "      <th>Sexe</th>\n",
       "      <th></th>\n",
       "    </tr>\n",
       "  </thead>\n",
       "  <tbody>\n",
       "    <tr>\n",
       "      <th>F</th>\n",
       "      <td>125</td>\n",
       "    </tr>\n",
       "    <tr>\n",
       "      <th>H</th>\n",
       "      <td>131</td>\n",
       "    </tr>\n",
       "  </tbody>\n",
       "</table>\n",
       "</div>"
      ],
      "text/plain": [
       "      Work_accident_bin\n",
       "Sexe                   \n",
       "F                   125\n",
       "H                   131"
      ]
     },
     "execution_count": 357,
     "metadata": {},
     "output_type": "execute_result"
    }
   ],
   "source": [
    "wa_s_pivot"
   ]
  },
  {
   "cell_type": "code",
   "execution_count": 358,
   "id": "10b0a1ac",
   "metadata": {},
   "outputs": [],
   "source": [
    "wa_s_pivot_np = wa_s_pivot.to_numpy()"
   ]
  },
  {
   "cell_type": "code",
   "execution_count": 359,
   "id": "57f7975b",
   "metadata": {},
   "outputs": [],
   "source": [
    "wa_sf = wa_s_pivot_np[0, :]\n",
    "wa_sm = wa_s_pivot_np[1, :]\n",
    "wa_s = np.reshape(wa_s_pivot_np, (2,))\n",
    "wa_s_labels = [\"Femme\", \"Homme\"]\n",
    "wa_s_colors = [\"#C79FEF\", \"#13EAC9\"]"
   ]
  },
  {
   "cell_type": "code",
   "execution_count": 360,
   "id": "c0e0200e",
   "metadata": {},
   "outputs": [
    {
     "data": {
      "text/plain": [
       "array([125, 131])"
      ]
     },
     "execution_count": 360,
     "metadata": {},
     "output_type": "execute_result"
    }
   ],
   "source": [
    "wa_s"
   ]
  },
  {
   "cell_type": "code",
   "execution_count": 399,
   "id": "3d86aaa4",
   "metadata": {},
   "outputs": [
    {
     "data": {
      "text/plain": [
       "Text(0.5, 1.0, \"Le total d'accident de travail des salariés par sexe\")"
      ]
     },
     "execution_count": 399,
     "metadata": {},
     "output_type": "execute_result"
    },
    {
     "data": {
      "image/png": "[encoded data removed]",
      "text/plain": [
       "<Figure size 640x480 with 1 Axes>"
      ]
     },
     "metadata": {},
     "output_type": "display_data"
    }
   ],
   "source": [
    "fig, ax = plt.subplots()\n",
    "\n",
    "ax.bar(wa_s_labels, wa_s, color = wa_s_colors)\n",
    "\n",
    "ax.set_title(\"Le total d'accident de travail des salariés par sexe\")"
   ]
  },
  {
   "cell_type": "markdown",
   "id": "1bbca638",
   "metadata": {},
   "source": [
    "Observation :\n",
    "    - il y'a autant salariés homme que de salariés femme qui ont eu un accident\n",
    "    \n",
    "Conclusion : \n",
    "    - Être un homme ou une femme n'influe pas sur les chances d'avoir un accident de travail "
   ]
  },
  {
   "cell_type": "markdown",
   "id": "a7486e9d",
   "metadata": {},
   "source": [
    "## a bar chart to see the total of work accident in the company per Service"
   ]
  },
  {
   "cell_type": "code",
   "execution_count": 362,
   "id": "e2ddcac6",
   "metadata": {},
   "outputs": [],
   "source": [
    "wa_services_pivot = pd.pivot_table(data = df, index = \"Service\", columns= \"Work_accident\", values = \"Work_accident_bin\", \n",
    "                                   aggfunc = 'count')"
   ]
  },
  {
   "cell_type": "code",
   "execution_count": 363,
   "id": "1b959b5e",
   "metadata": {},
   "outputs": [
    {
     "data": {
      "text/html": [
       "<div>\n",
       "<style scoped>\n",
       "    .dataframe tbody tr th:only-of-type {\n",
       "        vertical-align: middle;\n",
       "    }\n",
       "\n",
       "    .dataframe tbody tr th {\n",
       "        vertical-align: top;\n",
       "    }\n",
       "\n",
       "    .dataframe thead th {\n",
       "        text-align: right;\n",
       "    }\n",
       "</style>\n",
       "<table border=\"1\" class=\"dataframe\">\n",
       "  <thead>\n",
       "    <tr style=\"text-align: right;\">\n",
       "      <th>Work_accident</th>\n",
       "      <th>Non</th>\n",
       "      <th>Oui</th>\n",
       "    </tr>\n",
       "    <tr>\n",
       "      <th>Service</th>\n",
       "      <th></th>\n",
       "      <th></th>\n",
       "    </tr>\n",
       "  </thead>\n",
       "  <tbody>\n",
       "    <tr>\n",
       "      <th>Commercial</th>\n",
       "      <td>21</td>\n",
       "      <td>31</td>\n",
       "    </tr>\n",
       "    <tr>\n",
       "      <th>Compta Finances</th>\n",
       "      <td>24</td>\n",
       "      <td>17</td>\n",
       "    </tr>\n",
       "    <tr>\n",
       "      <th>Consultant</th>\n",
       "      <td>36</td>\n",
       "      <td>33</td>\n",
       "    </tr>\n",
       "    <tr>\n",
       "      <th>Marketing</th>\n",
       "      <td>20</td>\n",
       "      <td>16</td>\n",
       "    </tr>\n",
       "    <tr>\n",
       "      <th>R&amp;D</th>\n",
       "      <td>4</td>\n",
       "      <td>11</td>\n",
       "    </tr>\n",
       "    <tr>\n",
       "      <th>RH</th>\n",
       "      <td>22</td>\n",
       "      <td>21</td>\n",
       "    </tr>\n",
       "  </tbody>\n",
       "</table>\n",
       "</div>"
      ],
      "text/plain": [
       "Work_accident    Non  Oui\n",
       "Service                  \n",
       "Commercial        21   31\n",
       "Compta Finances   24   17\n",
       "Consultant        36   33\n",
       "Marketing         20   16\n",
       "R&D                4   11\n",
       "RH                22   21"
      ]
     },
     "execution_count": 363,
     "metadata": {},
     "output_type": "execute_result"
    }
   ],
   "source": [
    "wa_services_pivot"
   ]
  },
  {
   "cell_type": "code",
   "execution_count": 364,
   "id": "391e9f43",
   "metadata": {},
   "outputs": [],
   "source": [
    "wa_services_np = wa_services_pivot.to_numpy()"
   ]
  },
  {
   "cell_type": "code",
   "execution_count": 365,
   "id": "c626f40b",
   "metadata": {},
   "outputs": [],
   "source": [
    "wa_service_non = wa_services_np[:, 0]\n",
    "wa_service_oui = wa_services_np[:, 1]\n",
    "wa_service_non_sorted = sorted(wa_service_non)\n",
    "wa_service_oui_sorted = sorted(wa_service_oui)\n",
    "wa_service_non_labels = [\"R&D\", \"Marketing\", \"Commercial\", \"RH\", \"Compta Finances\", \"Consultant\"]\n",
    "wa_service_oui_labels = [\"R&D\", \"Marketing\", \"Compta Finances\",  \"RH\", \"Commercial\", \"Consultant\"]\n",
    "wa_service_non_colors = [\"#EF4026\", \"#DBB40C\", \"#13EAC9\", \"#00FF00\", \"#BBF90F\", \"#0343DF\"]\n",
    "wa_service_oui_colors = [\"#EF4026\", \"#DBB40C\", \"#BBF90F\", \"#00FF00\", \"#13EAC9\",\"#0343DF\"]"
   ]
  },
  {
   "cell_type": "code",
   "execution_count": null,
   "id": "f0f943f3",
   "metadata": {},
   "outputs": [],
   "source": []
  },
  {
   "cell_type": "code",
   "execution_count": 403,
   "id": "efa8be6a",
   "metadata": {},
   "outputs": [
    {
     "data": {
      "text/plain": [
       "[4, 20, 21, 22, 24, 36]"
      ]
     },
     "execution_count": 403,
     "metadata": {},
     "output_type": "execute_result"
    }
   ],
   "source": [
    "wa_service_non_sorted"
   ]
  },
  {
   "cell_type": "code",
   "execution_count": 402,
   "id": "8cb92736",
   "metadata": {},
   "outputs": [
    {
     "data": {
      "text/plain": [
       "[11, 16, 17, 21, 31, 33]"
      ]
     },
     "execution_count": 402,
     "metadata": {},
     "output_type": "execute_result"
    }
   ],
   "source": [
    "wa_service_oui_sorted"
   ]
  },
  {
   "cell_type": "code",
   "execution_count": 400,
   "id": "f0351c58",
   "metadata": {},
   "outputs": [
    {
     "data": {
      "image/png": "[encoded data removed]",
      "text/plain": [
       "<Figure size 640x480 with 1 Axes>"
      ]
     },
     "metadata": {},
     "output_type": "display_data"
    }
   ],
   "source": [
    "fig, ax = plt.subplots()\n",
    "plt.bar(wa_service_non_labels, wa_service_non_sorted, color = wa_service_non_colors)\n",
    "\n",
    "plt.title(\"Total salariés n'ayant pas eu d'accident de Travail par Service\")\n",
    "plt.tick_params(axis = 'both', labelsize = 7)"
   ]
  },
  {
   "cell_type": "code",
   "execution_count": 401,
   "id": "d1f6af4e",
   "metadata": {},
   "outputs": [
    {
     "data": {
      "image/png": "[encoded data removed]",
      "text/plain": [
       "<Figure size 640x480 with 1 Axes>"
      ]
     },
     "metadata": {},
     "output_type": "display_data"
    }
   ],
   "source": [
    "fig, ax = plt.subplots()\n",
    "\n",
    "plt.bar(wa_service_oui_labels, wa_service_oui_sorted, color = wa_service_oui_colors)\n",
    "\n",
    "plt.title(\"Total salariés ayant eu au moins un accident de Travail par Service\")\n",
    "plt.tick_params(axis = 'both', labelsize = 7)"
   ]
  },
  {
   "cell_type": "markdown",
   "id": "1396e9cf",
   "metadata": {},
   "source": [
    "observation : \n",
    "    - On peut voir une forte augmentation d'accident de travail pour les salariés des services \"Commercial\" et \"Consultant\n",
    "    - Au contraire les salariés du service \"R&D\" ont bcp moins d'accident de travail \n",
    "    - Les autres services ont des total d'accidents de travail se situant entre ces deux extremes\n",
    "    \n",
    "Conclusion : Cettes forte augmentation dans les services \"Commercial\" et \"Consultant\" est surêment du au fait que leurs salariés ont besoin de se déplacer à de nombreuse reprise pour remplir leurs fonctions. \n",
    "\n",
    "On voit en effet que les R&D (qui n'ont pas vraiment besoin de se déplacer du au temps passé à se concentrer sur leurs recherches), sont le service qui ont le moins d'accident de travail"
   ]
  },
  {
   "cell_type": "markdown",
   "id": "6a726874",
   "metadata": {},
   "source": [
    "## Niveau de satisfaction des salariés par sexe "
   ]
  },
  {
   "cell_type": "code",
   "execution_count": 369,
   "id": "66ae15bb",
   "metadata": {},
   "outputs": [],
   "source": [
    "sas_pivot_table = pd.pivot_table(data = df,index = \"Sexe\", values = \"Niveau de satisfaction\", aggfunc = np.mean)"
   ]
  },
  {
   "cell_type": "code",
   "execution_count": 370,
   "id": "6a2ede89",
   "metadata": {},
   "outputs": [
    {
     "data": {
      "text/html": [
       "<div>\n",
       "<style scoped>\n",
       "    .dataframe tbody tr th:only-of-type {\n",
       "        vertical-align: middle;\n",
       "    }\n",
       "\n",
       "    .dataframe tbody tr th {\n",
       "        vertical-align: top;\n",
       "    }\n",
       "\n",
       "    .dataframe thead th {\n",
       "        text-align: right;\n",
       "    }\n",
       "</style>\n",
       "<table border=\"1\" class=\"dataframe\">\n",
       "  <thead>\n",
       "    <tr style=\"text-align: right;\">\n",
       "      <th></th>\n",
       "      <th>Niveau de satisfaction</th>\n",
       "    </tr>\n",
       "    <tr>\n",
       "      <th>Sexe</th>\n",
       "      <th></th>\n",
       "    </tr>\n",
       "  </thead>\n",
       "  <tbody>\n",
       "    <tr>\n",
       "      <th>F</th>\n",
       "      <td>49.888000</td>\n",
       "    </tr>\n",
       "    <tr>\n",
       "      <th>H</th>\n",
       "      <td>51.450382</td>\n",
       "    </tr>\n",
       "  </tbody>\n",
       "</table>\n",
       "</div>"
      ],
      "text/plain": [
       "      Niveau de satisfaction\n",
       "Sexe                        \n",
       "F                  49.888000\n",
       "H                  51.450382"
      ]
     },
     "execution_count": 370,
     "metadata": {},
     "output_type": "execute_result"
    }
   ],
   "source": [
    "sas_pivot_table"
   ]
  },
  {
   "cell_type": "code",
   "execution_count": 371,
   "id": "38d64f10",
   "metadata": {},
   "outputs": [],
   "source": [
    "sas_np = sas_pivot_table.to_numpy()\n",
    "sas_np = sas_np.reshape(2,)\n",
    "sas_f = sas_np[0]\n",
    "sas_m = sas_np[1]\n",
    "sas_labels = [\"Femme\", \"Homme\"]\n",
    "sas_colors = [\"#C79FEF\", \"#13EAC9\"]"
   ]
  },
  {
   "cell_type": "code",
   "execution_count": 404,
   "id": "465fe0dd",
   "metadata": {},
   "outputs": [
    {
     "data": {
      "text/plain": [
       "Text(0.5, 1.0, 'Niveau de satifaction des salariés par sexe')"
      ]
     },
     "execution_count": 404,
     "metadata": {},
     "output_type": "execute_result"
    },
    {
     "data": {
      "image/png": "[encoded data removed]",
      "text/plain": [
       "<Figure size 640x480 with 1 Axes>"
      ]
     },
     "metadata": {},
     "output_type": "display_data"
    }
   ],
   "source": [
    "fig, ax = plt.subplots()\n",
    "\n",
    "ax.bar(sas_labels, sas_np, color = sas_colors)\n",
    "\n",
    "ax.set_title(\"Niveau de satifaction des salariés par sexe\")"
   ]
  },
  {
   "cell_type": "markdown",
   "id": "a89b64fa",
   "metadata": {},
   "source": [
    "Observation:\n",
    "- Les femmes et les hommes ont globalement le même niveau de satisfaction\n",
    "- Globalement, être un homme ou une femme dans l'entreprise n'influe pas notre satisfaction"
   ]
  },
  {
   "cell_type": "code",
   "execution_count": 373,
   "id": "6eb9df5a",
   "metadata": {},
   "outputs": [],
   "source": [
    "sast_pivot_table = pd.pivot_table(data = df,index = \"tranche_age\", columns = \"Sexe\", values = \"Niveau de satisfaction\", \n",
    "                                 aggfunc = np.mean)"
   ]
  },
  {
   "cell_type": "code",
   "execution_count": 374,
   "id": "0eeed774",
   "metadata": {},
   "outputs": [
    {
     "data": {
      "text/html": [
       "<div>\n",
       "<style scoped>\n",
       "    .dataframe tbody tr th:only-of-type {\n",
       "        vertical-align: middle;\n",
       "    }\n",
       "\n",
       "    .dataframe tbody tr th {\n",
       "        vertical-align: top;\n",
       "    }\n",
       "\n",
       "    .dataframe thead th {\n",
       "        text-align: right;\n",
       "    }\n",
       "</style>\n",
       "<table border=\"1\" class=\"dataframe\">\n",
       "  <thead>\n",
       "    <tr style=\"text-align: right;\">\n",
       "      <th>Sexe</th>\n",
       "      <th>F</th>\n",
       "      <th>H</th>\n",
       "    </tr>\n",
       "    <tr>\n",
       "      <th>tranche_age</th>\n",
       "      <th></th>\n",
       "      <th></th>\n",
       "    </tr>\n",
       "  </thead>\n",
       "  <tbody>\n",
       "    <tr>\n",
       "      <th>(30, 40]</th>\n",
       "      <td>50.600000</td>\n",
       "      <td>47.733333</td>\n",
       "    </tr>\n",
       "    <tr>\n",
       "      <th>(40, 50]</th>\n",
       "      <td>48.114286</td>\n",
       "      <td>52.725000</td>\n",
       "    </tr>\n",
       "    <tr>\n",
       "      <th>(50, 60]</th>\n",
       "      <td>50.040816</td>\n",
       "      <td>53.938776</td>\n",
       "    </tr>\n",
       "    <tr>\n",
       "      <th>(60, 70]</th>\n",
       "      <td>51.576923</td>\n",
       "      <td>47.111111</td>\n",
       "    </tr>\n",
       "  </tbody>\n",
       "</table>\n",
       "</div>"
      ],
      "text/plain": [
       "Sexe                 F          H\n",
       "tranche_age                      \n",
       "(30, 40]     50.600000  47.733333\n",
       "(40, 50]     48.114286  52.725000\n",
       "(50, 60]     50.040816  53.938776\n",
       "(60, 70]     51.576923  47.111111"
      ]
     },
     "execution_count": 374,
     "metadata": {},
     "output_type": "execute_result"
    }
   ],
   "source": [
    "sast_pivot_table"
   ]
  },
  {
   "cell_type": "code",
   "execution_count": 375,
   "id": "2fcba753",
   "metadata": {},
   "outputs": [],
   "source": [
    "sast_np = sast_pivot_table.to_numpy()\n",
    "sast_f = sast_np[:, 0]\n",
    "sast_m = sast_np[:, 1]\n",
    "sast_f1 = sast_f.astype(int)\n",
    "sast_m1 = sast_m.astype(int)\n",
    "sast_colors_1 = [\"#C79FEF\"]\n",
    "sast_colors_2 = [\"#13EAC9\"]"
   ]
  },
  {
   "cell_type": "code",
   "execution_count": 376,
   "id": "d2da05bc",
   "metadata": {},
   "outputs": [
    {
     "data": {
      "text/plain": [
       "array([47.73333333, 52.725     , 53.93877551, 47.11111111])"
      ]
     },
     "execution_count": 376,
     "metadata": {},
     "output_type": "execute_result"
    }
   ],
   "source": [
    "sast_m"
   ]
  },
  {
   "cell_type": "code",
   "execution_count": 377,
   "id": "eb439e7c",
   "metadata": {},
   "outputs": [
    {
     "data": {
      "image/png": "[encoded data removed]",
      "text/plain": [
       "<Figure size 640x480 with 1 Axes>"
      ]
     },
     "metadata": {},
     "output_type": "display_data"
    }
   ],
   "source": [
    "labels = [\"30\", \"40\", \"50\", \"60+\"]\n",
    "men_means = list(sast_m1)\n",
    "women_means = list(sast_f1)\n",
    "\n",
    "x = np.arange(len(labels))  # the label locations\n",
    "width = 0.35  # the width of the bars\n",
    "\n",
    "fig, ax = plt.subplots()\n",
    "rects1 = ax.bar(x - width/2, men_means, width, label='Men', color = sast_colors_2)\n",
    "rects2 = ax.bar(x + width/2, women_means, width, label='Women', color = sast_colors_1)\n",
    "\n",
    "# Add some text for labels, title and custom x-axis tick labels, etc.\n",
    "ax.set_ylabel('Nombre de salariés')\n",
    "ax.set_title('Niveau de satisfaction des salariés par sexe')\n",
    "ax.set_xticks(x)\n",
    "ax.set_xticklabels(labels)\n",
    "ax.legend()\n",
    "\n",
    "\n",
    "def autolabel(rects):\n",
    "    \"\"\"Attach a text label above each bar in *rects*, displaying its height.\"\"\"\n",
    "    for rect in rects:\n",
    "        height = rect.get_height()\n",
    "        ax.annotate('{}'.format(height),\n",
    "                    xy=(rect.get_x() + rect.get_width() / 2, height),\n",
    "                    xytext=(0, 3),  # 3 points vertical offset\n",
    "                    textcoords=\"offset points\",\n",
    "                    ha='center', va='bottom')\n",
    "\n",
    "\n",
    "autolabel(rects1)\n",
    "autolabel(rects2)\n",
    "\n",
    "fig.tight_layout()\n",
    "\n",
    "plt.show()"
   ]
  },
  {
   "cell_type": "markdown",
   "id": "db651785",
   "metadata": {},
   "source": [
    "Observation:\n",
    "- Les femmes et les hommes ont globalement le même niveau de satisfaction\n",
    "- Globalement, être un homme ou une femme dans l'entreprise n'influe pas notre satisfaction"
   ]
  },
  {
   "cell_type": "markdown",
   "id": "41c110f4",
   "metadata": {},
   "source": [
    "## CDI par sexe "
   ]
  },
  {
   "cell_type": "code",
   "execution_count": 378,
   "id": "4ec16194",
   "metadata": {},
   "outputs": [],
   "source": [
    "df_CDI = df.loc[df[\"Contrat\"] == \"CDI\"]\n",
    "df_CDD = df.loc[df[\"Contrat\"] == \"CDD\"]"
   ]
  },
  {
   "cell_type": "code",
   "execution_count": 379,
   "id": "5b34728e",
   "metadata": {},
   "outputs": [],
   "source": [
    "cdi_pivot_table = pd.pivot_table(data = df_CDI, index = \"Sexe\", values = \"Contrat\", aggfunc = 'count')"
   ]
  },
  {
   "cell_type": "code",
   "execution_count": 380,
   "id": "df266272",
   "metadata": {},
   "outputs": [
    {
     "data": {
      "text/html": [
       "<div>\n",
       "<style scoped>\n",
       "    .dataframe tbody tr th:only-of-type {\n",
       "        vertical-align: middle;\n",
       "    }\n",
       "\n",
       "    .dataframe tbody tr th {\n",
       "        vertical-align: top;\n",
       "    }\n",
       "\n",
       "    .dataframe thead th {\n",
       "        text-align: right;\n",
       "    }\n",
       "</style>\n",
       "<table border=\"1\" class=\"dataframe\">\n",
       "  <thead>\n",
       "    <tr style=\"text-align: right;\">\n",
       "      <th></th>\n",
       "      <th>Contrat</th>\n",
       "    </tr>\n",
       "    <tr>\n",
       "      <th>Sexe</th>\n",
       "      <th></th>\n",
       "    </tr>\n",
       "  </thead>\n",
       "  <tbody>\n",
       "    <tr>\n",
       "      <th>F</th>\n",
       "      <td>114</td>\n",
       "    </tr>\n",
       "    <tr>\n",
       "      <th>H</th>\n",
       "      <td>126</td>\n",
       "    </tr>\n",
       "  </tbody>\n",
       "</table>\n",
       "</div>"
      ],
      "text/plain": [
       "      Contrat\n",
       "Sexe         \n",
       "F         114\n",
       "H         126"
      ]
     },
     "execution_count": 380,
     "metadata": {},
     "output_type": "execute_result"
    }
   ],
   "source": [
    "cdi_pivot_table"
   ]
  },
  {
   "cell_type": "code",
   "execution_count": 381,
   "id": "62d5f011",
   "metadata": {},
   "outputs": [],
   "source": [
    "cdi_1_pivot_table = pd.pivot_table(data = df_CDI, index = \"tranche_age\", columns = \"Sexe\", values = \"Contrat\",\n",
    "                                aggfunc = 'count')\n",
    "cdi_1_pivot = cdi_1_pivot_table[3:7]"
   ]
  },
  {
   "cell_type": "code",
   "execution_count": 382,
   "id": "3d33f344",
   "metadata": {},
   "outputs": [
    {
     "data": {
      "text/html": [
       "<div>\n",
       "<style scoped>\n",
       "    .dataframe tbody tr th:only-of-type {\n",
       "        vertical-align: middle;\n",
       "    }\n",
       "\n",
       "    .dataframe tbody tr th {\n",
       "        vertical-align: top;\n",
       "    }\n",
       "\n",
       "    .dataframe thead th {\n",
       "        text-align: right;\n",
       "    }\n",
       "</style>\n",
       "<table border=\"1\" class=\"dataframe\">\n",
       "  <thead>\n",
       "    <tr style=\"text-align: right;\">\n",
       "      <th>Sexe</th>\n",
       "      <th>F</th>\n",
       "      <th>H</th>\n",
       "    </tr>\n",
       "    <tr>\n",
       "      <th>tranche_age</th>\n",
       "      <th></th>\n",
       "      <th></th>\n",
       "    </tr>\n",
       "  </thead>\n",
       "  <tbody>\n",
       "    <tr>\n",
       "      <th>(30, 40]</th>\n",
       "      <td>12</td>\n",
       "      <td>14</td>\n",
       "    </tr>\n",
       "    <tr>\n",
       "      <th>(40, 50]</th>\n",
       "      <td>35</td>\n",
       "      <td>37</td>\n",
       "    </tr>\n",
       "    <tr>\n",
       "      <th>(50, 60]</th>\n",
       "      <td>43</td>\n",
       "      <td>48</td>\n",
       "    </tr>\n",
       "    <tr>\n",
       "      <th>(60, 70]</th>\n",
       "      <td>24</td>\n",
       "      <td>27</td>\n",
       "    </tr>\n",
       "  </tbody>\n",
       "</table>\n",
       "</div>"
      ],
      "text/plain": [
       "Sexe          F   H\n",
       "tranche_age        \n",
       "(30, 40]     12  14\n",
       "(40, 50]     35  37\n",
       "(50, 60]     43  48\n",
       "(60, 70]     24  27"
      ]
     },
     "execution_count": 382,
     "metadata": {},
     "output_type": "execute_result"
    }
   ],
   "source": [
    "cdi_1_pivot"
   ]
  },
  {
   "cell_type": "code",
   "execution_count": 383,
   "id": "8c1d5020",
   "metadata": {},
   "outputs": [],
   "source": [
    "cdi_np = cdi_pivot_table.to_numpy()\n",
    "cdi_np = cdi_np.reshape(2,)\n",
    "cdi_1_np = cdi_1_pivot.to_numpy()\n",
    "\n",
    "cdi_1f = cdi_1_np[:, 0]\n",
    "cdi_1m = cdi_1_np[:, 1]\n",
    "cdi_labels = [\"Femme\", \"Homme\"]\n",
    "cdi_1_labels = [\"30\", \"40\", \"50\", \"60\"]\n",
    "cdi_colors = [\"#C79FEF\", \"#13EAC9\"]\n",
    "cdi_1_colors_f = [\"#C79FEF\"]\n",
    "cdi_1_colors_m = [\"#13EAC9\"]"
   ]
  },
  {
   "cell_type": "code",
   "execution_count": 384,
   "id": "8107756d",
   "metadata": {
    "scrolled": false
   },
   "outputs": [
    {
     "data": {
      "text/plain": [
       "Text(0, 0.5, 'Nombre de salariés')"
      ]
     },
     "execution_count": 384,
     "metadata": {},
     "output_type": "execute_result"
    },
    {
     "data": {
      "image/png": "[encoded data removed]",
      "text/plain": [
       "<Figure size 640x480 with 1 Axes>"
      ]
     },
     "metadata": {},
     "output_type": "display_data"
    }
   ],
   "source": [
    "fig, ax = plt.subplots()\n",
    "\n",
    "ax.bar(cdi_labels, cdi_np, color = cdi_colors)\n",
    "\n",
    "ax.set_title('Total de salariés en CDI par sexe')\n",
    "ax.set_ylabel('Nombre de salariés')"
   ]
  },
  {
   "cell_type": "code",
   "execution_count": 405,
   "id": "7985f846",
   "metadata": {},
   "outputs": [
    {
     "data": {
      "image/png": "[encoded data removed]",
      "text/plain": [
       "<Figure size 640x480 with 1 Axes>"
      ]
     },
     "metadata": {},
     "output_type": "display_data"
    }
   ],
   "source": [
    "x = np.arange(len(cdi_1_labels))  # the label locations\n",
    "width = 0.35  # the width of the bars\n",
    "\n",
    "fig, ax = plt.subplots()\n",
    "rects1 = ax.bar(x - width/2, cdi_1m, width, label='Men', color = cdi_1_colors_f)\n",
    "rects2 = ax.bar(x + width/2, cdi_1f, width, label='Women', color = cdi_1_colors_m)\n",
    "\n",
    "# Add some text for labels, title and custom x-axis tick labels, etc.\n",
    "ax.set_ylabel('Nombre de salariés')\n",
    "ax.set_title('Total de salariés en CDI par sexe')\n",
    "ax.set_xticks(x)\n",
    "ax.set_xticklabels(cdi_1_labels)\n",
    "ax.legend()\n",
    "\n",
    "\n",
    "def autolabel(rects):\n",
    "    \"\"\"Attach a text label above each bar in *rects*, displaying its height.\"\"\"\n",
    "    for rect in rects:\n",
    "        height = rect.get_height()\n",
    "        ax.annotate('{}'.format(height),\n",
    "                    xy=(rect.get_x() + rect.get_width() / 2, height),\n",
    "                    xytext=(0, 3),  # 3 points vertical offset\n",
    "                    textcoords=\"offset points\",\n",
    "                    ha='center', va='bottom')\n",
    "\n",
    "\n",
    "autolabel(rects1)\n",
    "autolabel(rects2)\n",
    "\n",
    "fig.tight_layout()\n",
    "\n",
    "plt.show()"
   ]
  },
  {
   "cell_type": "markdown",
   "id": "047365da",
   "metadata": {},
   "source": [
    "Observations:\n",
    "- On voit qu'il n'a pas une différence significative du nombre de salariés homme ou femme en CDI.\n",
    "- Donc on ne peut pas dire qu'être un homme ou une femme augmente les chances de décrocher un CDI."
   ]
  },
  {
   "cell_type": "markdown",
   "id": "e2a15d9f",
   "metadata": {},
   "source": [
    "## CDD par Sexe"
   ]
  },
  {
   "cell_type": "code",
   "execution_count": 386,
   "id": "1d7bd0db",
   "metadata": {},
   "outputs": [],
   "source": [
    "df_CDD = df.loc[df[\"Contrat\"] == \"CDD\"]"
   ]
  },
  {
   "cell_type": "code",
   "execution_count": 387,
   "id": "b8f69df9",
   "metadata": {},
   "outputs": [],
   "source": [
    "cdd_pivot_table = pd.pivot_table(data = df_CDD, index = \"Sexe\", values = \"Contrat\", aggfunc = 'count')"
   ]
  },
  {
   "cell_type": "code",
   "execution_count": 388,
   "id": "2e5535dd",
   "metadata": {},
   "outputs": [
    {
     "data": {
      "text/html": [
       "<div>\n",
       "<style scoped>\n",
       "    .dataframe tbody tr th:only-of-type {\n",
       "        vertical-align: middle;\n",
       "    }\n",
       "\n",
       "    .dataframe tbody tr th {\n",
       "        vertical-align: top;\n",
       "    }\n",
       "\n",
       "    .dataframe thead th {\n",
       "        text-align: right;\n",
       "    }\n",
       "</style>\n",
       "<table border=\"1\" class=\"dataframe\">\n",
       "  <thead>\n",
       "    <tr style=\"text-align: right;\">\n",
       "      <th></th>\n",
       "      <th>Contrat</th>\n",
       "    </tr>\n",
       "    <tr>\n",
       "      <th>Sexe</th>\n",
       "      <th></th>\n",
       "    </tr>\n",
       "  </thead>\n",
       "  <tbody>\n",
       "    <tr>\n",
       "      <th>F</th>\n",
       "      <td>11</td>\n",
       "    </tr>\n",
       "    <tr>\n",
       "      <th>H</th>\n",
       "      <td>5</td>\n",
       "    </tr>\n",
       "  </tbody>\n",
       "</table>\n",
       "</div>"
      ],
      "text/plain": [
       "      Contrat\n",
       "Sexe         \n",
       "F          11\n",
       "H           5"
      ]
     },
     "execution_count": 388,
     "metadata": {},
     "output_type": "execute_result"
    }
   ],
   "source": [
    "cdd_pivot_table "
   ]
  },
  {
   "cell_type": "code",
   "execution_count": 389,
   "id": "aa682ab6",
   "metadata": {},
   "outputs": [],
   "source": [
    "cdd_1_pivot_table = pd.pivot_table(data = df_CDD, index = \"tranche_age\", columns = \"Sexe\", values = \"Contrat\",\n",
    "                                aggfunc = 'count')\n",
    "cdd_1_pivot = cdd_1_pivot_table[3:7]"
   ]
  },
  {
   "cell_type": "code",
   "execution_count": 390,
   "id": "4f02643e",
   "metadata": {},
   "outputs": [
    {
     "data": {
      "text/html": [
       "<div>\n",
       "<style scoped>\n",
       "    .dataframe tbody tr th:only-of-type {\n",
       "        vertical-align: middle;\n",
       "    }\n",
       "\n",
       "    .dataframe tbody tr th {\n",
       "        vertical-align: top;\n",
       "    }\n",
       "\n",
       "    .dataframe thead th {\n",
       "        text-align: right;\n",
       "    }\n",
       "</style>\n",
       "<table border=\"1\" class=\"dataframe\">\n",
       "  <thead>\n",
       "    <tr style=\"text-align: right;\">\n",
       "      <th>Sexe</th>\n",
       "      <th>F</th>\n",
       "      <th>H</th>\n",
       "    </tr>\n",
       "    <tr>\n",
       "      <th>tranche_age</th>\n",
       "      <th></th>\n",
       "      <th></th>\n",
       "    </tr>\n",
       "  </thead>\n",
       "  <tbody>\n",
       "    <tr>\n",
       "      <th>(30, 40]</th>\n",
       "      <td>3</td>\n",
       "      <td>1</td>\n",
       "    </tr>\n",
       "    <tr>\n",
       "      <th>(40, 50]</th>\n",
       "      <td>0</td>\n",
       "      <td>3</td>\n",
       "    </tr>\n",
       "    <tr>\n",
       "      <th>(50, 60]</th>\n",
       "      <td>6</td>\n",
       "      <td>1</td>\n",
       "    </tr>\n",
       "    <tr>\n",
       "      <th>(60, 70]</th>\n",
       "      <td>2</td>\n",
       "      <td>0</td>\n",
       "    </tr>\n",
       "  </tbody>\n",
       "</table>\n",
       "</div>"
      ],
      "text/plain": [
       "Sexe         F  H\n",
       "tranche_age      \n",
       "(30, 40]     3  1\n",
       "(40, 50]     0  3\n",
       "(50, 60]     6  1\n",
       "(60, 70]     2  0"
      ]
     },
     "execution_count": 390,
     "metadata": {},
     "output_type": "execute_result"
    }
   ],
   "source": [
    "cdd_1_pivot"
   ]
  },
  {
   "cell_type": "code",
   "execution_count": 391,
   "id": "58f8dfc0",
   "metadata": {},
   "outputs": [],
   "source": [
    "cdd_np = cdd_pivot_table.to_numpy()\n",
    "cdd_np = cdd_np.reshape(2,)\n",
    "cdd_1_np = cdd_1_pivot.to_numpy()\n",
    "\n",
    "cdd_1f = cdd_1_np[:, 0]\n",
    "cdd_1m = cdd_1_np[:, 1]\n",
    "cdd_labels = [\"Femme\", \"Homme\"]\n",
    "cdd_1_labels = [\"30\", \"40\", \"50\", \"60\"]\n",
    "cdd_colors = [\"#C79FEF\", \"#13EAC9\"]\n",
    "cdd_1_colors_f = [\"#C79FEF\"]\n",
    "cdd_1_colors_m = [\"#13EAC9\"]"
   ]
  },
  {
   "cell_type": "code",
   "execution_count": 392,
   "id": "378e5fd9",
   "metadata": {},
   "outputs": [
    {
     "data": {
      "text/plain": [
       "Text(0, 0.5, 'Nombre de salariés')"
      ]
     },
     "execution_count": 392,
     "metadata": {},
     "output_type": "execute_result"
    },
    {
     "data": {
      "image/png": "[encoded data removed]",
      "text/plain": [
       "<Figure size 640x480 with 1 Axes>"
      ]
     },
     "metadata": {},
     "output_type": "display_data"
    }
   ],
   "source": [
    "fig, ax = plt.subplots()\n",
    "\n",
    "ax.bar(cdd_labels, cdd_np, color = cdd_colors)\n",
    "\n",
    "ax.set_title('Total de salariés en CDD par sexe')\n",
    "ax.set_ylabel('Nombre de salariés')"
   ]
  },
  {
   "cell_type": "code",
   "execution_count": 393,
   "id": "550ce166",
   "metadata": {},
   "outputs": [
    {
     "data": {
      "image/png": "[encoded data removed]",
      "text/plain": [
       "<Figure size 640x480 with 1 Axes>"
      ]
     },
     "metadata": {},
     "output_type": "display_data"
    }
   ],
   "source": [
    "x = np.arange(len(cdd_1_labels))  # the label locations\n",
    "width = 0.35  # the width of the bars\n",
    "\n",
    "fig, ax = plt.subplots()\n",
    "rects1 = ax.bar(x - width/2, cdd_1m, width, label='Men', color = cdd_1_colors_m)\n",
    "rects2 = ax.bar(x + width/2, cdd_1f, width, label='Women', color = cdd_1_colors_f)\n",
    "\n",
    "# Add some text for labels, title and custom x-axis tick labels, etc.\n",
    "ax.set_ylabel('Nombre de salariés')\n",
    "ax.set_title('Niveau de satisfaction des salariés par sexe')\n",
    "ax.set_xticks(x)\n",
    "ax.set_xticklabels(cdd_1_labels)\n",
    "ax.legend()\n",
    "\n",
    "\n",
    "def autolabel(rects):\n",
    "    \"\"\"Attach a text label above each bar in *rects*, displaying its height.\"\"\"\n",
    "    for rect in rects:\n",
    "        height = rect.get_height()\n",
    "        ax.annotate('{}'.format(height),\n",
    "                    xy=(rect.get_x() + rect.get_width() / 2, height),\n",
    "                    xytext=(0, 3),  # 3 points vertical offset\n",
    "                    textcoords=\"offset points\",\n",
    "                    ha='center', va='bottom')\n",
    "\n",
    "\n",
    "autolabel(rects1)\n",
    "autolabel(rects2)\n",
    "\n",
    "fig.tight_layout()\n",
    "\n",
    "plt.show()"
   ]
  },
  {
   "cell_type": "markdown",
   "id": "4c8b8a28",
   "metadata": {},
   "source": [
    "Observation:\n",
    "- je pense que l'on possède trop peu d'information pour en conclure qu'il y'a une réelle influence d'être un homme ou une femme sur les postes en cdd"
   ]
  }
 ],
 "metadata": {
  "kernelspec": {
   "display_name": "Python 3 (ipykernel)",
   "language": "python",
   "name": "python3"
  },
  "language_info": {
   "codemirror_mode": {
    "name": "ipython",
    "version": 3
   },
   "file_extension": ".py",
   "mimetype": "text/x-python",
   "name": "python",
   "nbconvert_exporter": "python",
   "pygments_lexer": "ipython3",
   "version": "3.8.12"
  },
  "toc": {
   "base_numbering": 1,
   "nav_menu": {},
   "number_sections": true,
   "sideBar": true,
   "skip_h1_title": false,
   "title_cell": "Table of Contents",
   "title_sidebar": "Contents",
   "toc_cell": false,
   "toc_position": {},
   "toc_section_display": true,
   "toc_window_display": false
  }
 },
 "nbformat": 4,
 "nbformat_minor": 5
}
